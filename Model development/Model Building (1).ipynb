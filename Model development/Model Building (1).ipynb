{
 "cells": [
  {
   "cell_type": "code",
   "execution_count": 1,
   "id": "a5d9642b",
   "metadata": {},
   "outputs": [],
   "source": [
    "import pandas as pd\n",
    "import glob\n",
    "from vaderSentiment.vaderSentiment import SentimentIntensityAnalyzer\n",
    "from wordcloud import WordCloud\n",
    "from nltk.corpus import stopwords\n",
    "from nltk.tokenize import sent_tokenize, word_tokenize\n",
    "from textblob import TextBlob\n",
    "from textblob.sentiments import NaiveBayesAnalyzer\n",
    "import string\n",
    "import matplotlib.pyplot as plt\n",
    "import matplotlib as mpl\n",
    "import nltk.classify.util\n",
    "from sklearn.model_selection import train_test_split\n",
    "from sklearn.metrics import confusion_matrix\n",
    "from sklearn import metrics\n",
    "from sklearn.metrics import roc_curve, auc\n",
    "from nltk.classify import NaiveBayesClassifier\n",
    "import numpy as np\n",
    "import re\n",
    "import string\n",
    "import nltk\n",
    "%matplotlib inline\n",
    "import warnings\n",
    "warnings.filterwarnings('ignore')\n",
    "from sklearn.metrics import cohen_kappa_score"
   ]
  },
  {
   "cell_type": "code",
   "execution_count": 2,
   "id": "80cbca04",
   "metadata": {},
   "outputs": [],
   "source": [
    "df = pd.read_csv(\"E://P 58//EDA//camera_EDA.csv\",encoding='utf-8').astype(str)"
   ]
  },
  {
   "cell_type": "code",
   "execution_count": 3,
   "id": "c8906211",
   "metadata": {},
   "outputs": [
    {
     "data": {
      "text/html": [
       "<div>\n",
       "<style scoped>\n",
       "    .dataframe tbody tr th:only-of-type {\n",
       "        vertical-align: middle;\n",
       "    }\n",
       "\n",
       "    .dataframe tbody tr th {\n",
       "        vertical-align: top;\n",
       "    }\n",
       "\n",
       "    .dataframe thead th {\n",
       "        text-align: right;\n",
       "    }\n",
       "</style>\n",
       "<table border=\"1\" class=\"dataframe\">\n",
       "  <thead>\n",
       "    <tr style=\"text-align: right;\">\n",
       "      <th></th>\n",
       "      <th>Unnamed: 0</th>\n",
       "      <th>reviews</th>\n",
       "      <th>ratings</th>\n",
       "    </tr>\n",
       "  </thead>\n",
       "  <tbody>\n",
       "    <tr>\n",
       "      <th>0</th>\n",
       "      <td>0</td>\n",
       "      <td>ok dslr giant canon launched entry level dslr ...</td>\n",
       "      <td>2.0</td>\n",
       "    </tr>\n",
       "    <tr>\n",
       "      <th>1</th>\n",
       "      <td>1</td>\n",
       "      <td>good camera beginner</td>\n",
       "      <td>5.0</td>\n",
       "    </tr>\n",
       "    <tr>\n",
       "      <th>2</th>\n",
       "      <td>2</td>\n",
       "      <td>great camera perfect product young budding pho...</td>\n",
       "      <td>5.0</td>\n",
       "    </tr>\n",
       "    <tr>\n",
       "      <th>3</th>\n",
       "      <td>3</td>\n",
       "      <td>really impressed amazon surprise delivering wi...</td>\n",
       "      <td>5.0</td>\n",
       "    </tr>\n",
       "    <tr>\n",
       "      <th>4</th>\n",
       "      <td>4</td>\n",
       "      <td>buy product canon local service center help ev...</td>\n",
       "      <td>1.0</td>\n",
       "    </tr>\n",
       "    <tr>\n",
       "      <th>5</th>\n",
       "      <td>5</td>\n",
       "      <td>request replacement camera main body lot black...</td>\n",
       "      <td>1.0</td>\n",
       "    </tr>\n",
       "    <tr>\n",
       "      <th>6</th>\n",
       "      <td>6</td>\n",
       "      <td>received product dslr cannon october adopter g...</td>\n",
       "      <td>2.0</td>\n",
       "    </tr>\n",
       "    <tr>\n",
       "      <th>7</th>\n",
       "      <td>7</td>\n",
       "      <td>auto focus perfectminimum aperture dont expect...</td>\n",
       "      <td>3.0</td>\n",
       "    </tr>\n",
       "    <tr>\n",
       "      <th>8</th>\n",
       "      <td>8</td>\n",
       "      <td>want upgrade camera point shoot dslr good came...</td>\n",
       "      <td>4.0</td>\n",
       "    </tr>\n",
       "    <tr>\n",
       "      <th>9</th>\n",
       "      <td>9</td>\n",
       "      <td>really fully content product reached within tw...</td>\n",
       "      <td>5.0</td>\n",
       "    </tr>\n",
       "  </tbody>\n",
       "</table>\n",
       "</div>"
      ],
      "text/plain": [
       "  Unnamed: 0                                            reviews ratings\n",
       "0          0  ok dslr giant canon launched entry level dslr ...     2.0\n",
       "1          1                               good camera beginner     5.0\n",
       "2          2  great camera perfect product young budding pho...     5.0\n",
       "3          3  really impressed amazon surprise delivering wi...     5.0\n",
       "4          4  buy product canon local service center help ev...     1.0\n",
       "5          5  request replacement camera main body lot black...     1.0\n",
       "6          6  received product dslr cannon october adopter g...     2.0\n",
       "7          7  auto focus perfectminimum aperture dont expect...     3.0\n",
       "8          8  want upgrade camera point shoot dslr good came...     4.0\n",
       "9          9  really fully content product reached within tw...     5.0"
      ]
     },
     "execution_count": 3,
     "metadata": {},
     "output_type": "execute_result"
    }
   ],
   "source": [
    "df.head(10)"
   ]
  },
  {
   "cell_type": "code",
   "execution_count": 4,
   "id": "5811e940",
   "metadata": {},
   "outputs": [
    {
     "data": {
      "text/html": [
       "<div>\n",
       "<style scoped>\n",
       "    .dataframe tbody tr th:only-of-type {\n",
       "        vertical-align: middle;\n",
       "    }\n",
       "\n",
       "    .dataframe tbody tr th {\n",
       "        vertical-align: top;\n",
       "    }\n",
       "\n",
       "    .dataframe thead th {\n",
       "        text-align: right;\n",
       "    }\n",
       "</style>\n",
       "<table border=\"1\" class=\"dataframe\">\n",
       "  <thead>\n",
       "    <tr style=\"text-align: right;\">\n",
       "      <th></th>\n",
       "      <th>Unnamed: 0</th>\n",
       "      <th>reviews</th>\n",
       "      <th>ratings</th>\n",
       "    </tr>\n",
       "  </thead>\n",
       "  <tbody>\n",
       "    <tr>\n",
       "      <th>0</th>\n",
       "      <td>0</td>\n",
       "      <td>ok dslr giant canon launched entry level dslr ...</td>\n",
       "      <td>2.0</td>\n",
       "    </tr>\n",
       "    <tr>\n",
       "      <th>1</th>\n",
       "      <td>1</td>\n",
       "      <td>good camera beginner</td>\n",
       "      <td>5.0</td>\n",
       "    </tr>\n",
       "    <tr>\n",
       "      <th>2</th>\n",
       "      <td>2</td>\n",
       "      <td>great camera perfect product young budding pho...</td>\n",
       "      <td>5.0</td>\n",
       "    </tr>\n",
       "    <tr>\n",
       "      <th>3</th>\n",
       "      <td>3</td>\n",
       "      <td>really impressed amazon surprise delivering wi...</td>\n",
       "      <td>5.0</td>\n",
       "    </tr>\n",
       "    <tr>\n",
       "      <th>4</th>\n",
       "      <td>4</td>\n",
       "      <td>buy product canon local service center help ev...</td>\n",
       "      <td>1.0</td>\n",
       "    </tr>\n",
       "  </tbody>\n",
       "</table>\n",
       "</div>"
      ],
      "text/plain": [
       "  Unnamed: 0                                            reviews ratings\n",
       "0          0  ok dslr giant canon launched entry level dslr ...     2.0\n",
       "1          1                               good camera beginner     5.0\n",
       "2          2  great camera perfect product young budding pho...     5.0\n",
       "3          3  really impressed amazon surprise delivering wi...     5.0\n",
       "4          4  buy product canon local service center help ev...     1.0"
      ]
     },
     "execution_count": 4,
     "metadata": {},
     "output_type": "execute_result"
    }
   ],
   "source": [
    "df.head(5)"
   ]
  },
  {
   "cell_type": "code",
   "execution_count": 5,
   "id": "8dd5f202",
   "metadata": {},
   "outputs": [],
   "source": [
    "def NaiveBaiyes_Sentimental(sentence):\n",
    "    blob = TextBlob(sentence, analyzer=NaiveBayesAnalyzer())\n",
    "    NaiveBayes_SentimentScore=blob.sentiment.classification\n",
    "    return NaiveBayes_SentimentScore"
   ]
  },
  {
   "cell_type": "code",
   "execution_count": 6,
   "id": "9cc873cf",
   "metadata": {},
   "outputs": [
    {
     "name": "stderr",
     "output_type": "stream",
     "text": [
      "[nltk_data] Downloading package vader_lexicon to\n",
      "[nltk_data]     C:\\Users\\DELL\\AppData\\Roaming\\nltk_data...\n",
      "[nltk_data]   Package vader_lexicon is already up-to-date!\n"
     ]
    },
    {
     "data": {
      "text/plain": [
       "True"
      ]
     },
     "execution_count": 6,
     "metadata": {},
     "output_type": "execute_result"
    }
   ],
   "source": [
    "nltk.download('vader_lexicon')"
   ]
  },
  {
   "cell_type": "code",
   "execution_count": 7,
   "id": "2b997359",
   "metadata": {},
   "outputs": [],
   "source": [
    "from nltk.sentiment.vader import SentimentIntensityAnalyzer\n",
    "\n",
    "sid = SentimentIntensityAnalyzer()"
   ]
  },
  {
   "cell_type": "code",
   "execution_count": 8,
   "id": "ca77bd3d",
   "metadata": {},
   "outputs": [
    {
     "data": {
      "text/plain": [
       "{'neg': 0.0, 'neu': 0.508, 'pos': 0.492, 'compound': 0.4404}"
      ]
     },
     "execution_count": 8,
     "metadata": {},
     "output_type": "execute_result"
    }
   ],
   "source": [
    "a = 'This was a good movie.'\n",
    "sid.polarity_scores(a)"
   ]
  },
  {
   "cell_type": "code",
   "execution_count": 35,
   "id": "cf788417",
   "metadata": {},
   "outputs": [
    {
     "data": {
      "text/plain": [
       "0       ok dslr giant canon launched entry level dslr ...\n",
       "1                                    good camera beginner\n",
       "2       great camera perfect product young budding pho...\n",
       "3       really impressed amazon surprise delivering wi...\n",
       "4       buy product canon local service center help ev...\n",
       "                              ...                        \n",
       "2975                                   easy carry  handle\n",
       "2976    fine good product canon requires training clas...\n",
       "2977                   camera taking picture good quality\n",
       "2978              good beginerssuper picture quality like\n",
       "2979    like image produced night good lacking camera ...\n",
       "Name: reviews, Length: 2980, dtype: object"
      ]
     },
     "execution_count": 35,
     "metadata": {},
     "output_type": "execute_result"
    }
   ],
   "source": [
    "df[\"reviews\"].astype(str)"
   ]
  },
  {
   "cell_type": "code",
   "execution_count": 11,
   "id": "87cd3fb8",
   "metadata": {},
   "outputs": [],
   "source": [
    "# VADER sentiment analysis tool for getting Compound score.\n",
    "def sentimental(sentence):\n",
    "    analyzer = SentimentIntensityAnalyzer()\n",
    "    vs = analyzer.polarity_scores(sentence)\n",
    "    score=vs['compound']\n",
    "    return score\n",
    "\n",
    "# VADER sentiment analysis tool for getting pos, neg and neu.\n",
    "def sentimental_Score(sentence):\n",
    "    analyzer = SentimentIntensityAnalyzer()\n",
    "    vs = analyzer.polarity_scores(sentence)\n",
    "    score=vs['compound']\n",
    "    if score > 0:\n",
    "        return 'pos'\n",
    "    else:\n",
    "        return 'neg'"
   ]
  },
  {
   "cell_type": "code",
   "execution_count": 14,
   "id": "f5937a8f",
   "metadata": {},
   "outputs": [],
   "source": [
    "df['senti']=df['reviews'].apply(lambda x: sentimental_Score(x))"
   ]
  },
  {
   "cell_type": "code",
   "execution_count": 15,
   "id": "cba56445",
   "metadata": {},
   "outputs": [
    {
     "data": {
      "text/html": [
       "<div>\n",
       "<style scoped>\n",
       "    .dataframe tbody tr th:only-of-type {\n",
       "        vertical-align: middle;\n",
       "    }\n",
       "\n",
       "    .dataframe tbody tr th {\n",
       "        vertical-align: top;\n",
       "    }\n",
       "\n",
       "    .dataframe thead th {\n",
       "        text-align: right;\n",
       "    }\n",
       "</style>\n",
       "<table border=\"1\" class=\"dataframe\">\n",
       "  <thead>\n",
       "    <tr style=\"text-align: right;\">\n",
       "      <th></th>\n",
       "      <th>Unnamed: 0</th>\n",
       "      <th>reviews</th>\n",
       "      <th>ratings</th>\n",
       "      <th>Sentiment</th>\n",
       "      <th>senti</th>\n",
       "    </tr>\n",
       "  </thead>\n",
       "  <tbody>\n",
       "    <tr>\n",
       "      <th>0</th>\n",
       "      <td>0</td>\n",
       "      <td>ok dslr giant canon launched entry level dslr ...</td>\n",
       "      <td>2.0</td>\n",
       "      <td>0.8803</td>\n",
       "      <td>pos</td>\n",
       "    </tr>\n",
       "    <tr>\n",
       "      <th>1</th>\n",
       "      <td>1</td>\n",
       "      <td>good camera beginner</td>\n",
       "      <td>5.0</td>\n",
       "      <td>0.4404</td>\n",
       "      <td>pos</td>\n",
       "    </tr>\n",
       "    <tr>\n",
       "      <th>2</th>\n",
       "      <td>2</td>\n",
       "      <td>great camera perfect product young budding pho...</td>\n",
       "      <td>5.0</td>\n",
       "      <td>0.8934</td>\n",
       "      <td>pos</td>\n",
       "    </tr>\n",
       "    <tr>\n",
       "      <th>3</th>\n",
       "      <td>3</td>\n",
       "      <td>really impressed amazon surprise delivering wi...</td>\n",
       "      <td>5.0</td>\n",
       "      <td>0.9801</td>\n",
       "      <td>pos</td>\n",
       "    </tr>\n",
       "    <tr>\n",
       "      <th>4</th>\n",
       "      <td>4</td>\n",
       "      <td>buy product canon local service center help ev...</td>\n",
       "      <td>1.0</td>\n",
       "      <td>0.4215</td>\n",
       "      <td>pos</td>\n",
       "    </tr>\n",
       "    <tr>\n",
       "      <th>5</th>\n",
       "      <td>5</td>\n",
       "      <td>request replacement camera main body lot black...</td>\n",
       "      <td>1.0</td>\n",
       "      <td>0.3182</td>\n",
       "      <td>pos</td>\n",
       "    </tr>\n",
       "    <tr>\n",
       "      <th>6</th>\n",
       "      <td>6</td>\n",
       "      <td>received product dslr cannon october adopter g...</td>\n",
       "      <td>2.0</td>\n",
       "      <td>-0.3612</td>\n",
       "      <td>neg</td>\n",
       "    </tr>\n",
       "    <tr>\n",
       "      <th>7</th>\n",
       "      <td>7</td>\n",
       "      <td>auto focus perfectminimum aperture dont expect...</td>\n",
       "      <td>3.0</td>\n",
       "      <td>-0.1280</td>\n",
       "      <td>neg</td>\n",
       "    </tr>\n",
       "    <tr>\n",
       "      <th>8</th>\n",
       "      <td>8</td>\n",
       "      <td>want upgrade camera point shoot dslr good came...</td>\n",
       "      <td>4.0</td>\n",
       "      <td>-0.6124</td>\n",
       "      <td>neg</td>\n",
       "    </tr>\n",
       "    <tr>\n",
       "      <th>9</th>\n",
       "      <td>9</td>\n",
       "      <td>really fully content product reached within tw...</td>\n",
       "      <td>5.0</td>\n",
       "      <td>-0.4863</td>\n",
       "      <td>neg</td>\n",
       "    </tr>\n",
       "  </tbody>\n",
       "</table>\n",
       "</div>"
      ],
      "text/plain": [
       "  Unnamed: 0                                            reviews ratings  \\\n",
       "0          0  ok dslr giant canon launched entry level dslr ...     2.0   \n",
       "1          1                               good camera beginner     5.0   \n",
       "2          2  great camera perfect product young budding pho...     5.0   \n",
       "3          3  really impressed amazon surprise delivering wi...     5.0   \n",
       "4          4  buy product canon local service center help ev...     1.0   \n",
       "5          5  request replacement camera main body lot black...     1.0   \n",
       "6          6  received product dslr cannon october adopter g...     2.0   \n",
       "7          7  auto focus perfectminimum aperture dont expect...     3.0   \n",
       "8          8  want upgrade camera point shoot dslr good came...     4.0   \n",
       "9          9  really fully content product reached within tw...     5.0   \n",
       "\n",
       "   Sentiment senti  \n",
       "0     0.8803   pos  \n",
       "1     0.4404   pos  \n",
       "2     0.8934   pos  \n",
       "3     0.9801   pos  \n",
       "4     0.4215   pos  \n",
       "5     0.3182   pos  \n",
       "6    -0.3612   neg  \n",
       "7    -0.1280   neg  \n",
       "8    -0.6124   neg  \n",
       "9    -0.4863   neg  "
      ]
     },
     "execution_count": 15,
     "metadata": {},
     "output_type": "execute_result"
    }
   ],
   "source": [
    "df.head(10)"
   ]
  },
  {
   "cell_type": "code",
   "execution_count": 16,
   "id": "55058466",
   "metadata": {},
   "outputs": [
    {
     "name": "stdout",
     "output_type": "stream",
     "text": [
      "Unnamed: 0    0\n",
      "reviews       0\n",
      "ratings       0\n",
      "Sentiment     0\n",
      "senti         0\n",
      "dtype: int64\n"
     ]
    }
   ],
   "source": [
    "print(df.isnull().sum())"
   ]
  },
  {
   "cell_type": "code",
   "execution_count": 17,
   "id": "1f9b19ca",
   "metadata": {},
   "outputs": [],
   "source": [
    "senti = df.drop(df.columns[[0]], axis=1)"
   ]
  },
  {
   "cell_type": "code",
   "execution_count": 18,
   "id": "23e9d341",
   "metadata": {},
   "outputs": [
    {
     "data": {
      "text/html": [
       "<div>\n",
       "<style scoped>\n",
       "    .dataframe tbody tr th:only-of-type {\n",
       "        vertical-align: middle;\n",
       "    }\n",
       "\n",
       "    .dataframe tbody tr th {\n",
       "        vertical-align: top;\n",
       "    }\n",
       "\n",
       "    .dataframe thead th {\n",
       "        text-align: right;\n",
       "    }\n",
       "</style>\n",
       "<table border=\"1\" class=\"dataframe\">\n",
       "  <thead>\n",
       "    <tr style=\"text-align: right;\">\n",
       "      <th></th>\n",
       "      <th>reviews</th>\n",
       "      <th>ratings</th>\n",
       "      <th>Sentiment</th>\n",
       "      <th>senti</th>\n",
       "    </tr>\n",
       "  </thead>\n",
       "  <tbody>\n",
       "    <tr>\n",
       "      <th>0</th>\n",
       "      <td>ok dslr giant canon launched entry level dslr ...</td>\n",
       "      <td>2.0</td>\n",
       "      <td>0.8803</td>\n",
       "      <td>pos</td>\n",
       "    </tr>\n",
       "    <tr>\n",
       "      <th>1</th>\n",
       "      <td>good camera beginner</td>\n",
       "      <td>5.0</td>\n",
       "      <td>0.4404</td>\n",
       "      <td>pos</td>\n",
       "    </tr>\n",
       "    <tr>\n",
       "      <th>2</th>\n",
       "      <td>great camera perfect product young budding pho...</td>\n",
       "      <td>5.0</td>\n",
       "      <td>0.8934</td>\n",
       "      <td>pos</td>\n",
       "    </tr>\n",
       "    <tr>\n",
       "      <th>3</th>\n",
       "      <td>really impressed amazon surprise delivering wi...</td>\n",
       "      <td>5.0</td>\n",
       "      <td>0.9801</td>\n",
       "      <td>pos</td>\n",
       "    </tr>\n",
       "    <tr>\n",
       "      <th>4</th>\n",
       "      <td>buy product canon local service center help ev...</td>\n",
       "      <td>1.0</td>\n",
       "      <td>0.4215</td>\n",
       "      <td>pos</td>\n",
       "    </tr>\n",
       "  </tbody>\n",
       "</table>\n",
       "</div>"
      ],
      "text/plain": [
       "                                             reviews ratings  Sentiment senti\n",
       "0  ok dslr giant canon launched entry level dslr ...     2.0     0.8803   pos\n",
       "1                               good camera beginner     5.0     0.4404   pos\n",
       "2  great camera perfect product young budding pho...     5.0     0.8934   pos\n",
       "3  really impressed amazon surprise delivering wi...     5.0     0.9801   pos\n",
       "4  buy product canon local service center help ev...     1.0     0.4215   pos"
      ]
     },
     "execution_count": 18,
     "metadata": {},
     "output_type": "execute_result"
    }
   ],
   "source": [
    "senti.head()"
   ]
  },
  {
   "cell_type": "code",
   "execution_count": 19,
   "id": "7cba1392",
   "metadata": {},
   "outputs": [
    {
     "data": {
      "text/plain": [
       "pos    2478\n",
       "neg     502\n",
       "Name: senti, dtype: int64"
      ]
     },
     "execution_count": 19,
     "metadata": {},
     "output_type": "execute_result"
    }
   ],
   "source": [
    "senti['senti'].value_counts()"
   ]
  },
  {
   "cell_type": "code",
   "execution_count": 20,
   "id": "d7c2e396",
   "metadata": {},
   "outputs": [
    {
     "data": {
      "text/plain": [
       "<AxesSubplot:>"
      ]
     },
     "execution_count": 20,
     "metadata": {},
     "output_type": "execute_result"
    },
    {
     "data": {
      "image/png": "[encoded data removed]",
      "text/plain": [
       "<Figure size 432x288 with 1 Axes>"
      ]
     },
     "metadata": {
      "needs_background": "light"
     },
     "output_type": "display_data"
    }
   ],
   "source": [
    "senti['senti'].value_counts().plot.bar()"
   ]
  },
  {
   "cell_type": "code",
   "execution_count": 21,
   "id": "463039a5",
   "metadata": {},
   "outputs": [],
   "source": [
    "from sklearn import preprocessing"
   ]
  },
  {
   "cell_type": "code",
   "execution_count": 22,
   "id": "ec4c6c0c",
   "metadata": {},
   "outputs": [],
   "source": [
    "label_encoder = preprocessing.LabelEncoder()"
   ]
  },
  {
   "cell_type": "code",
   "execution_count": 23,
   "id": "7774eddd",
   "metadata": {},
   "outputs": [],
   "source": [
    "senti['senti']= label_encoder.fit_transform(df['senti'])"
   ]
  },
  {
   "cell_type": "code",
   "execution_count": 24,
   "id": "559c76ac",
   "metadata": {},
   "outputs": [
    {
     "data": {
      "text/plain": [
       "array([1, 0])"
      ]
     },
     "execution_count": 24,
     "metadata": {},
     "output_type": "execute_result"
    }
   ],
   "source": [
    "senti['senti'].unique()"
   ]
  },
  {
   "cell_type": "code",
   "execution_count": 25,
   "id": "91a6d1a5",
   "metadata": {},
   "outputs": [],
   "source": [
    "import re\n",
    "def cleaning_text(i):\n",
    "    i = re.sub(\"[^A-Za-z\" \"]+\",\" \",i).lower()\n",
    "    i = re.sub(\"[0-9\" \"]+\",\" \",i)\n",
    "    i= re.sub(\"[\\W+\"\"]\", \" \",i)        \n",
    "    w = []\n",
    "    for word in i.split(\" \"):\n",
    "        if len(word)>3:\n",
    "            w.append(word)\n",
    "    return (\" \".join(w))"
   ]
  },
  {
   "cell_type": "code",
   "execution_count": 28,
   "id": "e354d69d",
   "metadata": {},
   "outputs": [],
   "source": [
    "senti['reviews']=senti.reviews.apply(cleaning_text)"
   ]
  },
  {
   "cell_type": "code",
   "execution_count": 29,
   "id": "9effd65b",
   "metadata": {},
   "outputs": [
    {
     "data": {
      "text/html": [
       "<div>\n",
       "<style scoped>\n",
       "    .dataframe tbody tr th:only-of-type {\n",
       "        vertical-align: middle;\n",
       "    }\n",
       "\n",
       "    .dataframe tbody tr th {\n",
       "        vertical-align: top;\n",
       "    }\n",
       "\n",
       "    .dataframe thead th {\n",
       "        text-align: right;\n",
       "    }\n",
       "</style>\n",
       "<table border=\"1\" class=\"dataframe\">\n",
       "  <thead>\n",
       "    <tr style=\"text-align: right;\">\n",
       "      <th></th>\n",
       "      <th>reviews</th>\n",
       "      <th>ratings</th>\n",
       "      <th>Sentiment</th>\n",
       "      <th>senti</th>\n",
       "    </tr>\n",
       "  </thead>\n",
       "  <tbody>\n",
       "    <tr>\n",
       "      <th>0</th>\n",
       "      <td>dslr giant canon launched entry level dslr act...</td>\n",
       "      <td>2.0</td>\n",
       "      <td>0.8803</td>\n",
       "      <td>1</td>\n",
       "    </tr>\n",
       "    <tr>\n",
       "      <th>1</th>\n",
       "      <td>good camera beginner</td>\n",
       "      <td>5.0</td>\n",
       "      <td>0.4404</td>\n",
       "      <td>1</td>\n",
       "    </tr>\n",
       "    <tr>\n",
       "      <th>2</th>\n",
       "      <td>great camera perfect product young budding pho...</td>\n",
       "      <td>5.0</td>\n",
       "      <td>0.8934</td>\n",
       "      <td>1</td>\n",
       "    </tr>\n",
       "    <tr>\n",
       "      <th>3</th>\n",
       "      <td>really impressed amazon surprise delivering wi...</td>\n",
       "      <td>5.0</td>\n",
       "      <td>0.9801</td>\n",
       "      <td>1</td>\n",
       "    </tr>\n",
       "    <tr>\n",
       "      <th>4</th>\n",
       "      <td>product canon local service center help even p...</td>\n",
       "      <td>1.0</td>\n",
       "      <td>0.4215</td>\n",
       "      <td>1</td>\n",
       "    </tr>\n",
       "    <tr>\n",
       "      <th>5</th>\n",
       "      <td>request replacement camera main body blackspot...</td>\n",
       "      <td>1.0</td>\n",
       "      <td>0.3182</td>\n",
       "      <td>1</td>\n",
       "    </tr>\n",
       "    <tr>\n",
       "      <th>6</th>\n",
       "      <td>received product dslr cannon october adopter g...</td>\n",
       "      <td>2.0</td>\n",
       "      <td>-0.3612</td>\n",
       "      <td>0</td>\n",
       "    </tr>\n",
       "    <tr>\n",
       "      <th>7</th>\n",
       "      <td>auto focus perfectminimum aperture dont expect...</td>\n",
       "      <td>3.0</td>\n",
       "      <td>-0.1280</td>\n",
       "      <td>0</td>\n",
       "    </tr>\n",
       "    <tr>\n",
       "      <th>8</th>\n",
       "      <td>want upgrade camera point shoot dslr good came...</td>\n",
       "      <td>4.0</td>\n",
       "      <td>-0.6124</td>\n",
       "      <td>0</td>\n",
       "    </tr>\n",
       "    <tr>\n",
       "      <th>9</th>\n",
       "      <td>really fully content product reached within ev...</td>\n",
       "      <td>5.0</td>\n",
       "      <td>-0.4863</td>\n",
       "      <td>0</td>\n",
       "    </tr>\n",
       "  </tbody>\n",
       "</table>\n",
       "</div>"
      ],
      "text/plain": [
       "                                             reviews ratings  Sentiment  senti\n",
       "0  dslr giant canon launched entry level dslr act...     2.0     0.8803      1\n",
       "1                               good camera beginner     5.0     0.4404      1\n",
       "2  great camera perfect product young budding pho...     5.0     0.8934      1\n",
       "3  really impressed amazon surprise delivering wi...     5.0     0.9801      1\n",
       "4  product canon local service center help even p...     1.0     0.4215      1\n",
       "5  request replacement camera main body blackspot...     1.0     0.3182      1\n",
       "6  received product dslr cannon october adopter g...     2.0    -0.3612      0\n",
       "7  auto focus perfectminimum aperture dont expect...     3.0    -0.1280      0\n",
       "8  want upgrade camera point shoot dslr good came...     4.0    -0.6124      0\n",
       "9  really fully content product reached within ev...     5.0    -0.4863      0"
      ]
     },
     "execution_count": 29,
     "metadata": {},
     "output_type": "execute_result"
    }
   ],
   "source": [
    "senti.head(10)"
   ]
  },
  {
   "cell_type": "code",
   "execution_count": 31,
   "id": "ea646b66",
   "metadata": {},
   "outputs": [],
   "source": [
    "split = senti[['reviews', 'senti']]\n",
    "train = split.sample(frac=0.8,random_state = 200)\n",
    "test = split.drop(train.index)"
   ]
  },
  {
   "cell_type": "code",
   "execution_count": 32,
   "id": "fda95947",
   "metadata": {},
   "outputs": [
    {
     "data": {
      "text/plain": [
       "(2384, 2)"
      ]
     },
     "execution_count": 32,
     "metadata": {},
     "output_type": "execute_result"
    }
   ],
   "source": [
    "train.shape"
   ]
  },
  {
   "cell_type": "code",
   "execution_count": 33,
   "id": "4ebd3a0c",
   "metadata": {},
   "outputs": [
    {
     "data": {
      "text/plain": [
       "(596, 2)"
      ]
     },
     "execution_count": 33,
     "metadata": {},
     "output_type": "execute_result"
    }
   ],
   "source": [
    "test.shape"
   ]
  },
  {
   "cell_type": "code",
   "execution_count": 34,
   "id": "9f002dba",
   "metadata": {},
   "outputs": [],
   "source": [
    "trainX=train.reviews\n",
    "trainy=train.senti\n",
    "testX=test.reviews\n",
    "testy=test.senti"
   ]
  },
  {
   "cell_type": "code",
   "execution_count": 35,
   "id": "e58e1d17",
   "metadata": {},
   "outputs": [],
   "source": [
    "from sklearn.model_selection import train_test_split\n",
    "from sklearn.feature_extraction.text import TfidfVectorizer"
   ]
  },
  {
   "cell_type": "code",
   "execution_count": 36,
   "id": "2fd29514",
   "metadata": {},
   "outputs": [],
   "source": [
    "from wordcloud import STOPWORDS\n",
    "from sklearn.feature_extraction.text import TfidfTransformer\n",
    "from sklearn.feature_extraction.text import CountVectorizer"
   ]
  },
  {
   "cell_type": "code",
   "execution_count": 37,
   "id": "ea206eab",
   "metadata": {},
   "outputs": [],
   "source": [
    "stopwords = set(STOPWORDS)\n",
    "stopwords.remove(\"not\")"
   ]
  },
  {
   "cell_type": "code",
   "execution_count": 38,
   "id": "c7022314",
   "metadata": {},
   "outputs": [],
   "source": [
    "count_vect = CountVectorizer(min_df=2 ,stop_words=stopwords , ngram_range=(1,2))\n",
    "tfidf_transformer = TfidfTransformer()"
   ]
  },
  {
   "cell_type": "code",
   "execution_count": 39,
   "id": "b1a22743",
   "metadata": {},
   "outputs": [],
   "source": [
    "X_train_counts = count_vect.fit_transform(train[\"reviews\"])        \n",
    "X_train_tfidf = tfidf_transformer.fit_transform(X_train_counts)"
   ]
  },
  {
   "cell_type": "code",
   "execution_count": 40,
   "id": "3d5bc99a",
   "metadata": {},
   "outputs": [],
   "source": [
    "X_new_counts = count_vect.transform(test[\"reviews\"])\n",
    "X_test_tfidf = tfidf_transformer.transform(X_new_counts)"
   ]
  },
  {
   "cell_type": "code",
   "execution_count": 41,
   "id": "f9b9d54a",
   "metadata": {},
   "outputs": [],
   "source": [
    "from sklearn.metrics import classification_report,confusion_matrix,accuracy_score"
   ]
  },
  {
   "cell_type": "code",
   "execution_count": 42,
   "id": "bf0367f1",
   "metadata": {},
   "outputs": [],
   "source": [
    "##3 logistic regression\n",
    "from sklearn.linear_model import LogisticRegression"
   ]
  },
  {
   "cell_type": "code",
   "execution_count": 43,
   "id": "143682f2",
   "metadata": {},
   "outputs": [
    {
     "data": {
      "text/plain": [
       "LogisticRegression()"
      ]
     },
     "execution_count": 43,
     "metadata": {},
     "output_type": "execute_result"
    }
   ],
   "source": [
    "model=LogisticRegression()\n",
    "model.fit(X_train_tfidf,trainy)"
   ]
  },
  {
   "cell_type": "code",
   "execution_count": 44,
   "id": "24550e37",
   "metadata": {},
   "outputs": [],
   "source": [
    "y_pred=model.predict(X_test_tfidf)"
   ]
  },
  {
   "cell_type": "code",
   "execution_count": 45,
   "id": "466885fa",
   "metadata": {},
   "outputs": [],
   "source": [
    "from sklearn.metrics import classification_report,confusion_matrix,accuracy_score"
   ]
  },
  {
   "cell_type": "code",
   "execution_count": 46,
   "id": "ad8dcf86",
   "metadata": {},
   "outputs": [
    {
     "name": "stdout",
     "output_type": "stream",
     "text": [
      "0.8573825503355704\n",
      "              precision    recall  f1-score   support\n",
      "\n",
      "           0       0.89      0.23      0.36       106\n",
      "           1       0.86      0.99      0.92       490\n",
      "\n",
      "    accuracy                           0.86       596\n",
      "   macro avg       0.87      0.61      0.64       596\n",
      "weighted avg       0.86      0.86      0.82       596\n",
      "\n",
      "[[ 24  82]\n",
      " [  3 487]]\n",
      "0.3111606657239204\n"
     ]
    }
   ],
   "source": [
    "print(accuracy_score(testy,y_pred))\n",
    "print(classification_report(testy,y_pred))\n",
    "print(confusion_matrix(testy,y_pred))\n",
    "print(cohen_kappa_score(testy,y_pred))"
   ]
  },
  {
   "cell_type": "code",
   "execution_count": 95,
   "id": "c7c5b4ee",
   "metadata": {},
   "outputs": [],
   "source": [
    "import collections\n",
    "from sklearn.feature_extraction.text import CountVectorizer "
   ]
  },
  {
   "cell_type": "code",
   "execution_count": 48,
   "id": "c15b510c",
   "metadata": {},
   "outputs": [],
   "source": [
    "from imblearn.over_sampling import SMOTE"
   ]
  },
  {
   "cell_type": "code",
   "execution_count": 49,
   "id": "56e9c60b",
   "metadata": {},
   "outputs": [],
   "source": [
    "sm=SMOTE(random_state=444)"
   ]
  },
  {
   "cell_type": "code",
   "execution_count": 50,
   "id": "77b93cd6",
   "metadata": {},
   "outputs": [],
   "source": [
    "X_train_res, y_train_res = sm.fit_resample(X_train_tfidf, trainy)"
   ]
  },
  {
   "cell_type": "code",
   "execution_count": 51,
   "id": "cd64567e",
   "metadata": {},
   "outputs": [],
   "source": [
    "### logistic regression after smote"
   ]
  },
  {
   "cell_type": "code",
   "execution_count": 52,
   "id": "6f6c1540",
   "metadata": {},
   "outputs": [
    {
     "data": {
      "text/plain": [
       "LogisticRegression()"
      ]
     },
     "execution_count": 52,
     "metadata": {},
     "output_type": "execute_result"
    }
   ],
   "source": [
    "model2=LogisticRegression()\n",
    "model2.fit(X_train_res,y_train_res)"
   ]
  },
  {
   "cell_type": "code",
   "execution_count": 53,
   "id": "5d954022",
   "metadata": {},
   "outputs": [],
   "source": [
    "y_pred2=model2.predict(X_test_tfidf)"
   ]
  },
  {
   "cell_type": "code",
   "execution_count": 55,
   "id": "3027ec5b",
   "metadata": {},
   "outputs": [
    {
     "name": "stdout",
     "output_type": "stream",
     "text": [
      "0.8976510067114094\n",
      "              precision    recall  f1-score   support\n",
      "\n",
      "           0       0.67      0.85      0.75       106\n",
      "           1       0.97      0.91      0.94       490\n",
      "\n",
      "    accuracy                           0.90       596\n",
      "   macro avg       0.82      0.88      0.84       596\n",
      "weighted avg       0.91      0.90      0.90       596\n",
      "\n",
      "[[ 90  16]\n",
      " [ 45 445]]\n",
      "0.6839048480211449\n"
     ]
    }
   ],
   "source": [
    "print(accuracy_score(testy,y_pred2))\n",
    "print(classification_report(testy,y_pred2))\n",
    "print(confusion_matrix(testy,y_pred2))\n",
    "print(cohen_kappa_score(testy,y_pred2))"
   ]
  },
  {
   "cell_type": "code",
   "execution_count": 56,
   "id": "247482bd",
   "metadata": {},
   "outputs": [],
   "source": [
    "### Multinomial naive bayes\n",
    "from sklearn.naive_bayes import MultinomialNB"
   ]
  },
  {
   "cell_type": "code",
   "execution_count": 57,
   "id": "a4f06f56",
   "metadata": {},
   "outputs": [
    {
     "data": {
      "text/plain": [
       "MultinomialNB()"
      ]
     },
     "execution_count": 57,
     "metadata": {},
     "output_type": "execute_result"
    }
   ],
   "source": [
    "model3=MultinomialNB()\n",
    "model3.fit(X_train_tfidf,trainy)"
   ]
  },
  {
   "cell_type": "code",
   "execution_count": 58,
   "id": "ae1188b7",
   "metadata": {},
   "outputs": [],
   "source": [
    "y_pred3=model3.predict(X_test_tfidf)"
   ]
  },
  {
   "cell_type": "code",
   "execution_count": 59,
   "id": "58f61b31",
   "metadata": {},
   "outputs": [
    {
     "name": "stdout",
     "output_type": "stream",
     "text": [
      "0.8389261744966443\n",
      "              precision    recall  f1-score   support\n",
      "\n",
      "           0       0.86      0.11      0.20       106\n",
      "           1       0.84      1.00      0.91       490\n",
      "\n",
      "    accuracy                           0.84       596\n",
      "   macro avg       0.85      0.55      0.56       596\n",
      "weighted avg       0.84      0.84      0.78       596\n",
      "\n",
      "[[ 12  94]\n",
      " [  2 488]]\n",
      "0.16536351966390472\n"
     ]
    }
   ],
   "source": [
    "print(accuracy_score(testy,y_pred3))\n",
    "print(classification_report(testy,y_pred3))\n",
    "print(confusion_matrix(testy,y_pred3))\n",
    "print(cohen_kappa_score(testy,y_pred3))"
   ]
  },
  {
   "cell_type": "code",
   "execution_count": 60,
   "id": "30769f66",
   "metadata": {},
   "outputs": [
    {
     "data": {
      "text/plain": [
       "MultinomialNB()"
      ]
     },
     "execution_count": 60,
     "metadata": {},
     "output_type": "execute_result"
    }
   ],
   "source": [
    "##MultinomialNB After SMOTE\n",
    "model4=MultinomialNB()\n",
    "model4.fit(X_train_res,y_train_res)"
   ]
  },
  {
   "cell_type": "code",
   "execution_count": 61,
   "id": "53de78ae",
   "metadata": {},
   "outputs": [],
   "source": [
    "y_pred4=model4.predict(X_test_tfidf)"
   ]
  },
  {
   "cell_type": "code",
   "execution_count": 62,
   "id": "b40045fe",
   "metadata": {},
   "outputs": [
    {
     "name": "stdout",
     "output_type": "stream",
     "text": [
      "0.8489932885906041\n",
      "              precision    recall  f1-score   support\n",
      "\n",
      "           0       0.56      0.68      0.62       106\n",
      "           1       0.93      0.89      0.91       490\n",
      "\n",
      "    accuracy                           0.85       596\n",
      "   macro avg       0.74      0.78      0.76       596\n",
      "weighted avg       0.86      0.85      0.85       596\n",
      "\n",
      "[[ 72  34]\n",
      " [ 56 434]]\n",
      "0.5224699095506018\n"
     ]
    }
   ],
   "source": [
    "print(accuracy_score(testy,y_pred4))\n",
    "print(classification_report(testy,y_pred4))\n",
    "print(confusion_matrix(testy,y_pred4))\n",
    "print(cohen_kappa_score(testy,y_pred4))"
   ]
  },
  {
   "cell_type": "code",
   "execution_count": 63,
   "id": "f7c6f9e7",
   "metadata": {},
   "outputs": [],
   "source": [
    "## SVM\n",
    "from sklearn.svm import LinearSVC"
   ]
  },
  {
   "cell_type": "code",
   "execution_count": 64,
   "id": "6f7fbd01",
   "metadata": {},
   "outputs": [
    {
     "data": {
      "text/plain": [
       "LinearSVC()"
      ]
     },
     "execution_count": 64,
     "metadata": {},
     "output_type": "execute_result"
    }
   ],
   "source": [
    "model7=LinearSVC()\n",
    "model7.fit(X_train_tfidf,trainy)"
   ]
  },
  {
   "cell_type": "code",
   "execution_count": 65,
   "id": "42c06331",
   "metadata": {},
   "outputs": [],
   "source": [
    "y_pred7=model7.predict(X_test_tfidf)"
   ]
  },
  {
   "cell_type": "code",
   "execution_count": 66,
   "id": "237ebbd3",
   "metadata": {},
   "outputs": [
    {
     "name": "stdout",
     "output_type": "stream",
     "text": [
      "0.9060402684563759\n",
      "              precision    recall  f1-score   support\n",
      "\n",
      "           0       0.77      0.68      0.72       106\n",
      "           1       0.93      0.96      0.94       490\n",
      "\n",
      "    accuracy                           0.91       596\n",
      "   macro avg       0.85      0.82      0.83       596\n",
      "weighted avg       0.90      0.91      0.90       596\n",
      "\n",
      "[[ 72  34]\n",
      " [ 22 468]]\n",
      "0.6637924087355951\n"
     ]
    }
   ],
   "source": [
    "print(accuracy_score(testy,y_pred7))\n",
    "print(classification_report(testy,y_pred7))\n",
    "print(confusion_matrix(testy,y_pred7))\n",
    "print(cohen_kappa_score(testy,y_pred7))"
   ]
  },
  {
   "cell_type": "code",
   "execution_count": 67,
   "id": "fc05541b",
   "metadata": {},
   "outputs": [
    {
     "data": {
      "text/plain": [
       "LinearSVC()"
      ]
     },
     "execution_count": 67,
     "metadata": {},
     "output_type": "execute_result"
    }
   ],
   "source": [
    "## SVM after smote \n",
    "model8=LinearSVC()\n",
    "model8.fit(X_train_res,y_train_res)"
   ]
  },
  {
   "cell_type": "code",
   "execution_count": 68,
   "id": "fc32ce12",
   "metadata": {},
   "outputs": [],
   "source": [
    "y_pred8=model8.predict(X_test_tfidf)"
   ]
  },
  {
   "cell_type": "code",
   "execution_count": 69,
   "id": "95df547b",
   "metadata": {},
   "outputs": [
    {
     "name": "stdout",
     "output_type": "stream",
     "text": [
      "0.9026845637583892\n",
      "              precision    recall  f1-score   support\n",
      "\n",
      "           0       0.70      0.80      0.75       106\n",
      "           1       0.96      0.92      0.94       490\n",
      "\n",
      "    accuracy                           0.90       596\n",
      "   macro avg       0.83      0.86      0.84       596\n",
      "weighted avg       0.91      0.90      0.91       596\n",
      "\n",
      "[[ 85  21]\n",
      " [ 37 453]]\n",
      "0.6858140042172617\n"
     ]
    }
   ],
   "source": [
    "print(accuracy_score(testy,y_pred8))\n",
    "print(classification_report(testy,y_pred8))\n",
    "print(confusion_matrix(testy,y_pred8))\n",
    "print(cohen_kappa_score(testy,y_pred8))"
   ]
  },
  {
   "cell_type": "code",
   "execution_count": 70,
   "id": "f35fc381",
   "metadata": {},
   "outputs": [
    {
     "data": {
      "text/plain": [
       "MLPClassifier(hidden_layer_sizes=(5, 5))"
      ]
     },
     "execution_count": 70,
     "metadata": {},
     "output_type": "execute_result"
    }
   ],
   "source": [
    "## Neural network\n",
    "from sklearn.neural_network import MLPClassifier\n",
    "model11=MLPClassifier(hidden_layer_sizes=(5,5))\n",
    "model11.fit(X_train_tfidf,trainy)"
   ]
  },
  {
   "cell_type": "code",
   "execution_count": 71,
   "id": "68341048",
   "metadata": {},
   "outputs": [],
   "source": [
    "y_pred11=model11.predict(X_test_tfidf)"
   ]
  },
  {
   "cell_type": "code",
   "execution_count": 72,
   "id": "bf255296",
   "metadata": {},
   "outputs": [
    {
     "name": "stdout",
     "output_type": "stream",
     "text": [
      "0.8859060402684564\n",
      "              precision    recall  f1-score   support\n",
      "\n",
      "           0       0.73      0.57      0.64       106\n",
      "           1       0.91      0.96      0.93       490\n",
      "\n",
      "    accuracy                           0.89       596\n",
      "   macro avg       0.82      0.76      0.79       596\n",
      "weighted avg       0.88      0.89      0.88       596\n",
      "\n",
      "[[ 60  46]\n",
      " [ 22 468]]\n",
      "0.5718752640919462\n"
     ]
    }
   ],
   "source": [
    "print(accuracy_score(testy,y_pred11))\n",
    "print(classification_report(testy,y_pred11))\n",
    "print(confusion_matrix(testy,y_pred11))\n",
    "print(cohen_kappa_score(testy,y_pred11))"
   ]
  },
  {
   "cell_type": "code",
   "execution_count": 73,
   "id": "a9e359e5",
   "metadata": {},
   "outputs": [
    {
     "data": {
      "text/plain": [
       "MLPClassifier(hidden_layer_sizes=(5, 5))"
      ]
     },
     "execution_count": 73,
     "metadata": {},
     "output_type": "execute_result"
    }
   ],
   "source": [
    "## neural network after smote\n",
    "model12=MLPClassifier(hidden_layer_sizes=(5,5))\n",
    "model12.fit(X_train_res,y_train_res)"
   ]
  },
  {
   "cell_type": "code",
   "execution_count": 74,
   "id": "543f8c9d",
   "metadata": {},
   "outputs": [],
   "source": [
    "y_pred12=model12.predict(X_test_tfidf)"
   ]
  },
  {
   "cell_type": "code",
   "execution_count": 75,
   "id": "008ced41",
   "metadata": {},
   "outputs": [
    {
     "name": "stdout",
     "output_type": "stream",
     "text": [
      "0.87751677852349\n",
      "              precision    recall  f1-score   support\n",
      "\n",
      "           0       0.66      0.65      0.65       106\n",
      "           1       0.92      0.93      0.93       490\n",
      "\n",
      "    accuracy                           0.88       596\n",
      "   macro avg       0.79      0.79      0.79       596\n",
      "weighted avg       0.88      0.88      0.88       596\n",
      "\n",
      "[[ 69  37]\n",
      " [ 36 454]]\n",
      "0.5796166035402335\n"
     ]
    }
   ],
   "source": [
    "print(accuracy_score(testy,y_pred12))\n",
    "print(classification_report(testy,y_pred12))\n",
    "print(confusion_matrix(testy,y_pred12))\n",
    "print(cohen_kappa_score(testy,y_pred12))"
   ]
  },
  {
   "cell_type": "code",
   "execution_count": null,
   "id": "f7d855e8",
   "metadata": {},
   "outputs": [],
   "source": [
    "## decision tree"
   ]
  },
  {
   "cell_type": "code",
   "execution_count": 76,
   "id": "2da14bf1",
   "metadata": {},
   "outputs": [],
   "source": [
    "from sklearn.tree import DecisionTreeClassifier"
   ]
  },
  {
   "cell_type": "code",
   "execution_count": 77,
   "id": "1cac77f8",
   "metadata": {},
   "outputs": [
    {
     "data": {
      "text/plain": [
       "DecisionTreeClassifier(criterion='entropy')"
      ]
     },
     "execution_count": 77,
     "metadata": {},
     "output_type": "execute_result"
    }
   ],
   "source": [
    "model9=DecisionTreeClassifier(criterion='entropy')\n",
    "model9.fit(X_train_tfidf,trainy)"
   ]
  },
  {
   "cell_type": "code",
   "execution_count": 78,
   "id": "bbfab3e9",
   "metadata": {},
   "outputs": [],
   "source": [
    "y_pred9=model9.predict(X_test_tfidf)"
   ]
  },
  {
   "cell_type": "code",
   "execution_count": 79,
   "id": "bdaf30b3",
   "metadata": {},
   "outputs": [
    {
     "name": "stdout",
     "output_type": "stream",
     "text": [
      "0.9177852348993288\n",
      "              precision    recall  f1-score   support\n",
      "\n",
      "           0       0.74      0.82      0.78       106\n",
      "           1       0.96      0.94      0.95       490\n",
      "\n",
      "    accuracy                           0.92       596\n",
      "   macro avg       0.85      0.88      0.86       596\n",
      "weighted avg       0.92      0.92      0.92       596\n",
      "\n",
      "[[ 87  19]\n",
      " [ 30 460]]\n",
      "0.7298527344039074\n"
     ]
    }
   ],
   "source": [
    "print(accuracy_score(testy,y_pred9))\n",
    "print(classification_report(testy,y_pred9))\n",
    "print(confusion_matrix(testy,y_pred9))\n",
    "print(cohen_kappa_score(testy,y_pred9))"
   ]
  },
  {
   "cell_type": "code",
   "execution_count": 80,
   "id": "b7797385",
   "metadata": {},
   "outputs": [],
   "source": [
    "## Decision tree after smote "
   ]
  },
  {
   "cell_type": "code",
   "execution_count": 81,
   "id": "da87e72d",
   "metadata": {},
   "outputs": [
    {
     "data": {
      "text/plain": [
       "DecisionTreeClassifier(criterion='entropy')"
      ]
     },
     "execution_count": 81,
     "metadata": {},
     "output_type": "execute_result"
    }
   ],
   "source": [
    "model10=DecisionTreeClassifier(criterion='entropy')\n",
    "model10.fit(X_train_res,y_train_res)"
   ]
  },
  {
   "cell_type": "code",
   "execution_count": 82,
   "id": "844d0c75",
   "metadata": {},
   "outputs": [],
   "source": [
    "y_pred10=model10.predict(X_test_tfidf)"
   ]
  },
  {
   "cell_type": "code",
   "execution_count": 83,
   "id": "4c56bd0c",
   "metadata": {},
   "outputs": [
    {
     "name": "stdout",
     "output_type": "stream",
     "text": [
      "0.924496644295302\n",
      "              precision    recall  f1-score   support\n",
      "\n",
      "           0       0.75      0.86      0.80       106\n",
      "           1       0.97      0.94      0.95       490\n",
      "\n",
      "    accuracy                           0.92       596\n",
      "   macro avg       0.86      0.90      0.88       596\n",
      "weighted avg       0.93      0.92      0.93       596\n",
      "\n",
      "[[ 91  15]\n",
      " [ 30 460]]\n",
      "0.7553812477198103\n"
     ]
    }
   ],
   "source": [
    "print(accuracy_score(testy,y_pred10))\n",
    "print(classification_report(testy,y_pred10))\n",
    "print(confusion_matrix(testy,y_pred10))\n",
    "print(cohen_kappa_score(testy,y_pred10))"
   ]
  },
  {
   "cell_type": "code",
   "execution_count": 84,
   "id": "42f45e9c",
   "metadata": {},
   "outputs": [],
   "source": [
    "### BernoulliNB\n",
    "from sklearn.naive_bayes import BernoulliNB"
   ]
  },
  {
   "cell_type": "code",
   "execution_count": 85,
   "id": "995a50f5",
   "metadata": {},
   "outputs": [
    {
     "data": {
      "text/plain": [
       "BernoulliNB()"
      ]
     },
     "execution_count": 85,
     "metadata": {},
     "output_type": "execute_result"
    }
   ],
   "source": [
    "model5=BernoulliNB()\n",
    "model5.fit(X_train_tfidf,trainy)"
   ]
  },
  {
   "cell_type": "code",
   "execution_count": 86,
   "id": "b82523d5",
   "metadata": {},
   "outputs": [],
   "source": [
    "y_pred5=model5.predict(X_test_tfidf)"
   ]
  },
  {
   "cell_type": "code",
   "execution_count": 87,
   "id": "fb5a9592",
   "metadata": {},
   "outputs": [
    {
     "name": "stdout",
     "output_type": "stream",
     "text": [
      "0.8221476510067114\n",
      "              precision    recall  f1-score   support\n",
      "\n",
      "           0       0.50      0.16      0.24       106\n",
      "           1       0.84      0.97      0.90       490\n",
      "\n",
      "    accuracy                           0.82       596\n",
      "   macro avg       0.67      0.56      0.57       596\n",
      "weighted avg       0.78      0.82      0.78       596\n",
      "\n",
      "[[ 17  89]\n",
      " [ 17 473]]\n",
      "0.1712666596704795\n"
     ]
    }
   ],
   "source": [
    "print(accuracy_score(testy,y_pred5))\n",
    "print(classification_report(testy,y_pred5))\n",
    "print(confusion_matrix(testy,y_pred5))\n",
    "print(cohen_kappa_score(testy,y_pred5))"
   ]
  },
  {
   "cell_type": "code",
   "execution_count": 88,
   "id": "b6b6af0b",
   "metadata": {},
   "outputs": [
    {
     "data": {
      "text/plain": [
       "BernoulliNB()"
      ]
     },
     "execution_count": 88,
     "metadata": {},
     "output_type": "execute_result"
    }
   ],
   "source": [
    "### bernouli NB after smote\n",
    "model6=BernoulliNB()\n",
    "model6.fit(X_train_res,y_train_res)"
   ]
  },
  {
   "cell_type": "code",
   "execution_count": 89,
   "id": "b2c11440",
   "metadata": {},
   "outputs": [],
   "source": [
    "y_pred6=model6.predict(X_test_tfidf)"
   ]
  },
  {
   "cell_type": "code",
   "execution_count": 90,
   "id": "4de91e70",
   "metadata": {},
   "outputs": [
    {
     "name": "stdout",
     "output_type": "stream",
     "text": [
      "0.8003355704697986\n",
      "              precision    recall  f1-score   support\n",
      "\n",
      "           0       0.46      0.78      0.58       106\n",
      "           1       0.94      0.80      0.87       490\n",
      "\n",
      "    accuracy                           0.80       596\n",
      "   macro avg       0.70      0.79      0.73       596\n",
      "weighted avg       0.86      0.80      0.82       596\n",
      "\n",
      "[[ 83  23]\n",
      " [ 96 394]]\n",
      "0.4623385287161138\n"
     ]
    }
   ],
   "source": [
    "print(accuracy_score(testy,y_pred6))\n",
    "print(classification_report(testy,y_pred6))\n",
    "print(confusion_matrix(testy,y_pred6))\n",
    "print(cohen_kappa_score(testy,y_pred6))"
   ]
  }
 ],
 "metadata": {
  "kernelspec": {
   "display_name": "Python 3",
   "language": "python",
   "name": "python3"
  },
  "language_info": {
   "codemirror_mode": {
    "name": "ipython",
    "version": 3
   },
   "file_extension": ".py",
   "mimetype": "text/x-python",
   "name": "python",
   "nbconvert_exporter": "python",
   "pygments_lexer": "ipython3",
   "version": "3.8.10"
  },
  "toc": {
   "base_numbering": 1,
   "nav_menu": {},
   "number_sections": false,
   "sideBar": false,
   "skip_h1_title": false,
   "title_cell": "Table of Contents",
   "title_sidebar": "Contents",
   "toc_cell": false,
   "toc_position": {},
   "toc_section_display": false,
   "toc_window_display": false
  }
 },
 "nbformat": 4,
 "nbformat_minor": 5
}
