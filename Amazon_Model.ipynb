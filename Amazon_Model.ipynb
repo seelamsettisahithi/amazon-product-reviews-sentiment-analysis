{
  "nbformat": 4,
  "nbformat_minor": 0,
  "metadata": {
    "colab": {
      "name": "Amazon_Model.ipynb",
      "provenance": [],
      "collapsed_sections": [
        "JLoqbSM4cHtJ",
        "EyYVWunREYCD",
        "L8we8Ydf0Sh2",
        "q8eSw4v30sX5",
        "Zr1UEi0S1KlZ",
        "osSzKj7T1x-i",
        "yfDWIPn12DwS",
        "8TxJl8au2d6B",
        "pYSRaNdZ3LbT",
        "9ZL_X1eg3q1b",
        "sQd5ylnH3yRg",
        "XBNOVdDY4EZu",
        "E_-07oCL4jvA",
        "qQywZoJAGmYG"
      ],
      "toc_visible": true,
      "authorship_tag": "ABX9TyMoYn4FDxOCWsHcyPOj5n7/",
      "include_colab_link": true
    },
    "kernelspec": {
      "name": "python3",
      "display_name": "Python 3"
    },
    "language_info": {
      "name": "python"
    }
  },
  "cells": [
    {
      "cell_type": "markdown",
      "metadata": {
        "id": "view-in-github",
        "colab_type": "text"
      },
      "source": [
        "<a href=\"https://colab.research.google.com/github/seelamsettisahithi/amazon-product-reviews-sentiment-analysis/blob/main/Amazon_Model.ipynb\" target=\"_parent\"><img src=\"https://colab.research.google.com/assets/colab-badge.svg\" alt=\"Open In Colab\"/></a>"
      ]
    },
    {
      "cell_type": "markdown",
      "metadata": {
        "id": "JLoqbSM4cHtJ"
      },
      "source": [
        "# Import Libraries"
      ]
    },
    {
      "cell_type": "code",
      "metadata": {
        "colab": {
          "base_uri": "https://localhost:8080/"
        },
        "id": "1m4hcLNocuOe",
        "outputId": "ac442ffb-abbe-4fe1-a655-def00f9807ad"
      },
      "source": [
        "! pip install vaderSentiment"
      ],
      "execution_count": 2,
      "outputs": [
        {
          "output_type": "stream",
          "text": [
            "Collecting vaderSentiment\n",
            "  Downloading vaderSentiment-3.3.2-py2.py3-none-any.whl (125 kB)\n",
            "\u001b[?25l\r\u001b[K     |██▋                             | 10 kB 22.4 MB/s eta 0:00:01\r\u001b[K     |█████▏                          | 20 kB 26.8 MB/s eta 0:00:01\r\u001b[K     |███████▉                        | 30 kB 30.7 MB/s eta 0:00:01\r\u001b[K     |██████████▍                     | 40 kB 28.1 MB/s eta 0:00:01\r\u001b[K     |█████████████                   | 51 kB 20.3 MB/s eta 0:00:01\r\u001b[K     |███████████████▋                | 61 kB 14.7 MB/s eta 0:00:01\r\u001b[K     |██████████████████▏             | 71 kB 13.6 MB/s eta 0:00:01\r\u001b[K     |████████████████████▉           | 81 kB 14.6 MB/s eta 0:00:01\r\u001b[K     |███████████████████████▍        | 92 kB 14.8 MB/s eta 0:00:01\r\u001b[K     |██████████████████████████      | 102 kB 12.9 MB/s eta 0:00:01\r\u001b[K     |████████████████████████████▋   | 112 kB 12.9 MB/s eta 0:00:01\r\u001b[K     |███████████████████████████████▏| 122 kB 12.9 MB/s eta 0:00:01\r\u001b[K     |████████████████████████████████| 125 kB 12.9 MB/s \n",
            "\u001b[?25hRequirement already satisfied: requests in /usr/local/lib/python3.7/dist-packages (from vaderSentiment) (2.23.0)\n",
            "Requirement already satisfied: urllib3!=1.25.0,!=1.25.1,<1.26,>=1.21.1 in /usr/local/lib/python3.7/dist-packages (from requests->vaderSentiment) (1.24.3)\n",
            "Requirement already satisfied: certifi>=2017.4.17 in /usr/local/lib/python3.7/dist-packages (from requests->vaderSentiment) (2021.5.30)\n",
            "Requirement already satisfied: idna<3,>=2.5 in /usr/local/lib/python3.7/dist-packages (from requests->vaderSentiment) (2.10)\n",
            "Requirement already satisfied: chardet<4,>=3.0.2 in /usr/local/lib/python3.7/dist-packages (from requests->vaderSentiment) (3.0.4)\n",
            "Installing collected packages: vaderSentiment\n",
            "Successfully installed vaderSentiment-3.3.2\n"
          ],
          "name": "stdout"
        }
      ]
    },
    {
      "cell_type": "code",
      "metadata": {
        "id": "2l9gVDuBa5wY"
      },
      "source": [
        "import pandas as pd\n",
        "import glob\n",
        "from vaderSentiment.vaderSentiment import SentimentIntensityAnalyzer\n",
        "from wordcloud import WordCloud\n",
        "from nltk.corpus import stopwords\n",
        "from nltk.tokenize import sent_tokenize, word_tokenize\n",
        "from textblob import TextBlob\n",
        "from textblob.sentiments import NaiveBayesAnalyzer\n",
        "import string\n",
        "import matplotlib.pyplot as plt\n",
        "import matplotlib as mpl\n",
        "import nltk.classify.util\n",
        "from sklearn.model_selection import train_test_split\n",
        "from sklearn.metrics import confusion_matrix\n",
        "from sklearn import metrics\n",
        "from sklearn.metrics import roc_curve, auc\n",
        "from nltk.classify import NaiveBayesClassifier\n",
        "import numpy as np\n",
        "import re\n",
        "import string\n",
        "import nltk\n",
        "%matplotlib inline\n",
        "import warnings\n",
        "warnings.filterwarnings('ignore')\n",
        "from sklearn.metrics import cohen_kappa_score\n"
      ],
      "execution_count": 3,
      "outputs": []
    },
    {
      "cell_type": "code",
      "metadata": {
        "colab": {
          "resources": {
            "http://localhost:8080/nbextensions/google.colab/files.js": {
              "data": "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",
              "ok": true,
              "headers": [
                [
                  "content-type",
                  "application/javascript"
                ]
              ],
              "status": 200,
              "status_text": ""
            }
          },
          "base_uri": "https://localhost:8080/",
          "height": 72
        },
        "id": "hfhZ30SmcNjv",
        "outputId": "461fcf99-1049-43a7-b9fc-ddbbd3bc31cd"
      },
      "source": [
        "from google.colab import files\n",
        "uploaded = files.upload()"
      ],
      "execution_count": 4,
      "outputs": [
        {
          "output_type": "display_data",
          "data": {
            "text/html": [
              "\n",
              "     <input type=\"file\" id=\"files-691ed7b9-35cb-48a4-a5c2-8718edaec09f\" name=\"files[]\" multiple disabled\n",
              "        style=\"border:none\" />\n",
              "     <output id=\"result-691ed7b9-35cb-48a4-a5c2-8718edaec09f\">\n",
              "      Upload widget is only available when the cell has been executed in the\n",
              "      current browser session. Please rerun this cell to enable.\n",
              "      </output>\n",
              "      <script src=\"/nbextensions/google.colab/files.js\"></script> "
            ],
            "text/plain": [
              "<IPython.core.display.HTML object>"
            ]
          },
          "metadata": {
            "tags": []
          }
        },
        {
          "output_type": "stream",
          "text": [
            "Saving camera_EDA.csv to camera_EDA.csv\n"
          ],
          "name": "stdout"
        }
      ]
    },
    {
      "cell_type": "code",
      "metadata": {
        "id": "Qs-ByU5jce6X"
      },
      "source": [
        "import io\n",
        "import pandas as pd\n",
        "df = pd.read_csv(io.BytesIO(uploaded['camera_EDA.csv']))"
      ],
      "execution_count": 5,
      "outputs": []
    },
    {
      "cell_type": "code",
      "metadata": {
        "colab": {
          "base_uri": "https://localhost:8080/",
          "height": 204
        },
        "id": "HC3vRQAQc4d9",
        "outputId": "07029731-6fc2-4333-b7c5-716b6ca83f4e"
      },
      "source": [
        "df.head()"
      ],
      "execution_count": 6,
      "outputs": [
        {
          "output_type": "execute_result",
          "data": {
            "text/html": [
              "<div>\n",
              "<style scoped>\n",
              "    .dataframe tbody tr th:only-of-type {\n",
              "        vertical-align: middle;\n",
              "    }\n",
              "\n",
              "    .dataframe tbody tr th {\n",
              "        vertical-align: top;\n",
              "    }\n",
              "\n",
              "    .dataframe thead th {\n",
              "        text-align: right;\n",
              "    }\n",
              "</style>\n",
              "<table border=\"1\" class=\"dataframe\">\n",
              "  <thead>\n",
              "    <tr style=\"text-align: right;\">\n",
              "      <th></th>\n",
              "      <th>Unnamed: 0</th>\n",
              "      <th>reviews</th>\n",
              "      <th>ratings</th>\n",
              "    </tr>\n",
              "  </thead>\n",
              "  <tbody>\n",
              "    <tr>\n",
              "      <th>0</th>\n",
              "      <td>0</td>\n",
              "      <td>ok dslr giant canon launched entry level dslr ...</td>\n",
              "      <td>2.0</td>\n",
              "    </tr>\n",
              "    <tr>\n",
              "      <th>1</th>\n",
              "      <td>1</td>\n",
              "      <td>good camera beginner</td>\n",
              "      <td>5.0</td>\n",
              "    </tr>\n",
              "    <tr>\n",
              "      <th>2</th>\n",
              "      <td>2</td>\n",
              "      <td>great camera perfect product young budding pho...</td>\n",
              "      <td>5.0</td>\n",
              "    </tr>\n",
              "    <tr>\n",
              "      <th>3</th>\n",
              "      <td>3</td>\n",
              "      <td>really impressed amazon surprise delivering wi...</td>\n",
              "      <td>5.0</td>\n",
              "    </tr>\n",
              "    <tr>\n",
              "      <th>4</th>\n",
              "      <td>4</td>\n",
              "      <td>buy product canon local service center help ev...</td>\n",
              "      <td>1.0</td>\n",
              "    </tr>\n",
              "  </tbody>\n",
              "</table>\n",
              "</div>"
            ],
            "text/plain": [
              "   Unnamed: 0                                            reviews  ratings\n",
              "0           0  ok dslr giant canon launched entry level dslr ...      2.0\n",
              "1           1                               good camera beginner      5.0\n",
              "2           2  great camera perfect product young budding pho...      5.0\n",
              "3           3  really impressed amazon surprise delivering wi...      5.0\n",
              "4           4  buy product canon local service center help ev...      1.0"
            ]
          },
          "metadata": {
            "tags": []
          },
          "execution_count": 6
        }
      ]
    },
    {
      "cell_type": "code",
      "metadata": {
        "id": "8fFXNIdzc--F"
      },
      "source": [
        "def NaiveBaiyes_Sentimental(sentence):\n",
        "    blob = TextBlob(sentence, analyzer=NaiveBayesAnalyzer())\n",
        "    NaiveBayes_SentimentScore=blob.sentiment.classification\n",
        "    return NaiveBayes_SentimentScore"
      ],
      "execution_count": 7,
      "outputs": []
    },
    {
      "cell_type": "code",
      "metadata": {
        "colab": {
          "base_uri": "https://localhost:8080/"
        },
        "id": "1pc_Dz6QdFDf",
        "outputId": "d7d50345-7744-46f8-951c-caec0ea213ef"
      },
      "source": [
        "nltk.download('vader_lexicon')"
      ],
      "execution_count": 8,
      "outputs": [
        {
          "output_type": "stream",
          "text": [
            "[nltk_data] Downloading package vader_lexicon to /root/nltk_data...\n"
          ],
          "name": "stdout"
        },
        {
          "output_type": "execute_result",
          "data": {
            "text/plain": [
              "True"
            ]
          },
          "metadata": {
            "tags": []
          },
          "execution_count": 8
        }
      ]
    },
    {
      "cell_type": "code",
      "metadata": {
        "id": "LOUQBCuHdHB9"
      },
      "source": [
        "from nltk.sentiment.vader import SentimentIntensityAnalyzer\n",
        "\n",
        "sid = SentimentIntensityAnalyzer()"
      ],
      "execution_count": 9,
      "outputs": []
    },
    {
      "cell_type": "code",
      "metadata": {
        "colab": {
          "base_uri": "https://localhost:8080/"
        },
        "id": "vmejfpxqdKbM",
        "outputId": "f6da5182-1f18-4ecd-8324-78b400d9d7ef"
      },
      "source": [
        "a = 'This was a good movie.'\n",
        "sid.polarity_scores(a)"
      ],
      "execution_count": 10,
      "outputs": [
        {
          "output_type": "execute_result",
          "data": {
            "text/plain": [
              "{'compound': 0.4404, 'neg': 0.0, 'neu': 0.508, 'pos': 0.492}"
            ]
          },
          "metadata": {
            "tags": []
          },
          "execution_count": 10
        }
      ]
    },
    {
      "cell_type": "code",
      "metadata": {
        "id": "1CemoIvyxUwR"
      },
      "source": [
        "\n",
        "# removing NA values from data frame\n",
        "df.dropna(inplace=True)"
      ],
      "execution_count": 11,
      "outputs": []
    },
    {
      "cell_type": "code",
      "metadata": {
        "colab": {
          "base_uri": "https://localhost:8080/"
        },
        "id": "FgVv6T1Sxpaa",
        "outputId": "77ea3e7d-3cc0-49df-a913-fff690089673"
      },
      "source": [
        "\n",
        "sid.polarity_scores(df.iloc[0]['reviews'])"
      ],
      "execution_count": 12,
      "outputs": [
        {
          "output_type": "execute_result",
          "data": {
            "text/plain": [
              "{'compound': 0.8803, 'neg': 0.127, 'neu': 0.69, 'pos': 0.183}"
            ]
          },
          "metadata": {
            "tags": []
          },
          "execution_count": 12
        }
      ]
    },
    {
      "cell_type": "code",
      "metadata": {
        "id": "qa0t5wDsxtqm"
      },
      "source": [
        "\n",
        "df['scores'] = df['reviews'].apply(lambda reviews:sid.polarity_scores(reviews))"
      ],
      "execution_count": 13,
      "outputs": []
    },
    {
      "cell_type": "code",
      "metadata": {
        "colab": {
          "base_uri": "https://localhost:8080/",
          "height": 359
        },
        "id": "J4jhJQSWx0-5",
        "outputId": "0c5c7880-f216-4a0c-97ae-d4721b60295e"
      },
      "source": [
        "df.head(10)"
      ],
      "execution_count": 14,
      "outputs": [
        {
          "output_type": "execute_result",
          "data": {
            "text/html": [
              "<div>\n",
              "<style scoped>\n",
              "    .dataframe tbody tr th:only-of-type {\n",
              "        vertical-align: middle;\n",
              "    }\n",
              "\n",
              "    .dataframe tbody tr th {\n",
              "        vertical-align: top;\n",
              "    }\n",
              "\n",
              "    .dataframe thead th {\n",
              "        text-align: right;\n",
              "    }\n",
              "</style>\n",
              "<table border=\"1\" class=\"dataframe\">\n",
              "  <thead>\n",
              "    <tr style=\"text-align: right;\">\n",
              "      <th></th>\n",
              "      <th>Unnamed: 0</th>\n",
              "      <th>reviews</th>\n",
              "      <th>ratings</th>\n",
              "      <th>scores</th>\n",
              "    </tr>\n",
              "  </thead>\n",
              "  <tbody>\n",
              "    <tr>\n",
              "      <th>0</th>\n",
              "      <td>0</td>\n",
              "      <td>ok dslr giant canon launched entry level dslr ...</td>\n",
              "      <td>2.0</td>\n",
              "      <td>{'neg': 0.127, 'neu': 0.69, 'pos': 0.183, 'com...</td>\n",
              "    </tr>\n",
              "    <tr>\n",
              "      <th>1</th>\n",
              "      <td>1</td>\n",
              "      <td>good camera beginner</td>\n",
              "      <td>5.0</td>\n",
              "      <td>{'neg': 0.0, 'neu': 0.408, 'pos': 0.592, 'comp...</td>\n",
              "    </tr>\n",
              "    <tr>\n",
              "      <th>2</th>\n",
              "      <td>2</td>\n",
              "      <td>great camera perfect product young budding pho...</td>\n",
              "      <td>5.0</td>\n",
              "      <td>{'neg': 0.0, 'neu': 0.673, 'pos': 0.327, 'comp...</td>\n",
              "    </tr>\n",
              "    <tr>\n",
              "      <th>3</th>\n",
              "      <td>3</td>\n",
              "      <td>really impressed amazon surprise delivering wi...</td>\n",
              "      <td>5.0</td>\n",
              "      <td>{'neg': 0.0, 'neu': 0.541, 'pos': 0.459, 'comp...</td>\n",
              "    </tr>\n",
              "    <tr>\n",
              "      <th>4</th>\n",
              "      <td>4</td>\n",
              "      <td>buy product canon local service center help ev...</td>\n",
              "      <td>1.0</td>\n",
              "      <td>{'neg': 0.103, 'neu': 0.733, 'pos': 0.164, 'co...</td>\n",
              "    </tr>\n",
              "    <tr>\n",
              "      <th>5</th>\n",
              "      <td>5</td>\n",
              "      <td>request replacement camera main body lot black...</td>\n",
              "      <td>1.0</td>\n",
              "      <td>{'neg': 0.0, 'neu': 0.897, 'pos': 0.103, 'comp...</td>\n",
              "    </tr>\n",
              "    <tr>\n",
              "      <th>6</th>\n",
              "      <td>6</td>\n",
              "      <td>received product dslr cannon october adopter g...</td>\n",
              "      <td>2.0</td>\n",
              "      <td>{'neg': 0.135, 'neu': 0.865, 'pos': 0.0, 'comp...</td>\n",
              "    </tr>\n",
              "    <tr>\n",
              "      <th>7</th>\n",
              "      <td>7</td>\n",
              "      <td>auto focus perfectminimum aperture dont expect...</td>\n",
              "      <td>3.0</td>\n",
              "      <td>{'neg': 0.134, 'neu': 0.738, 'pos': 0.128, 'co...</td>\n",
              "    </tr>\n",
              "    <tr>\n",
              "      <th>8</th>\n",
              "      <td>8</td>\n",
              "      <td>want upgrade camera point shoot dslr good came...</td>\n",
              "      <td>4.0</td>\n",
              "      <td>{'neg': 0.262, 'neu': 0.536, 'pos': 0.202, 'co...</td>\n",
              "    </tr>\n",
              "    <tr>\n",
              "      <th>9</th>\n",
              "      <td>9</td>\n",
              "      <td>really fully content product reached within tw...</td>\n",
              "      <td>5.0</td>\n",
              "      <td>{'neg': 0.162, 'neu': 0.73, 'pos': 0.108, 'com...</td>\n",
              "    </tr>\n",
              "  </tbody>\n",
              "</table>\n",
              "</div>"
            ],
            "text/plain": [
              "   Unnamed: 0  ...                                             scores\n",
              "0           0  ...  {'neg': 0.127, 'neu': 0.69, 'pos': 0.183, 'com...\n",
              "1           1  ...  {'neg': 0.0, 'neu': 0.408, 'pos': 0.592, 'comp...\n",
              "2           2  ...  {'neg': 0.0, 'neu': 0.673, 'pos': 0.327, 'comp...\n",
              "3           3  ...  {'neg': 0.0, 'neu': 0.541, 'pos': 0.459, 'comp...\n",
              "4           4  ...  {'neg': 0.103, 'neu': 0.733, 'pos': 0.164, 'co...\n",
              "5           5  ...  {'neg': 0.0, 'neu': 0.897, 'pos': 0.103, 'comp...\n",
              "6           6  ...  {'neg': 0.135, 'neu': 0.865, 'pos': 0.0, 'comp...\n",
              "7           7  ...  {'neg': 0.134, 'neu': 0.738, 'pos': 0.128, 'co...\n",
              "8           8  ...  {'neg': 0.262, 'neu': 0.536, 'pos': 0.202, 'co...\n",
              "9           9  ...  {'neg': 0.162, 'neu': 0.73, 'pos': 0.108, 'com...\n",
              "\n",
              "[10 rows x 4 columns]"
            ]
          },
          "metadata": {
            "tags": []
          },
          "execution_count": 14
        }
      ]
    },
    {
      "cell_type": "code",
      "metadata": {
        "id": "VMRD7Zgjx7q2"
      },
      "source": [
        "\n",
        "df['compound'] = df['scores'].apply(lambda d:d['compound'])"
      ],
      "execution_count": 15,
      "outputs": []
    },
    {
      "cell_type": "code",
      "metadata": {
        "colab": {
          "base_uri": "https://localhost:8080/",
          "height": 359
        },
        "id": "rc86L7Tbx_P_",
        "outputId": "cb114cbe-bd96-45c3-e4c4-035d4dcaee61"
      },
      "source": [
        "df.head(10)"
      ],
      "execution_count": 16,
      "outputs": [
        {
          "output_type": "execute_result",
          "data": {
            "text/html": [
              "<div>\n",
              "<style scoped>\n",
              "    .dataframe tbody tr th:only-of-type {\n",
              "        vertical-align: middle;\n",
              "    }\n",
              "\n",
              "    .dataframe tbody tr th {\n",
              "        vertical-align: top;\n",
              "    }\n",
              "\n",
              "    .dataframe thead th {\n",
              "        text-align: right;\n",
              "    }\n",
              "</style>\n",
              "<table border=\"1\" class=\"dataframe\">\n",
              "  <thead>\n",
              "    <tr style=\"text-align: right;\">\n",
              "      <th></th>\n",
              "      <th>Unnamed: 0</th>\n",
              "      <th>reviews</th>\n",
              "      <th>ratings</th>\n",
              "      <th>scores</th>\n",
              "      <th>compound</th>\n",
              "    </tr>\n",
              "  </thead>\n",
              "  <tbody>\n",
              "    <tr>\n",
              "      <th>0</th>\n",
              "      <td>0</td>\n",
              "      <td>ok dslr giant canon launched entry level dslr ...</td>\n",
              "      <td>2.0</td>\n",
              "      <td>{'neg': 0.127, 'neu': 0.69, 'pos': 0.183, 'com...</td>\n",
              "      <td>0.8803</td>\n",
              "    </tr>\n",
              "    <tr>\n",
              "      <th>1</th>\n",
              "      <td>1</td>\n",
              "      <td>good camera beginner</td>\n",
              "      <td>5.0</td>\n",
              "      <td>{'neg': 0.0, 'neu': 0.408, 'pos': 0.592, 'comp...</td>\n",
              "      <td>0.4404</td>\n",
              "    </tr>\n",
              "    <tr>\n",
              "      <th>2</th>\n",
              "      <td>2</td>\n",
              "      <td>great camera perfect product young budding pho...</td>\n",
              "      <td>5.0</td>\n",
              "      <td>{'neg': 0.0, 'neu': 0.673, 'pos': 0.327, 'comp...</td>\n",
              "      <td>0.8934</td>\n",
              "    </tr>\n",
              "    <tr>\n",
              "      <th>3</th>\n",
              "      <td>3</td>\n",
              "      <td>really impressed amazon surprise delivering wi...</td>\n",
              "      <td>5.0</td>\n",
              "      <td>{'neg': 0.0, 'neu': 0.541, 'pos': 0.459, 'comp...</td>\n",
              "      <td>0.9801</td>\n",
              "    </tr>\n",
              "    <tr>\n",
              "      <th>4</th>\n",
              "      <td>4</td>\n",
              "      <td>buy product canon local service center help ev...</td>\n",
              "      <td>1.0</td>\n",
              "      <td>{'neg': 0.103, 'neu': 0.733, 'pos': 0.164, 'co...</td>\n",
              "      <td>0.4215</td>\n",
              "    </tr>\n",
              "    <tr>\n",
              "      <th>5</th>\n",
              "      <td>5</td>\n",
              "      <td>request replacement camera main body lot black...</td>\n",
              "      <td>1.0</td>\n",
              "      <td>{'neg': 0.0, 'neu': 0.897, 'pos': 0.103, 'comp...</td>\n",
              "      <td>0.3182</td>\n",
              "    </tr>\n",
              "    <tr>\n",
              "      <th>6</th>\n",
              "      <td>6</td>\n",
              "      <td>received product dslr cannon october adopter g...</td>\n",
              "      <td>2.0</td>\n",
              "      <td>{'neg': 0.135, 'neu': 0.865, 'pos': 0.0, 'comp...</td>\n",
              "      <td>-0.3612</td>\n",
              "    </tr>\n",
              "    <tr>\n",
              "      <th>7</th>\n",
              "      <td>7</td>\n",
              "      <td>auto focus perfectminimum aperture dont expect...</td>\n",
              "      <td>3.0</td>\n",
              "      <td>{'neg': 0.134, 'neu': 0.738, 'pos': 0.128, 'co...</td>\n",
              "      <td>-0.1280</td>\n",
              "    </tr>\n",
              "    <tr>\n",
              "      <th>8</th>\n",
              "      <td>8</td>\n",
              "      <td>want upgrade camera point shoot dslr good came...</td>\n",
              "      <td>4.0</td>\n",
              "      <td>{'neg': 0.262, 'neu': 0.536, 'pos': 0.202, 'co...</td>\n",
              "      <td>-0.6124</td>\n",
              "    </tr>\n",
              "    <tr>\n",
              "      <th>9</th>\n",
              "      <td>9</td>\n",
              "      <td>really fully content product reached within tw...</td>\n",
              "      <td>5.0</td>\n",
              "      <td>{'neg': 0.162, 'neu': 0.73, 'pos': 0.108, 'com...</td>\n",
              "      <td>-0.4863</td>\n",
              "    </tr>\n",
              "  </tbody>\n",
              "</table>\n",
              "</div>"
            ],
            "text/plain": [
              "   Unnamed: 0  ... compound\n",
              "0           0  ...   0.8803\n",
              "1           1  ...   0.4404\n",
              "2           2  ...   0.8934\n",
              "3           3  ...   0.9801\n",
              "4           4  ...   0.4215\n",
              "5           5  ...   0.3182\n",
              "6           6  ...  -0.3612\n",
              "7           7  ...  -0.1280\n",
              "8           8  ...  -0.6124\n",
              "9           9  ...  -0.4863\n",
              "\n",
              "[10 rows x 5 columns]"
            ]
          },
          "metadata": {
            "tags": []
          },
          "execution_count": 16
        }
      ]
    },
    {
      "cell_type": "code",
      "metadata": {
        "id": "sI9yoI9qyBrH"
      },
      "source": [
        "\n",
        "df['senti'] = df['compound'].apply(lambda score: 'pos' if score >=0 else 'neg')"
      ],
      "execution_count": 17,
      "outputs": []
    },
    {
      "cell_type": "code",
      "metadata": {
        "colab": {
          "base_uri": "https://localhost:8080/",
          "height": 359
        },
        "id": "LeUXig9HyJEV",
        "outputId": "298be22c-aaee-48c9-948e-2cceccc4bfa0"
      },
      "source": [
        "df.head(10)"
      ],
      "execution_count": 18,
      "outputs": [
        {
          "output_type": "execute_result",
          "data": {
            "text/html": [
              "<div>\n",
              "<style scoped>\n",
              "    .dataframe tbody tr th:only-of-type {\n",
              "        vertical-align: middle;\n",
              "    }\n",
              "\n",
              "    .dataframe tbody tr th {\n",
              "        vertical-align: top;\n",
              "    }\n",
              "\n",
              "    .dataframe thead th {\n",
              "        text-align: right;\n",
              "    }\n",
              "</style>\n",
              "<table border=\"1\" class=\"dataframe\">\n",
              "  <thead>\n",
              "    <tr style=\"text-align: right;\">\n",
              "      <th></th>\n",
              "      <th>Unnamed: 0</th>\n",
              "      <th>reviews</th>\n",
              "      <th>ratings</th>\n",
              "      <th>scores</th>\n",
              "      <th>compound</th>\n",
              "      <th>senti</th>\n",
              "    </tr>\n",
              "  </thead>\n",
              "  <tbody>\n",
              "    <tr>\n",
              "      <th>0</th>\n",
              "      <td>0</td>\n",
              "      <td>ok dslr giant canon launched entry level dslr ...</td>\n",
              "      <td>2.0</td>\n",
              "      <td>{'neg': 0.127, 'neu': 0.69, 'pos': 0.183, 'com...</td>\n",
              "      <td>0.8803</td>\n",
              "      <td>pos</td>\n",
              "    </tr>\n",
              "    <tr>\n",
              "      <th>1</th>\n",
              "      <td>1</td>\n",
              "      <td>good camera beginner</td>\n",
              "      <td>5.0</td>\n",
              "      <td>{'neg': 0.0, 'neu': 0.408, 'pos': 0.592, 'comp...</td>\n",
              "      <td>0.4404</td>\n",
              "      <td>pos</td>\n",
              "    </tr>\n",
              "    <tr>\n",
              "      <th>2</th>\n",
              "      <td>2</td>\n",
              "      <td>great camera perfect product young budding pho...</td>\n",
              "      <td>5.0</td>\n",
              "      <td>{'neg': 0.0, 'neu': 0.673, 'pos': 0.327, 'comp...</td>\n",
              "      <td>0.8934</td>\n",
              "      <td>pos</td>\n",
              "    </tr>\n",
              "    <tr>\n",
              "      <th>3</th>\n",
              "      <td>3</td>\n",
              "      <td>really impressed amazon surprise delivering wi...</td>\n",
              "      <td>5.0</td>\n",
              "      <td>{'neg': 0.0, 'neu': 0.541, 'pos': 0.459, 'comp...</td>\n",
              "      <td>0.9801</td>\n",
              "      <td>pos</td>\n",
              "    </tr>\n",
              "    <tr>\n",
              "      <th>4</th>\n",
              "      <td>4</td>\n",
              "      <td>buy product canon local service center help ev...</td>\n",
              "      <td>1.0</td>\n",
              "      <td>{'neg': 0.103, 'neu': 0.733, 'pos': 0.164, 'co...</td>\n",
              "      <td>0.4215</td>\n",
              "      <td>pos</td>\n",
              "    </tr>\n",
              "    <tr>\n",
              "      <th>5</th>\n",
              "      <td>5</td>\n",
              "      <td>request replacement camera main body lot black...</td>\n",
              "      <td>1.0</td>\n",
              "      <td>{'neg': 0.0, 'neu': 0.897, 'pos': 0.103, 'comp...</td>\n",
              "      <td>0.3182</td>\n",
              "      <td>pos</td>\n",
              "    </tr>\n",
              "    <tr>\n",
              "      <th>6</th>\n",
              "      <td>6</td>\n",
              "      <td>received product dslr cannon october adopter g...</td>\n",
              "      <td>2.0</td>\n",
              "      <td>{'neg': 0.135, 'neu': 0.865, 'pos': 0.0, 'comp...</td>\n",
              "      <td>-0.3612</td>\n",
              "      <td>neg</td>\n",
              "    </tr>\n",
              "    <tr>\n",
              "      <th>7</th>\n",
              "      <td>7</td>\n",
              "      <td>auto focus perfectminimum aperture dont expect...</td>\n",
              "      <td>3.0</td>\n",
              "      <td>{'neg': 0.134, 'neu': 0.738, 'pos': 0.128, 'co...</td>\n",
              "      <td>-0.1280</td>\n",
              "      <td>neg</td>\n",
              "    </tr>\n",
              "    <tr>\n",
              "      <th>8</th>\n",
              "      <td>8</td>\n",
              "      <td>want upgrade camera point shoot dslr good came...</td>\n",
              "      <td>4.0</td>\n",
              "      <td>{'neg': 0.262, 'neu': 0.536, 'pos': 0.202, 'co...</td>\n",
              "      <td>-0.6124</td>\n",
              "      <td>neg</td>\n",
              "    </tr>\n",
              "    <tr>\n",
              "      <th>9</th>\n",
              "      <td>9</td>\n",
              "      <td>really fully content product reached within tw...</td>\n",
              "      <td>5.0</td>\n",
              "      <td>{'neg': 0.162, 'neu': 0.73, 'pos': 0.108, 'com...</td>\n",
              "      <td>-0.4863</td>\n",
              "      <td>neg</td>\n",
              "    </tr>\n",
              "  </tbody>\n",
              "</table>\n",
              "</div>"
            ],
            "text/plain": [
              "   Unnamed: 0  ... senti\n",
              "0           0  ...   pos\n",
              "1           1  ...   pos\n",
              "2           2  ...   pos\n",
              "3           3  ...   pos\n",
              "4           4  ...   pos\n",
              "5           5  ...   pos\n",
              "6           6  ...   neg\n",
              "7           7  ...   neg\n",
              "8           8  ...   neg\n",
              "9           9  ...   neg\n",
              "\n",
              "[10 rows x 6 columns]"
            ]
          },
          "metadata": {
            "tags": []
          },
          "execution_count": 18
        }
      ]
    },
    {
      "cell_type": "code",
      "metadata": {
        "colab": {
          "base_uri": "https://localhost:8080/"
        },
        "id": "vsamkYipyftY",
        "outputId": "d20e3bfd-15b0-45aa-df4b-1e1bbcce99f9"
      },
      "source": [
        "print(df.isnull().sum())"
      ],
      "execution_count": 19,
      "outputs": [
        {
          "output_type": "stream",
          "text": [
            "Unnamed: 0    0\n",
            "reviews       0\n",
            "ratings       0\n",
            "scores        0\n",
            "compound      0\n",
            "senti         0\n",
            "dtype: int64\n"
          ],
          "name": "stdout"
        }
      ]
    },
    {
      "cell_type": "code",
      "metadata": {
        "id": "2jqYrW6Qyklo"
      },
      "source": [
        "senti = df.drop(df.columns[[0]], axis=1)"
      ],
      "execution_count": 20,
      "outputs": []
    },
    {
      "cell_type": "code",
      "metadata": {
        "colab": {
          "base_uri": "https://localhost:8080/",
          "height": 204
        },
        "id": "mq2uZJEwynJ6",
        "outputId": "ee55902b-c0e8-4255-806a-e80595bcc78d"
      },
      "source": [
        "senti.head()"
      ],
      "execution_count": 21,
      "outputs": [
        {
          "output_type": "execute_result",
          "data": {
            "text/html": [
              "<div>\n",
              "<style scoped>\n",
              "    .dataframe tbody tr th:only-of-type {\n",
              "        vertical-align: middle;\n",
              "    }\n",
              "\n",
              "    .dataframe tbody tr th {\n",
              "        vertical-align: top;\n",
              "    }\n",
              "\n",
              "    .dataframe thead th {\n",
              "        text-align: right;\n",
              "    }\n",
              "</style>\n",
              "<table border=\"1\" class=\"dataframe\">\n",
              "  <thead>\n",
              "    <tr style=\"text-align: right;\">\n",
              "      <th></th>\n",
              "      <th>reviews</th>\n",
              "      <th>ratings</th>\n",
              "      <th>scores</th>\n",
              "      <th>compound</th>\n",
              "      <th>senti</th>\n",
              "    </tr>\n",
              "  </thead>\n",
              "  <tbody>\n",
              "    <tr>\n",
              "      <th>0</th>\n",
              "      <td>ok dslr giant canon launched entry level dslr ...</td>\n",
              "      <td>2.0</td>\n",
              "      <td>{'neg': 0.127, 'neu': 0.69, 'pos': 0.183, 'com...</td>\n",
              "      <td>0.8803</td>\n",
              "      <td>pos</td>\n",
              "    </tr>\n",
              "    <tr>\n",
              "      <th>1</th>\n",
              "      <td>good camera beginner</td>\n",
              "      <td>5.0</td>\n",
              "      <td>{'neg': 0.0, 'neu': 0.408, 'pos': 0.592, 'comp...</td>\n",
              "      <td>0.4404</td>\n",
              "      <td>pos</td>\n",
              "    </tr>\n",
              "    <tr>\n",
              "      <th>2</th>\n",
              "      <td>great camera perfect product young budding pho...</td>\n",
              "      <td>5.0</td>\n",
              "      <td>{'neg': 0.0, 'neu': 0.673, 'pos': 0.327, 'comp...</td>\n",
              "      <td>0.8934</td>\n",
              "      <td>pos</td>\n",
              "    </tr>\n",
              "    <tr>\n",
              "      <th>3</th>\n",
              "      <td>really impressed amazon surprise delivering wi...</td>\n",
              "      <td>5.0</td>\n",
              "      <td>{'neg': 0.0, 'neu': 0.541, 'pos': 0.459, 'comp...</td>\n",
              "      <td>0.9801</td>\n",
              "      <td>pos</td>\n",
              "    </tr>\n",
              "    <tr>\n",
              "      <th>4</th>\n",
              "      <td>buy product canon local service center help ev...</td>\n",
              "      <td>1.0</td>\n",
              "      <td>{'neg': 0.103, 'neu': 0.733, 'pos': 0.164, 'co...</td>\n",
              "      <td>0.4215</td>\n",
              "      <td>pos</td>\n",
              "    </tr>\n",
              "  </tbody>\n",
              "</table>\n",
              "</div>"
            ],
            "text/plain": [
              "                                             reviews  ratings  ... compound  senti\n",
              "0  ok dslr giant canon launched entry level dslr ...      2.0  ...   0.8803    pos\n",
              "1                               good camera beginner      5.0  ...   0.4404    pos\n",
              "2  great camera perfect product young budding pho...      5.0  ...   0.8934    pos\n",
              "3  really impressed amazon surprise delivering wi...      5.0  ...   0.9801    pos\n",
              "4  buy product canon local service center help ev...      1.0  ...   0.4215    pos\n",
              "\n",
              "[5 rows x 5 columns]"
            ]
          },
          "metadata": {
            "tags": []
          },
          "execution_count": 21
        }
      ]
    },
    {
      "cell_type": "code",
      "metadata": {
        "colab": {
          "base_uri": "https://localhost:8080/"
        },
        "id": "Bdgrpy0syp5a",
        "outputId": "faf11004-8d16-42ec-f289-f73f6e4d806c"
      },
      "source": [
        "senti['senti'].value_counts()"
      ],
      "execution_count": 22,
      "outputs": [
        {
          "output_type": "execute_result",
          "data": {
            "text/plain": [
              "pos    2798\n",
              "neg     170\n",
              "Name: senti, dtype: int64"
            ]
          },
          "metadata": {
            "tags": []
          },
          "execution_count": 22
        }
      ]
    },
    {
      "cell_type": "code",
      "metadata": {
        "colab": {
          "base_uri": "https://localhost:8080/",
          "height": 291
        },
        "id": "oAaTBl5Iys2J",
        "outputId": "3c74de7d-eec0-4b31-cd9a-1ada37ad39b7"
      },
      "source": [
        "senti['senti'].value_counts().plot.bar()"
      ],
      "execution_count": 23,
      "outputs": [
        {
          "output_type": "execute_result",
          "data": {
            "text/plain": [
              "<matplotlib.axes._subplots.AxesSubplot at 0x7f0d904e2250>"
            ]
          },
          "metadata": {
            "tags": []
          },
          "execution_count": 23
        },
        {
          "output_type": "display_data",
          "data": {
            "image/png": "[encoded data removed]",
            "text/plain": [
              "<Figure size 432x288 with 1 Axes>"
            ]
          },
          "metadata": {
            "tags": [],
            "needs_background": "light"
          }
        }
      ]
    },
    {
      "cell_type": "code",
      "metadata": {
        "id": "qC3VZJ7wywnb"
      },
      "source": [
        "from sklearn import preprocessing"
      ],
      "execution_count": 24,
      "outputs": []
    },
    {
      "cell_type": "code",
      "metadata": {
        "id": "NF8p6IMJyzvw"
      },
      "source": [
        "label_encoder = preprocessing.LabelEncoder()"
      ],
      "execution_count": 25,
      "outputs": []
    },
    {
      "cell_type": "code",
      "metadata": {
        "id": "GVCb0rM2y2DD"
      },
      "source": [
        "senti['senti']= label_encoder.fit_transform(df['senti'])"
      ],
      "execution_count": 26,
      "outputs": []
    },
    {
      "cell_type": "code",
      "metadata": {
        "colab": {
          "base_uri": "https://localhost:8080/"
        },
        "id": "OFZyY6kwy5MI",
        "outputId": "199e5018-42a7-49b4-a9b8-13fa88c9d130"
      },
      "source": [
        "senti['senti'].unique()\n"
      ],
      "execution_count": 27,
      "outputs": [
        {
          "output_type": "execute_result",
          "data": {
            "text/plain": [
              "array([1, 0])"
            ]
          },
          "metadata": {
            "tags": []
          },
          "execution_count": 27
        }
      ]
    },
    {
      "cell_type": "code",
      "metadata": {
        "id": "b0kE1347y9J5"
      },
      "source": [
        "import re\n",
        "def cleaning_text(i):\n",
        "    i = re.sub(\"[^A-Za-z\" \"]+\",\" \",i).lower()\n",
        "    i = re.sub(\"[0-9\" \"]+\",\" \",i)\n",
        "    i= re.sub(\"[\\W+\"\"]\", \" \",i)        \n",
        "    w = []\n",
        "    for word in i.split(\" \"):\n",
        "        if len(word)>3:\n",
        "            w.append(word)\n",
        "    return (\" \".join(w))"
      ],
      "execution_count": 28,
      "outputs": []
    },
    {
      "cell_type": "code",
      "metadata": {
        "id": "3C3IUZ3ry-fD"
      },
      "source": [
        "senti['reviews']=senti.reviews.apply(cleaning_text)"
      ],
      "execution_count": 29,
      "outputs": []
    },
    {
      "cell_type": "code",
      "metadata": {
        "colab": {
          "base_uri": "https://localhost:8080/",
          "height": 359
        },
        "id": "CkueuwltzC8Z",
        "outputId": "764bb5c9-fd02-437c-ff8e-935893758391"
      },
      "source": [
        "senti.head(10)"
      ],
      "execution_count": 30,
      "outputs": [
        {
          "output_type": "execute_result",
          "data": {
            "text/html": [
              "<div>\n",
              "<style scoped>\n",
              "    .dataframe tbody tr th:only-of-type {\n",
              "        vertical-align: middle;\n",
              "    }\n",
              "\n",
              "    .dataframe tbody tr th {\n",
              "        vertical-align: top;\n",
              "    }\n",
              "\n",
              "    .dataframe thead th {\n",
              "        text-align: right;\n",
              "    }\n",
              "</style>\n",
              "<table border=\"1\" class=\"dataframe\">\n",
              "  <thead>\n",
              "    <tr style=\"text-align: right;\">\n",
              "      <th></th>\n",
              "      <th>reviews</th>\n",
              "      <th>ratings</th>\n",
              "      <th>scores</th>\n",
              "      <th>compound</th>\n",
              "      <th>senti</th>\n",
              "    </tr>\n",
              "  </thead>\n",
              "  <tbody>\n",
              "    <tr>\n",
              "      <th>0</th>\n",
              "      <td>dslr giant canon launched entry level dslr act...</td>\n",
              "      <td>2.0</td>\n",
              "      <td>{'neg': 0.127, 'neu': 0.69, 'pos': 0.183, 'com...</td>\n",
              "      <td>0.8803</td>\n",
              "      <td>1</td>\n",
              "    </tr>\n",
              "    <tr>\n",
              "      <th>1</th>\n",
              "      <td>good camera beginner</td>\n",
              "      <td>5.0</td>\n",
              "      <td>{'neg': 0.0, 'neu': 0.408, 'pos': 0.592, 'comp...</td>\n",
              "      <td>0.4404</td>\n",
              "      <td>1</td>\n",
              "    </tr>\n",
              "    <tr>\n",
              "      <th>2</th>\n",
              "      <td>great camera perfect product young budding pho...</td>\n",
              "      <td>5.0</td>\n",
              "      <td>{'neg': 0.0, 'neu': 0.673, 'pos': 0.327, 'comp...</td>\n",
              "      <td>0.8934</td>\n",
              "      <td>1</td>\n",
              "    </tr>\n",
              "    <tr>\n",
              "      <th>3</th>\n",
              "      <td>really impressed amazon surprise delivering wi...</td>\n",
              "      <td>5.0</td>\n",
              "      <td>{'neg': 0.0, 'neu': 0.541, 'pos': 0.459, 'comp...</td>\n",
              "      <td>0.9801</td>\n",
              "      <td>1</td>\n",
              "    </tr>\n",
              "    <tr>\n",
              "      <th>4</th>\n",
              "      <td>product canon local service center help even p...</td>\n",
              "      <td>1.0</td>\n",
              "      <td>{'neg': 0.103, 'neu': 0.733, 'pos': 0.164, 'co...</td>\n",
              "      <td>0.4215</td>\n",
              "      <td>1</td>\n",
              "    </tr>\n",
              "    <tr>\n",
              "      <th>5</th>\n",
              "      <td>request replacement camera main body blackspot...</td>\n",
              "      <td>1.0</td>\n",
              "      <td>{'neg': 0.0, 'neu': 0.897, 'pos': 0.103, 'comp...</td>\n",
              "      <td>0.3182</td>\n",
              "      <td>1</td>\n",
              "    </tr>\n",
              "    <tr>\n",
              "      <th>6</th>\n",
              "      <td>received product dslr cannon october adopter g...</td>\n",
              "      <td>2.0</td>\n",
              "      <td>{'neg': 0.135, 'neu': 0.865, 'pos': 0.0, 'comp...</td>\n",
              "      <td>-0.3612</td>\n",
              "      <td>0</td>\n",
              "    </tr>\n",
              "    <tr>\n",
              "      <th>7</th>\n",
              "      <td>auto focus perfectminimum aperture dont expect...</td>\n",
              "      <td>3.0</td>\n",
              "      <td>{'neg': 0.134, 'neu': 0.738, 'pos': 0.128, 'co...</td>\n",
              "      <td>-0.1280</td>\n",
              "      <td>0</td>\n",
              "    </tr>\n",
              "    <tr>\n",
              "      <th>8</th>\n",
              "      <td>want upgrade camera point shoot dslr good came...</td>\n",
              "      <td>4.0</td>\n",
              "      <td>{'neg': 0.262, 'neu': 0.536, 'pos': 0.202, 'co...</td>\n",
              "      <td>-0.6124</td>\n",
              "      <td>0</td>\n",
              "    </tr>\n",
              "    <tr>\n",
              "      <th>9</th>\n",
              "      <td>really fully content product reached within ev...</td>\n",
              "      <td>5.0</td>\n",
              "      <td>{'neg': 0.162, 'neu': 0.73, 'pos': 0.108, 'com...</td>\n",
              "      <td>-0.4863</td>\n",
              "      <td>0</td>\n",
              "    </tr>\n",
              "  </tbody>\n",
              "</table>\n",
              "</div>"
            ],
            "text/plain": [
              "                                             reviews  ratings  ... compound  senti\n",
              "0  dslr giant canon launched entry level dslr act...      2.0  ...   0.8803      1\n",
              "1                               good camera beginner      5.0  ...   0.4404      1\n",
              "2  great camera perfect product young budding pho...      5.0  ...   0.8934      1\n",
              "3  really impressed amazon surprise delivering wi...      5.0  ...   0.9801      1\n",
              "4  product canon local service center help even p...      1.0  ...   0.4215      1\n",
              "5  request replacement camera main body blackspot...      1.0  ...   0.3182      1\n",
              "6  received product dslr cannon october adopter g...      2.0  ...  -0.3612      0\n",
              "7  auto focus perfectminimum aperture dont expect...      3.0  ...  -0.1280      0\n",
              "8  want upgrade camera point shoot dslr good came...      4.0  ...  -0.6124      0\n",
              "9  really fully content product reached within ev...      5.0  ...  -0.4863      0\n",
              "\n",
              "[10 rows x 5 columns]"
            ]
          },
          "metadata": {
            "tags": []
          },
          "execution_count": 30
        }
      ]
    },
    {
      "cell_type": "markdown",
      "metadata": {
        "id": "EyYVWunREYCD"
      },
      "source": [
        "# Model Building "
      ]
    },
    {
      "cell_type": "code",
      "metadata": {
        "id": "2ZoJwAdIzWhq"
      },
      "source": [
        "from sklearn.model_selection import train_test_split\n",
        "from sklearn.feature_extraction.text import TfidfVectorizer"
      ],
      "execution_count": 31,
      "outputs": []
    },
    {
      "cell_type": "code",
      "metadata": {
        "id": "Q47D6GrNzGsi"
      },
      "source": [
        "split = senti[['reviews', 'senti']]\n",
        "train = split.sample(frac=0.8,random_state = 200)\n",
        "test = split.drop(train.index)"
      ],
      "execution_count": 35,
      "outputs": []
    },
    {
      "cell_type": "code",
      "metadata": {
        "colab": {
          "base_uri": "https://localhost:8080/"
        },
        "id": "OrMgKdk7zLWC",
        "outputId": "1f9c1229-59e9-4302-87a8-821f372f678e"
      },
      "source": [
        "train.shape"
      ],
      "execution_count": 36,
      "outputs": [
        {
          "output_type": "execute_result",
          "data": {
            "text/plain": [
              "(2374, 2)"
            ]
          },
          "metadata": {
            "tags": []
          },
          "execution_count": 36
        }
      ]
    },
    {
      "cell_type": "code",
      "metadata": {
        "colab": {
          "base_uri": "https://localhost:8080/"
        },
        "id": "t2qJhW9UzOTV",
        "outputId": "9f6fac1a-3434-4ed8-a4c6-a6904d7ef8d2"
      },
      "source": [
        "test.shape"
      ],
      "execution_count": 37,
      "outputs": [
        {
          "output_type": "execute_result",
          "data": {
            "text/plain": [
              "(594, 2)"
            ]
          },
          "metadata": {
            "tags": []
          },
          "execution_count": 37
        }
      ]
    },
    {
      "cell_type": "code",
      "metadata": {
        "id": "Zr5tyRc2zQV0"
      },
      "source": [
        "trainX=train.reviews\n",
        "trainy=train.senti\n",
        "testX=test.reviews\n",
        "testy=test.senti"
      ],
      "execution_count": 38,
      "outputs": []
    },
    {
      "cell_type": "code",
      "metadata": {
        "id": "oZ3zyAatzbWT"
      },
      "source": [
        "from wordcloud import STOPWORDS\n",
        "from sklearn.feature_extraction.text import TfidfTransformer\n",
        "from sklearn.feature_extraction.text import CountVectorizer"
      ],
      "execution_count": 39,
      "outputs": []
    },
    {
      "cell_type": "code",
      "metadata": {
        "id": "wl7-u_nVzeBC"
      },
      "source": [
        "stopwords = set(STOPWORDS)\n",
        "stopwords.remove(\"not\")"
      ],
      "execution_count": 40,
      "outputs": []
    },
    {
      "cell_type": "code",
      "metadata": {
        "id": "bdDrN5c1zfXJ"
      },
      "source": [
        "count_vect = CountVectorizer(min_df=2 ,stop_words=stopwords , ngram_range=(1,2))\n",
        "tfidf_transformer = TfidfTransformer()"
      ],
      "execution_count": 41,
      "outputs": []
    },
    {
      "cell_type": "code",
      "metadata": {
        "colab": {
          "base_uri": "https://localhost:8080/"
        },
        "id": "2Iqc98aYHwCa",
        "outputId": "4e10d4a6-0fed-4b0d-fa70-7b10f93cb112"
      },
      "source": [
        "all_features = count_vect.fit_transform(senti.reviews)\n",
        "all_features.shape"
      ],
      "execution_count": 88,
      "outputs": [
        {
          "output_type": "execute_result",
          "data": {
            "text/plain": [
              "(2968, 2634)"
            ]
          },
          "metadata": {
            "tags": []
          },
          "execution_count": 88
        }
      ]
    },
    {
      "cell_type": "code",
      "metadata": {
        "colab": {
          "base_uri": "https://localhost:8080/"
        },
        "id": "UmIZGrYZIAlF",
        "outputId": "269e5477-1e21-4d1a-faf2-8f080cb13db7"
      },
      "source": [
        "count_vect.vocabulary_"
      ],
      "execution_count": 89,
      "outputs": [
        {
          "output_type": "execute_result",
          "data": {
            "text/plain": [
              "{'dslr': 796,\n",
              " 'canon': 493,\n",
              " 'launched': 1343,\n",
              " 'entry': 871,\n",
              " 'level': 1392,\n",
              " 'actually': 15,\n",
              " 'bought': 327,\n",
              " 'camera': 378,\n",
              " 'friend': 1050,\n",
              " 'worth': 2608,\n",
              " 'easy': 839,\n",
              " 'decent': 710,\n",
              " 'battery': 159,\n",
              " 'backup': 147,\n",
              " 'live': 1420,\n",
              " 'mode': 1511,\n",
              " 'operation': 1632,\n",
              " 'focusing': 1035,\n",
              " 'making': 1461,\n",
              " 'much': 1541,\n",
              " 'noise': 1603,\n",
              " 'kind': 1323,\n",
              " 'annoying': 81,\n",
              " 'interest': 1304,\n",
              " 'taking': 2330,\n",
              " 'photo': 1705,\n",
              " 'button': 363,\n",
              " 'change': 572,\n",
              " 'stop': 2260,\n",
              " 'aperture': 86,\n",
              " 'manufacturer': 1470,\n",
              " 'dedicated': 715,\n",
              " 'changing': 575,\n",
              " 'thing': 2356,\n",
              " 'cant': 528,\n",
              " 'point': 1779,\n",
              " 'dial': 744,\n",
              " 'system': 2315,\n",
              " 'press': 1805,\n",
              " 'open': 1625,\n",
              " 'output': 1652,\n",
              " 'image': 1264,\n",
              " 'quality': 1939,\n",
              " 'mind': 1493,\n",
              " 'blowing': 317,\n",
              " 'white': 2549,\n",
              " 'balance': 149,\n",
              " 'want': 2515,\n",
              " 'take': 2316,\n",
              " 'main': 1454,\n",
              " 'issue': 1312,\n",
              " 'flash': 995,\n",
              " 'snap': 2201,\n",
              " 'anything': 85,\n",
              " 'subject': 2273,\n",
              " 'whatever': 2547,\n",
              " 'went': 2546,\n",
              " 'service': 2147,\n",
              " 'center': 567,\n",
              " 'saying': 2120,\n",
              " 'prime': 1837,\n",
              " 'lens': 1360,\n",
              " 'good': 1086,\n",
              " 'nikon': 1596,\n",
              " 'user': 2464,\n",
              " 'compared': 632,\n",
              " 'setting': 2149,\n",
              " 'manual': 1463,\n",
              " 'better': 288,\n",
              " 'word': 2585,\n",
              " 'push': 1938,\n",
              " 'photography': 1727,\n",
              " 'next': 1573,\n",
              " 'using': 2466,\n",
              " 'shoot': 2161,\n",
              " 'mobile': 1506,\n",
              " 'learn': 1345,\n",
              " 'whole': 2551,\n",
              " 'year': 2620,\n",
              " 'accessory': 8,\n",
              " 'costly': 671,\n",
              " 'wont': 2584,\n",
              " 'create': 681,\n",
              " 'towards': 2401,\n",
              " 'wrote': 2619,\n",
              " 'money': 1521,\n",
              " 'canon launched': 513,\n",
              " 'entry level': 872,\n",
              " 'level dslr': 1395,\n",
              " 'bought camera': 329,\n",
              " 'friend camera': 1051,\n",
              " 'camera worth': 474,\n",
              " 'decent battery': 711,\n",
              " 'battery backup': 160,\n",
              " 'mode operation': 1515,\n",
              " 'much noise': 1547,\n",
              " 'image quality': 1268,\n",
              " 'mind blowing': 1494,\n",
              " 'white balance': 2550,\n",
              " 'issue camera': 1313,\n",
              " 'camera flash': 411,\n",
              " 'service center': 2148,\n",
              " 'prime lens': 1838,\n",
              " 'lens good': 1378,\n",
              " 'camera taking': 456,\n",
              " 'manual mode': 1465,\n",
              " 'nikon better': 1597,\n",
              " 'better canon': 292,\n",
              " 'photography next': 1740,\n",
              " 'next level': 1574,\n",
              " 'point shoot': 1782,\n",
              " 'shoot mobile': 2163,\n",
              " 'mobile camera': 1508,\n",
              " 'camera dslr': 406,\n",
              " 'change camera': 573,\n",
              " 'camera year': 475,\n",
              " 'year canon': 2621,\n",
              " 'worth money': 2612,\n",
              " 'beginner': 182,\n",
              " 'good camera': 1100,\n",
              " 'camera beginner': 386,\n",
              " 'great': 1177,\n",
              " 'perfect': 1687,\n",
              " 'product': 1853,\n",
              " 'young': 2624,\n",
              " 'budding': 347,\n",
              " 'photographer': 1722,\n",
              " 'useful': 2457,\n",
              " 'inhouse': 1293,\n",
              " 'nature': 1556,\n",
              " 'function': 1061,\n",
              " 'spare': 2215,\n",
              " 'time': 2380,\n",
              " 'high': 1239,\n",
              " 'video': 2488,\n",
              " 'portrait': 1789,\n",
              " 'landscape': 1334,\n",
              " 'wildlife': 2563,\n",
              " 'great camera': 1181,\n",
              " 'camera perfect': 436,\n",
              " 'perfect product': 1691,\n",
              " 'product young': 1904,\n",
              " 'young budding': 2625,\n",
              " 'budding photographer': 348,\n",
              " 'photographer useful': 1726,\n",
              " 'inhouse nature': 1294,\n",
              " 'nature function': 1557,\n",
              " 'function spare': 1064,\n",
              " 'spare time': 2216,\n",
              " 'time photography': 2387,\n",
              " 'photography take': 1743,\n",
              " 'take high': 2320,\n",
              " 'high quality': 1240,\n",
              " 'quality video': 1980,\n",
              " 'video portrait': 2496,\n",
              " 'portrait landscape': 1790,\n",
              " 'landscape wildlife': 1335,\n",
              " 'wildlife nature': 2564,\n",
              " 'really': 2002,\n",
              " 'impressed': 1272,\n",
              " 'amazon': 55,\n",
              " 'delivering': 729,\n",
              " 'within': 2572,\n",
              " 'ordered': 1640,\n",
              " 'packing': 1667,\n",
              " 'excellent': 897,\n",
              " 'material': 1478,\n",
              " 'awesome': 127,\n",
              " 'love': 1435,\n",
              " 'control': 664,\n",
              " 'wifi': 2553,\n",
              " 'connect': 646,\n",
              " 'best': 260,\n",
              " 'self': 2134,\n",
              " 'group': 1202,\n",
              " 'speaks': 2217,\n",
              " 'everything': 892,\n",
              " 'dont': 779,\n",
              " 'blindly': 313,\n",
              " 'excellent quality': 907,\n",
              " 'quality material': 1963,\n",
              " 'control camera': 665,\n",
              " 'camera mobile': 429,\n",
              " 'mobile wifi': 1510,\n",
              " 'wifi easy': 2557,\n",
              " 'quality canon': 1951,\n",
              " 'beginner blindly': 189,\n",
              " 'local': 1422,\n",
              " 'help': 1233,\n",
              " 'even': 880,\n",
              " 'providing': 1928,\n",
              " 'demo': 736,\n",
              " 'complain': 638,\n",
              " 'india': 1285,\n",
              " 'reply': 2069,\n",
              " 'call': 372,\n",
              " 'hand': 1207,\n",
              " 'proof': 1919,\n",
              " 'blur': 319,\n",
              " 'proper': 1920,\n",
              " 'away': 126,\n",
              " 'product canon': 1867,\n",
              " 'local service': 1423,\n",
              " 'canon india': 512,\n",
              " 'blur image': 321,\n",
              " 'request': 2070,\n",
              " 'replacement': 2067,\n",
              " 'body': 325,\n",
              " 'automatically': 118,\n",
              " 'appears': 90,\n",
              " 'view': 2504,\n",
              " 'finder': 987,\n",
              " 'mirror': 1500,\n",
              " 'please': 1776,\n",
              " 'replace': 2066,\n",
              " 'soon': 2212,\n",
              " 'early': 832,\n",
              " 'received': 2025,\n",
              " 'cannon': 491,\n",
              " 'october': 1617,\n",
              " 'adopter': 24,\n",
              " 'given': 1079,\n",
              " 'along': 33,\n",
              " 'must': 1551,\n",
              " 'deliver': 723,\n",
              " 'gave': 1069,\n",
              " 'received product': 2032,\n",
              " 'auto': 107,\n",
              " 'focus': 1012,\n",
              " 'expect': 912,\n",
              " 'manually': 1468,\n",
              " 'play': 1774,\n",
              " 'lense': 1389,\n",
              " 'chance': 570,\n",
              " 'getting': 1072,\n",
              " 'missing': 1503,\n",
              " 'though': 2370,\n",
              " 'made': 1451,\n",
              " 'operate': 1629,\n",
              " 'nikkon': 1595,\n",
              " 'moving': 1539,\n",
              " 'captured': 537,\n",
              " 'expected': 915,\n",
              " 'poor': 1784,\n",
              " 'performance': 1693,\n",
              " 'second': 2129,\n",
              " 'lighting': 1406,\n",
              " 'condition': 643,\n",
              " 'several': 2151,\n",
              " 'value': 2479,\n",
              " 'model': 1517,\n",
              " 'willing': 2565,\n",
              " 'auto focus': 108,\n",
              " 'dont expect': 783,\n",
              " 'expect much': 913,\n",
              " 'chance getting': 571,\n",
              " 'focus even': 1018,\n",
              " 'even though': 886,\n",
              " 'several time': 2152,\n",
              " 'value money': 2480,\n",
              " 'money product': 1526,\n",
              " 'product dont': 1870,\n",
              " 'upgrade': 2442,\n",
              " 'start': 2236,\n",
              " 'videography': 2503,\n",
              " 'dslr good': 805,\n",
              " 'camera want': 469,\n",
              " 'want start': 2521,\n",
              " 'dont auto': 781,\n",
              " 'focus video': 1032,\n",
              " 'want camera': 2516,\n",
              " 'canon nikon': 518,\n",
              " 'fully': 1059,\n",
              " 'content': 660,\n",
              " 'reached': 1998,\n",
              " 'doubt': 789,\n",
              " 'difficult': 751,\n",
              " 'long': 1424,\n",
              " 'suggest': 2275,\n",
              " 'real': 2001,\n",
              " 'colour': 616,\n",
              " 'capturing': 538,\n",
              " 'fine': 988,\n",
              " 'slightly': 2189,\n",
              " 'feature': 962,\n",
              " 'price': 1811,\n",
              " 'doesnt': 774,\n",
              " 'mean': 1480,\n",
              " 'surely': 2310,\n",
              " 'look': 1427,\n",
              " 'think': 2360,\n",
              " 'good condition': 1106,\n",
              " 'beginner take': 231,\n",
              " 'take long': 2321,\n",
              " 'focus lens': 1022,\n",
              " 'nikon canon': 1598,\n",
              " 'cheated': 587,\n",
              " 'studio': 2266,\n",
              " 'light': 1398,\n",
              " 'external': 932,\n",
              " 'godox': 1083,\n",
              " 'work': 2587,\n",
              " 'reason': 2020,\n",
              " 'thisthe': 2369,\n",
              " 'contact': 656,\n",
              " 'removed': 2065,\n",
              " 'flash studio': 1003,\n",
              " 'studio light': 2267,\n",
              " 'camera external': 410,\n",
              " 'external flash': 934,\n",
              " 'youtube': 2628,\n",
              " 'buying': 365,\n",
              " 'doesn': 773,\n",
              " 'input': 1297,\n",
              " 'able': 0,\n",
              " 'record': 2048,\n",
              " 'without': 2574,\n",
              " 'option': 1635,\n",
              " 'recording': 2052,\n",
              " 'basic': 152,\n",
              " 'picture': 1753,\n",
              " 'click': 602,\n",
              " 'camera youtube': 476,\n",
              " 'buying camera': 366,\n",
              " 'camera doesn': 404,\n",
              " 'take great': 2319,\n",
              " 'great video': 1199,\n",
              " 'video recording': 2499,\n",
              " 'basic camera': 153,\n",
              " 'camera camera': 393,\n",
              " 'camera good': 414,\n",
              " 'good picture': 1145,\n",
              " 'choice': 592,\n",
              " 'range': 1991,\n",
              " 'friendly': 1052,\n",
              " 'recommend': 2036,\n",
              " 'everyone': 891,\n",
              " 'tight': 2377,\n",
              " 'budget': 350,\n",
              " 'perfect choice': 1690,\n",
              " 'choice beginner': 593,\n",
              " 'beginner price': 224,\n",
              " 'price range': 1827,\n",
              " 'decent camera': 712,\n",
              " 'camera user': 465,\n",
              " 'user friendly': 2465,\n",
              " 'tight budget': 2378,\n",
              " 'paid': 1670,\n",
              " 'read': 1999,\n",
              " 'review': 2090,\n",
              " 'expensive': 916,\n",
              " 'people': 1686,\n",
              " 'offer': 1618,\n",
              " 'period': 1698,\n",
              " 'tried': 2416,\n",
              " 'felt': 974,\n",
              " 'disappointed': 761,\n",
              " 'autofocus': 112,\n",
              " 'joke': 1320,\n",
              " 'forever': 1041,\n",
              " 'feel': 971,\n",
              " 'shot': 2172,\n",
              " 'instead': 1301,\n",
              " 'term': 2344,\n",
              " 'clarity': 597,\n",
              " 'photograph': 1721,\n",
              " 'grip': 1201,\n",
              " 'display': 768,\n",
              " 'youll': 2623,\n",
              " 'thats': 2354,\n",
              " 'dslrs': 825,\n",
              " 'every': 888,\n",
              " 'choose': 594,\n",
              " 'review bought': 2091,\n",
              " 'tried feature': 2418,\n",
              " 'click photo': 604,\n",
              " 'quality battery': 1946,\n",
              " 'thats worth': 2355,\n",
              " 'choose better': 595,\n",
              " 'better camera': 291,\n",
              " 'passion': 1678,\n",
              " 'good product': 1148,\n",
              " 'product really': 1890,\n",
              " 'really passion': 2015,\n",
              " 'passion photography': 1679,\n",
              " 'dual': 828,\n",
              " 'exactly': 894,\n",
              " 'half': 1205,\n",
              " 'delivery': 731,\n",
              " 'natural': 1555,\n",
              " 'connecting': 651,\n",
              " 'connectivity': 653,\n",
              " 'available': 119,\n",
              " 'upto': 2446,\n",
              " 'semi': 2139,\n",
              " 'dual lens': 829,\n",
              " 'lens body': 1367,\n",
              " 'best beginner': 261,\n",
              " 'operate camera': 1630,\n",
              " 'camera connecting': 399,\n",
              " 'wifi connectivity': 2556,\n",
              " 'beginner even': 201,\n",
              " 'thanks': 2351,\n",
              " 'courier': 675,\n",
              " 'partner': 1675,\n",
              " 'quick': 1986,\n",
              " 'well': 2538,\n",
              " 'deal': 702,\n",
              " 'purchased': 1935,\n",
              " 'around': 96,\n",
              " 'free': 1048,\n",
              " 'gift': 1073,\n",
              " 'headphone': 1228,\n",
              " 'coming': 626,\n",
              " 'learning': 1352,\n",
              " 'especially': 877,\n",
              " 'personal': 1700,\n",
              " 'experience': 917,\n",
              " 'week': 2534,\n",
              " 'combination': 617,\n",
              " 'shutter': 2179,\n",
              " 'desired': 741,\n",
              " 'practically': 1800,\n",
              " 'come': 622,\n",
              " 'master': 1476,\n",
              " 'personally': 1702,\n",
              " 'found': 1044,\n",
              " 'need': 1560,\n",
              " 'adjusted': 22,\n",
              " 'clicking': 608,\n",
              " 'sure': 2308,\n",
              " 'area': 94,\n",
              " 'improve': 1274,\n",
              " 'thanks amazon': 2352,\n",
              " 'courier partner': 676,\n",
              " 'awesome deal': 130,\n",
              " 'deal amazon': 703,\n",
              " 'amazon purchased': 71,\n",
              " 'camera great': 415,\n",
              " 'great learning': 1191,\n",
              " 'learning camera': 1354,\n",
              " 'camera especially': 408,\n",
              " 'especially beginner': 878,\n",
              " 'beginner love': 214,\n",
              " 'photography want': 1746,\n",
              " 'personal experience': 1701,\n",
              " 'using week': 2475,\n",
              " 'camera come': 397,\n",
              " 'come lens': 623,\n",
              " 'beginner master': 216,\n",
              " 'lens available': 1361,\n",
              " 'clicking picture': 609,\n",
              " 'need improve': 1563,\n",
              " 'charger': 579,\n",
              " 'charge': 576,\n",
              " 'batterycharger': 167,\n",
              " 'know': 1326,\n",
              " 'frustrated': 1056,\n",
              " 'return': 2084,\n",
              " 'policy': 1783,\n",
              " 'charger battery': 580,\n",
              " 'return policy': 2085,\n",
              " 'used': 2449,\n",
              " 'built': 359,\n",
              " 'guide': 1204,\n",
              " 'make': 1457,\n",
              " 'situation': 2186,\n",
              " 'extra': 936,\n",
              " 'wise': 2570,\n",
              " 'blogging': 316,\n",
              " 'result': 2081,\n",
              " 'limited': 1413,\n",
              " 'best entry': 271,\n",
              " 'dslr camera': 801,\n",
              " 'camera used': 463,\n",
              " 'mobile built': 1507,\n",
              " 'focus picture': 1027,\n",
              " 'picture quality': 1762,\n",
              " 'quality good': 1958,\n",
              " 'good time': 1158,\n",
              " 'extra flash': 938,\n",
              " 'best video': 287,\n",
              " 'video good': 2493,\n",
              " 'manual focus': 1464,\n",
              " 'focus best': 1017,\n",
              " 'best result': 283,\n",
              " 'better nikon': 298,\n",
              " 'video auto': 2489,\n",
              " 'camera budget': 392,\n",
              " 'dslr must': 810,\n",
              " 'home': 1251,\n",
              " 'trip': 2421,\n",
              " 'hence': 1238,\n",
              " 'check': 588,\n",
              " 'came': 375,\n",
              " 'opened': 1626,\n",
              " 'later': 1341,\n",
              " 'transfer': 2404,\n",
              " 'switched': 2314,\n",
              " 'problem': 1847,\n",
              " 'seller': 2136,\n",
              " 'date': 699,\n",
              " 'already': 37,\n",
              " 'contacted': 657,\n",
              " 'working': 2594,\n",
              " 'regarding': 2056,\n",
              " 'type': 2428,\n",
              " 'seen': 2131,\n",
              " 'many': 1471,\n",
              " 'buyer': 364,\n",
              " 'online': 1623,\n",
              " 'purchase': 1929,\n",
              " 'image good': 1266,\n",
              " 'transfer image': 2407,\n",
              " 'found camera': 1045,\n",
              " 'time problem': 2388,\n",
              " 'many camera': 1472,\n",
              " 'purchase product': 1934,\n",
              " 'experienced': 920,\n",
              " 'professional': 1911,\n",
              " 'sound': 2213,\n",
              " 'support': 2301,\n",
              " 'audio': 105,\n",
              " 'jack': 1318,\n",
              " 'bluetooth': 318,\n",
              " 'connection': 652,\n",
              " 'established': 879,\n",
              " 'manufactured': 1469,\n",
              " 'recently': 2033,\n",
              " 'technology': 2338,\n",
              " 'compatible': 635,\n",
              " 'give': 1075,\n",
              " 'cable': 371,\n",
              " 'unfortunately': 2434,\n",
              " 'provide': 1925,\n",
              " 'indian': 1287,\n",
              " 'market': 1475,\n",
              " 'update': 2441,\n",
              " 'professional photography': 1914,\n",
              " 'make much': 1459,\n",
              " 'record good': 2049,\n",
              " 'good quality': 1150,\n",
              " 'support external': 2302,\n",
              " 'camera support': 454,\n",
              " 'jack recording': 1319,\n",
              " 'external audio': 933,\n",
              " 'first': 990,\n",
              " 'giving': 1080,\n",
              " 'wonderful': 2579,\n",
              " 'dream': 795,\n",
              " 'true': 2422,\n",
              " 'finally': 985,\n",
              " 'dslrpicture': 824,\n",
              " 'quite': 1989,\n",
              " 'still': 2253,\n",
              " 'different': 748,\n",
              " 'little': 1417,\n",
              " 'handle': 1208,\n",
              " 'understand': 2430,\n",
              " 'amazon giving': 63,\n",
              " 'well light': 2542,\n",
              " 'still learning': 2258,\n",
              " 'learning different': 1355,\n",
              " 'different mode': 750,\n",
              " 'mode camera': 1513,\n",
              " 'taking picture': 2331,\n",
              " 'beginner little': 212,\n",
              " 'little difficult': 1418,\n",
              " 'difficult handle': 752,\n",
              " 'handle auto': 1209,\n",
              " 'auto mode': 110,\n",
              " 'used dont': 2451,\n",
              " 'brother': 341,\n",
              " 'last': 1338,\n",
              " 'amazoni': 78,\n",
              " 'single': 2185,\n",
              " 'beginnerseasy': 245,\n",
              " 'usegood': 2461,\n",
              " 'expectation': 914,\n",
              " 'stabilization': 2229,\n",
              " 'keep': 1321,\n",
              " 'last year': 1339,\n",
              " 'dslr beginnerseasy': 798,\n",
              " 'beginnerseasy usegood': 246,\n",
              " 'canon beginner': 496,\n",
              " 'hour': 1256,\n",
              " 'decision': 714,\n",
              " 'thought': 2373,\n",
              " 'night': 1593,\n",
              " 'didnt': 745,\n",
              " 'earlier': 831,\n",
              " 'iphone': 1310,\n",
              " 'class': 599,\n",
              " 'quickly': 1987,\n",
              " 'research': 2073,\n",
              " 'final': 984,\n",
              " 'guess': 1203,\n",
              " 'right': 2093,\n",
              " 'took': 2391,\n",
              " 'morning': 1534,\n",
              " 'paying': 1683,\n",
              " 'superb': 2289,\n",
              " 'star': 2233,\n",
              " 'sony': 2209,\n",
              " 'believe': 258,\n",
              " 'follow': 1039,\n",
              " 'instruction': 1302,\n",
              " 'highly': 1244,\n",
              " 'capture': 533,\n",
              " 'attaching': 104,\n",
              " 'experiment': 921,\n",
              " 'best class': 268,\n",
              " 'youtube video': 2629,\n",
              " 'made right': 1452,\n",
              " 'right choice': 2094,\n",
              " 'next morning': 1575,\n",
              " 'paying extra': 1684,\n",
              " 'star though': 2235,\n",
              " 'sony camera': 2210,\n",
              " 'first dslr': 992,\n",
              " 'highly recommend': 1245,\n",
              " 'faulty': 960,\n",
              " 'warranty': 2523,\n",
              " 'registered': 2059,\n",
              " 'steady': 2246,\n",
              " 'compare': 631,\n",
              " 'care': 552,\n",
              " 'party': 1676,\n",
              " 'wedding': 2533,\n",
              " 'life': 1396,\n",
              " 'case': 561,\n",
              " 'goodit': 1171,\n",
              " 'camera love': 425,\n",
              " 'great start': 1198,\n",
              " 'good great': 1123,\n",
              " 'great dslr': 1184,\n",
              " 'battery life': 164,\n",
              " 'camera case': 395,\n",
              " 'dated': 700,\n",
              " 'rather': 1996,\n",
              " 'face': 943,\n",
              " 'continuous': 661,\n",
              " 'digic': 754,\n",
              " 'processor': 1852,\n",
              " 'perfectly': 1692,\n",
              " 'shooting': 2166,\n",
              " 'color': 615,\n",
              " 'build': 357,\n",
              " 'menu': 1489,\n",
              " 'specific': 2221,\n",
              " 'switch': 2313,\n",
              " 'limitation': 1412,\n",
              " 'simple': 2183,\n",
              " 'straightforward': 2262,\n",
              " 'usability': 2447,\n",
              " 'unlike': 2438,\n",
              " 'advanced': 25,\n",
              " 'combined': 619,\n",
              " 'megapixel': 1482,\n",
              " 'sensor': 2141,\n",
              " 'almost': 32,\n",
              " 'apsc': 93,\n",
              " 'processing': 1851,\n",
              " 'bring': 339,\n",
              " 'youre': 2626,\n",
              " 'miss': 1501,\n",
              " 'opinion': 1633,\n",
              " 'feel dated': 972,\n",
              " 'live view': 1421,\n",
              " 'camera take': 455,\n",
              " 'digic image': 755,\n",
              " 'image processor': 1267,\n",
              " 'build quality': 358,\n",
              " 'shoot video': 2165,\n",
              " 'video camera': 2492,\n",
              " 'camera without': 471,\n",
              " 'better result': 303,\n",
              " 'sensor found': 2142,\n",
              " 'quality much': 1964,\n",
              " 'digic processor': 756,\n",
              " 'good image': 1125,\n",
              " 'best dslr': 270,\n",
              " 'wanted': 2522,\n",
              " 'order': 1639,\n",
              " 'never': 1571,\n",
              " 'number': 1615,\n",
              " 'nobody': 1602,\n",
              " 'packed': 1666,\n",
              " 'happy': 1217,\n",
              " 'charged': 577,\n",
              " 'purchase canon': 1931,\n",
              " 'canon never': 516,\n",
              " 'option tried': 1638,\n",
              " 'happy product': 1222,\n",
              " 'charged battery': 578,\n",
              " 'fantastic': 954,\n",
              " 'handling': 1213,\n",
              " 'fantastic camera': 955,\n",
              " 'feature good': 966,\n",
              " 'playing': 1775,\n",
              " 'cheap': 583,\n",
              " 'game': 1068,\n",
              " 'customer': 692,\n",
              " 'sale': 2102,\n",
              " 'cost': 670,\n",
              " 'false': 951,\n",
              " 'pricing': 1836,\n",
              " 'acceptable': 6,\n",
              " 'fraud': 1047,\n",
              " 'lost': 1434,\n",
              " 'except': 908,\n",
              " 'ordering': 1644,\n",
              " 'enough': 866,\n",
              " 'added': 16,\n",
              " 'advantage': 26,\n",
              " 'competitor': 637,\n",
              " 'ordered product': 1643,\n",
              " 'amazon really': 72,\n",
              " 'amazon good': 64,\n",
              " 'clear': 600,\n",
              " 'excellent camera': 899,\n",
              " 'pick': 1749,\n",
              " 'returned': 2088,\n",
              " 'item': 1315,\n",
              " 'returned item': 2089,\n",
              " 'amazing': 44,\n",
              " 'extended': 930,\n",
              " 'sealed': 2126,\n",
              " 'directly': 759,\n",
              " 'phone': 1704,\n",
              " 'memory': 1484,\n",
              " 'card': 539,\n",
              " 'carrying': 559,\n",
              " 'small': 2192,\n",
              " 'package': 1660,\n",
              " 'screen': 2122,\n",
              " 'protector': 1923,\n",
              " 'scratch': 2121,\n",
              " 'amazing product': 53,\n",
              " 'extended warranty': 931,\n",
              " 'working good': 2596,\n",
              " 'good best': 1096,\n",
              " 'feature wifi': 969,\n",
              " 'memory card': 1485,\n",
              " 'card battery': 541,\n",
              " 'extra battery': 937,\n",
              " 'design': 739,\n",
              " 'tele': 2339,\n",
              " 'zoom': 2631,\n",
              " 'macro': 1450,\n",
              " 'part': 1673,\n",
              " 'standard': 2232,\n",
              " 'wireless': 2568,\n",
              " 'price excellent': 1818,\n",
              " 'excellent picture': 905,\n",
              " 'zoom lens': 2632,\n",
              " 'good battery': 1091,\n",
              " 'move': 1537,\n",
              " 'overall': 1655,\n",
              " 'hell': 1232,\n",
              " 'alot': 35,\n",
              " 'suggestion': 2277,\n",
              " 'refund': 2055,\n",
              " 'sell': 2135,\n",
              " 'camera working': 473,\n",
              " 'working well': 2599,\n",
              " 'overall good': 1657,\n",
              " 'camera night': 433,\n",
              " 'alot time': 36,\n",
              " 'brought': 342,\n",
              " 'month': 1530,\n",
              " 'benefit': 259,\n",
              " 'casual': 565,\n",
              " 'product amazon': 1857,\n",
              " 'amazon great': 65,\n",
              " 'beginner want': 236,\n",
              " 'want learn': 2520,\n",
              " 'learn basic': 1346,\n",
              " 'professional camera': 1912,\n",
              " 'camera photography': 437,\n",
              " 'photography suggest': 1742,\n",
              " 'fixed': 994,\n",
              " 'disgusting': 766,\n",
              " 'movie': 1538,\n",
              " 'object': 1616,\n",
              " 'good video': 1162,\n",
              " 'autofocus video': 116,\n",
              " 'mobile phone': 1509,\n",
              " 'moving object': 1540,\n",
              " 'absolutely': 4,\n",
              " 'going': 1084,\n",
              " 'bcoz': 168,\n",
              " 'tell': 2343,\n",
              " 'description': 738,\n",
              " 'mention': 1487,\n",
              " 'totally': 2396,\n",
              " 'back': 144,\n",
              " 'careful': 553,\n",
              " 'absolutely perfect': 5,\n",
              " 'amazon service': 74,\n",
              " 'doesnt support': 776,\n",
              " 'digital': 757,\n",
              " 'sometimes': 2208,\n",
              " 'operating': 1631,\n",
              " 'worked': 2593,\n",
              " 'opening': 1628,\n",
              " 'closing': 612,\n",
              " 'started': 2241,\n",
              " 'centre': 569,\n",
              " 'sent': 2143,\n",
              " 'city': 596,\n",
              " 'workshop': 2600,\n",
              " 'brand': 334,\n",
              " 'thinking': 2364,\n",
              " 'changed': 574,\n",
              " 'canon dslr': 505,\n",
              " 'dslr small': 817,\n",
              " 'digital camera': 758,\n",
              " 'camera month': 431,\n",
              " 'month purchase': 1532,\n",
              " 'half month': 1206,\n",
              " 'doesnt work': 777,\n",
              " 'canon excellent': 508,\n",
              " 'disappointment': 763,\n",
              " 'pathetic': 1682,\n",
              " 'worst': 2605,\n",
              " 'couple': 673,\n",
              " 'drawback': 794,\n",
              " 'picture clarity': 1756,\n",
              " 'best price': 280,\n",
              " 'amazon delivery': 60,\n",
              " 'couple month': 674,\n",
              " 'resolution': 2074,\n",
              " 'various': 2484,\n",
              " 'familiar': 952,\n",
              " 'nice': 1576,\n",
              " 'space': 2214,\n",
              " 'first camera': 991,\n",
              " 'camera picture': 438,\n",
              " 'picture great': 1760,\n",
              " 'video quality': 2498,\n",
              " 'quality acceptable': 1940,\n",
              " 'high resolution': 1241,\n",
              " 'good even': 1114,\n",
              " 'even light': 884,\n",
              " 'setting auto': 2150,\n",
              " 'aperture shutter': 87,\n",
              " 'useful first': 2459,\n",
              " 'first time': 993,\n",
              " 'nice delivery': 1582,\n",
              " 'delivery good': 734,\n",
              " 'covered': 679,\n",
              " 'beginner great': 206,\n",
              " 'light photography': 1401,\n",
              " 'liked': 1409,\n",
              " 'lightweight': 1407,\n",
              " 'normal': 1608,\n",
              " 'bright': 337,\n",
              " 'average': 122,\n",
              " 'lightweight good': 1408,\n",
              " 'good normal': 1135,\n",
              " 'normal photography': 1610,\n",
              " 'photography lens': 1737,\n",
              " 'photo good': 1712,\n",
              " 'photo quality': 1717,\n",
              " 'quality average': 1943,\n",
              " 'twice': 2427,\n",
              " 'recieved': 2034,\n",
              " 'seal': 2124,\n",
              " 'tape': 2334,\n",
              " 'think twice': 2363,\n",
              " 'camera light': 423,\n",
              " 'convenient': 666,\n",
              " 'worry': 2603,\n",
              " 'transfering': 2410,\n",
              " 'cardjst': 550,\n",
              " 'inbuilt': 1276,\n",
              " 'smartphone': 2196,\n",
              " 'download': 790,\n",
              " 'picsave': 1750,\n",
              " 'camerathe': 486,\n",
              " 'lighti': 1404,\n",
              " 'flashand': 1006,\n",
              " 'superbimages': 2296,\n",
              " 'crisp': 687,\n",
              " 'pixelisationday': 1769,\n",
              " 'canon best': 497,\n",
              " 'dslr easy': 803,\n",
              " 'easy convenient': 843,\n",
              " 'canon connect': 504,\n",
              " 'connect superb': 650,\n",
              " 'superb worry': 2295,\n",
              " 'worry transfering': 2604,\n",
              " 'transfering memory': 2411,\n",
              " 'memory cardjst': 1486,\n",
              " 'cardjst connect': 551,\n",
              " 'connect dslr': 648,\n",
              " 'dslr inbuilt': 808,\n",
              " 'inbuilt wifi': 1278,\n",
              " 'wifi smartphone': 2561,\n",
              " 'smartphone view': 2198,\n",
              " 'view download': 2506,\n",
              " 'download picsave': 791,\n",
              " 'view click': 2505,\n",
              " 'best function': 272,\n",
              " 'function camerathe': 1063,\n",
              " 'camerathe dslr': 487,\n",
              " 'dslr work': 820,\n",
              " 'work well': 2592,\n",
              " 'well even': 2540,\n",
              " 'even lighti': 885,\n",
              " 'lighti tried': 1405,\n",
              " 'tried clicking': 2417,\n",
              " 'clicking without': 610,\n",
              " 'without using': 2577,\n",
              " 'using flashand': 2470,\n",
              " 'flashand came': 1007,\n",
              " 'came superbimages': 377,\n",
              " 'superbimages crisp': 2297,\n",
              " 'crisp issue': 689,\n",
              " 'issue pixelisationday': 1314,\n",
              " 'pixelisationday time': 1770,\n",
              " 'time image': 2385,\n",
              " 'image superb': 1269,\n",
              " 'till': 2379,\n",
              " 'might': 1492,\n",
              " 'stuck': 2264,\n",
              " 'always': 40,\n",
              " 'show': 2176,\n",
              " 'error': 876,\n",
              " 'work even': 2588,\n",
              " 'even able': 881,\n",
              " 'taken': 2327,\n",
              " 'full': 1057,\n",
              " 'size': 2187,\n",
              " 'website': 2532,\n",
              " 'extremely': 940,\n",
              " 'designed': 740,\n",
              " 'mail': 1453,\n",
              " 'invoice': 1309,\n",
              " 'nothing': 1612,\n",
              " 'appario': 88,\n",
              " 'page': 1669,\n",
              " 'picture taken': 1764,\n",
              " 'basic lens': 155,\n",
              " 'happy purchase': 1223,\n",
              " 'canon website': 525,\n",
              " 'performance camera': 1694,\n",
              " 'past': 1680,\n",
              " 'easily': 837,\n",
              " 'share': 2153,\n",
              " 'clicked': 606,\n",
              " 'using camera': 2467,\n",
              " 'camera past': 435,\n",
              " 'past month': 1681,\n",
              " 'recommend product': 2039,\n",
              " 'product beginner': 1862,\n",
              " 'great photo': 1193,\n",
              " 'photo using': 1719,\n",
              " 'quality photo': 1970,\n",
              " 'photo even': 1710,\n",
              " 'easily transfer': 838,\n",
              " 'transfer photo': 2408,\n",
              " 'photo clicked': 1709,\n",
              " 'clicked using': 607,\n",
              " 'informed': 1292,\n",
              " 'eosd': 875,\n",
              " 'shoe': 2159,\n",
              " 'thus': 2376,\n",
              " 'genuine': 1070,\n",
              " 'visited': 2510,\n",
              " 'simply': 2184,\n",
              " 'window': 2566,\n",
              " 'fair': 949,\n",
              " 'canon amazon': 495,\n",
              " 'amazon canon': 58,\n",
              " 'canon eosd': 507,\n",
              " 'return window': 2087,\n",
              " 'usage': 2448,\n",
              " 'selection': 2133,\n",
              " 'waste': 2526,\n",
              " 'autofocusing': 117,\n",
              " 'bought product': 333,\n",
              " 'totally worst': 2398,\n",
              " 'worst camera': 2606,\n",
              " 'many time': 1473,\n",
              " 'waste money': 2527,\n",
              " 'money camera': 1523,\n",
              " 'camera purchase': 441,\n",
              " 'camera totally': 460,\n",
              " 'family': 953,\n",
              " 'exploring': 926,\n",
              " 'looking': 1430,\n",
              " 'regret': 2060,\n",
              " 'separately': 2144,\n",
              " 'anyone': 84,\n",
              " 'helpful': 1235,\n",
              " 'great product': 1196,\n",
              " 'exploring feature': 927,\n",
              " 'feature beginner': 964,\n",
              " ...}"
            ]
          },
          "metadata": {
            "tags": []
          },
          "execution_count": 89
        }
      ]
    },
    {
      "cell_type": "code",
      "metadata": {
        "id": "GGgEQYvKziyR"
      },
      "source": [
        "X_train_counts = count_vect.fit_transform(train[\"reviews\"])        \n",
        "X_train_tfidf = tfidf_transformer.fit_transform(X_train_counts)"
      ],
      "execution_count": 90,
      "outputs": []
    },
    {
      "cell_type": "code",
      "metadata": {
        "id": "tjvP-lBhzmqh"
      },
      "source": [
        "X_new_counts = count_vect.transform(test[\"reviews\"])\n",
        "X_test_tfidf = tfidf_transformer.transform(X_new_counts)"
      ],
      "execution_count": 43,
      "outputs": []
    },
    {
      "cell_type": "code",
      "metadata": {
        "id": "kf0u0Zjozss6"
      },
      "source": [
        "from sklearn.metrics import classification_report,confusion_matrix,accuracy_score"
      ],
      "execution_count": 44,
      "outputs": []
    },
    {
      "cell_type": "markdown",
      "metadata": {
        "id": "OBOIz4vVzveH"
      },
      "source": [
        "Logistic Regresssion"
      ]
    },
    {
      "cell_type": "code",
      "metadata": {
        "colab": {
          "base_uri": "https://localhost:8080/"
        },
        "id": "dEUaSgU5zvNJ",
        "outputId": "8a97b9e8-a2bd-4e36-f56d-91916e7413ab"
      },
      "source": [
        "from sklearn.linear_model import LogisticRegression\n",
        "model=LogisticRegression()\n",
        "model.fit(X_train_tfidf,trainy)"
      ],
      "execution_count": 45,
      "outputs": [
        {
          "output_type": "execute_result",
          "data": {
            "text/plain": [
              "LogisticRegression(C=1.0, class_weight=None, dual=False, fit_intercept=True,\n",
              "                   intercept_scaling=1, l1_ratio=None, max_iter=100,\n",
              "                   multi_class='auto', n_jobs=None, penalty='l2',\n",
              "                   random_state=None, solver='lbfgs', tol=0.0001, verbose=0,\n",
              "                   warm_start=False)"
            ]
          },
          "metadata": {
            "tags": []
          },
          "execution_count": 45
        }
      ]
    },
    {
      "cell_type": "code",
      "metadata": {
        "id": "b9d0N_XXz72Y"
      },
      "source": [
        "y_pred=model.predict(X_test_tfidf)"
      ],
      "execution_count": 46,
      "outputs": []
    },
    {
      "cell_type": "code",
      "metadata": {
        "id": "DuA_MMgg0IDr"
      },
      "source": [
        "from sklearn.metrics import classification_report,confusion_matrix,accuracy_score"
      ],
      "execution_count": 47,
      "outputs": []
    },
    {
      "cell_type": "code",
      "metadata": {
        "colab": {
          "base_uri": "https://localhost:8080/"
        },
        "id": "y7MOVZmez_Pi",
        "outputId": "cf682012-6d23-46ba-e62c-881781fedf51"
      },
      "source": [
        "print(accuracy_score(testy,y_pred))\n",
        "print(classification_report(testy,y_pred))\n",
        "print(confusion_matrix(testy,y_pred))\n",
        "print(cohen_kappa_score(testy,y_pred))"
      ],
      "execution_count": 48,
      "outputs": [
        {
          "output_type": "stream",
          "text": [
            "0.9696969696969697\n",
            "              precision    recall  f1-score   support\n",
            "\n",
            "           0       1.00      0.18      0.31        22\n",
            "           1       0.97      1.00      0.98       572\n",
            "\n",
            "    accuracy                           0.97       594\n",
            "   macro avg       0.98      0.59      0.65       594\n",
            "weighted avg       0.97      0.97      0.96       594\n",
            "\n",
            "[[  4  18]\n",
            " [  0 572]]\n",
            "0.2997118155619596\n"
          ],
          "name": "stdout"
        }
      ]
    },
    {
      "cell_type": "code",
      "metadata": {
        "id": "yDHvjtnr54tg",
        "colab": {
          "base_uri": "https://localhost:8080/",
          "height": 638
        },
        "outputId": "1941aa45-530a-48aa-bee9-6625e5b75c66"
      },
      "source": [
        "from sklearn.metrics import roc_auc_score\n",
        "y_score1 = model.predict_proba(X_test_tfidf)[:,1]\n",
        "    \n",
        "false_positive_rate1, true_positive_rate1, threshold1 = roc_curve(testy, y_score1)\n",
        "print('roc_auc_score for Logistic Regression: ', roc_auc_score(testy, y_score1))\n",
        "\n",
        "plt.subplots(1, figsize=(10,10))\n",
        "plt.title('Receiver Operating Characteristic - Logistic regression')\n",
        "plt.plot(false_positive_rate1, true_positive_rate1)\n",
        "plt.plot([0, 1], ls=\"--\")\n",
        "plt.plot([0, 0], [1, 0] , c=\".7\"), plt.plot([1, 1] , c=\".7\")\n",
        "plt.ylabel('True Positive Rate')\n",
        "plt.xlabel('False Positive Rate')\n",
        "plt.show()\n"
      ],
      "execution_count": 50,
      "outputs": [
        {
          "output_type": "stream",
          "text": [
            "roc_auc_score for Logistic Regression:  0.8993960584869676\n"
          ],
          "name": "stdout"
        },
        {
          "output_type": "display_data",
          "data": {
            "image/png": "[encoded data removed]",
            "text/plain": [
              "<Figure size 720x720 with 1 Axes>"
            ]
          },
          "metadata": {
            "tags": [],
            "needs_background": "light"
          }
        }
      ]
    },
    {
      "cell_type": "code",
      "metadata": {
        "id": "8g0dvg0a7riZ"
      },
      "source": [
        "cm=confusion_matrix(testy,y_pred)\n",
        "TN=cm[0,0]\n",
        "TP=cm[1,1]\n",
        "FN=cm[1,0]\n",
        "FP=cm[0,1]\n",
        "sensitivity=TP/float(TP+FN)\n",
        "specificity=TN/float(TN+FP)\n"
      ],
      "execution_count": 51,
      "outputs": []
    },
    {
      "cell_type": "code",
      "metadata": {
        "colab": {
          "base_uri": "https://localhost:8080/"
        },
        "id": "QBBzpCIC784R",
        "outputId": "d1522702-5683-4096-8c0d-c6e7d6d88bc5"
      },
      "source": [
        "print('The acuuracy of the model = TP+TN/(TP+TN+FP+FN) = ',(TP+TN)/float(TP+TN+FP+FN),'\\n',\n",
        "\n",
        "'The Missclassification = 1-Accuracy = ',1-((TP+TN)/float(TP+TN+FP+FN)),'\\n',\n",
        "\n",
        "'Sensitivity or True Positive Rate = TP/(TP+FN) = ',TP/float(TP+FN),'\\n',\n",
        "\n",
        "'Specificity or True Negative Rate = TN/(TN+FP) = ',TN/float(TN+FP),'\\n',\n",
        "\n",
        "'Positive Predictive value = TP/(TP+FP) = ',TP/float(TP+FP),'\\n',\n",
        "\n",
        "'Negative predictive Value = TN/(TN+FN) = ',TN/float(TN+FN),'\\n',\n",
        "\n",
        "'Positive Likelihood Ratio = Sensitivity/(1-Specificity) = ',sensitivity/(1-specificity),'\\n',\n",
        "\n",
        "'Negative likelihood Ratio = (1-Sensitivity)/Specificity = ',(1-sensitivity)/specificity)"
      ],
      "execution_count": 52,
      "outputs": [
        {
          "output_type": "stream",
          "text": [
            "The acuuracy of the model = TP+TN/(TP+TN+FP+FN) =  0.9696969696969697 \n",
            " The Missclassification = 1-Accuracy =  0.030303030303030276 \n",
            " Sensitivity or True Positive Rate = TP/(TP+FN) =  1.0 \n",
            " Specificity or True Negative Rate = TN/(TN+FP) =  0.18181818181818182 \n",
            " Positive Predictive value = TP/(TP+FP) =  0.9694915254237289 \n",
            " Negative predictive Value = TN/(TN+FN) =  1.0 \n",
            " Positive Likelihood Ratio = Sensitivity/(1-Specificity) =  1.2222222222222223 \n",
            " Negative likelihood Ratio = (1-Sensitivity)/Specificity =  0.0\n"
          ],
          "name": "stdout"
        }
      ]
    },
    {
      "cell_type": "markdown",
      "metadata": {
        "id": "L8we8Ydf0Sh2"
      },
      "source": [
        "# Logistic Regression After SMOTE"
      ]
    },
    {
      "cell_type": "code",
      "metadata": {
        "id": "5wc9_5HA0Xf6"
      },
      "source": [
        "from imblearn.over_sampling import SMOTE"
      ],
      "execution_count": 62,
      "outputs": []
    },
    {
      "cell_type": "code",
      "metadata": {
        "id": "xIlgSMrl0aTT"
      },
      "source": [
        "sm=SMOTE(random_state=444)"
      ],
      "execution_count": 63,
      "outputs": []
    },
    {
      "cell_type": "code",
      "metadata": {
        "id": "XF848XVn0cuJ"
      },
      "source": [
        "X_train_res, y_train_res = sm.fit_resample(X_train_tfidf, trainy)"
      ],
      "execution_count": 64,
      "outputs": []
    },
    {
      "cell_type": "code",
      "metadata": {
        "colab": {
          "base_uri": "https://localhost:8080/"
        },
        "id": "_zIyOhMK0gdE",
        "outputId": "efef6769-cb93-42ee-cade-effb22163a7e"
      },
      "source": [
        "model2=LogisticRegression()\n",
        "model2.fit(X_train_res,y_train_res)"
      ],
      "execution_count": 65,
      "outputs": [
        {
          "output_type": "execute_result",
          "data": {
            "text/plain": [
              "LogisticRegression(C=1.0, class_weight=None, dual=False, fit_intercept=True,\n",
              "                   intercept_scaling=1, l1_ratio=None, max_iter=100,\n",
              "                   multi_class='auto', n_jobs=None, penalty='l2',\n",
              "                   random_state=None, solver='lbfgs', tol=0.0001, verbose=0,\n",
              "                   warm_start=False)"
            ]
          },
          "metadata": {
            "tags": []
          },
          "execution_count": 65
        }
      ]
    },
    {
      "cell_type": "code",
      "metadata": {
        "id": "7OK7La8feBQw"
      },
      "source": [
        "y_pred2=model2.predict(X_test_tfidf)"
      ],
      "execution_count": 66,
      "outputs": []
    },
    {
      "cell_type": "code",
      "metadata": {
        "colab": {
          "base_uri": "https://localhost:8080/"
        },
        "id": "U0YdD4uid_7l",
        "outputId": "e30272e8-2daa-4a2a-b554-9edf4ab763e0"
      },
      "source": [
        "print(accuracy_score(testy,y_pred2))\n",
        "print(classification_report(testy,y_pred2))\n",
        "print(confusion_matrix(testy,y_pred2))\n",
        "print(cohen_kappa_score(testy,y_pred2))"
      ],
      "execution_count": 67,
      "outputs": [
        {
          "output_type": "stream",
          "text": [
            "0.8552188552188552\n",
            "              precision    recall  f1-score   support\n",
            "\n",
            "           0       0.17      0.73      0.27        22\n",
            "           1       0.99      0.86      0.92       572\n",
            "\n",
            "    accuracy                           0.86       594\n",
            "   macro avg       0.58      0.79      0.60       594\n",
            "weighted avg       0.96      0.86      0.90       594\n",
            "\n",
            "[[ 16   6]\n",
            " [ 80 492]]\n",
            "0.22444889779559118\n"
          ],
          "name": "stdout"
        }
      ]
    },
    {
      "cell_type": "code",
      "metadata": {
        "colab": {
          "base_uri": "https://localhost:8080/",
          "height": 638
        },
        "id": "MGqUt046YmTX",
        "outputId": "f3d5286a-7c7d-4f43-e1a5-8839b51685d8"
      },
      "source": [
        "y_score2 = model2.predict_proba(X_test_tfidf)[:,1]\n",
        "    \n",
        "false_positive_rate2, true_positive_rate2, threshold1 = roc_curve(testy, y_score2)\n",
        "print('roc_auc_score for Logistic Regression after smote: ', roc_auc_score(testy, y_score2))\n",
        "\n",
        "plt.subplots(1, figsize=(10,10))\n",
        "plt.title('Receiver Operating Characteristic - Logistic regression after smote')\n",
        "plt.plot(false_positive_rate2, true_positive_rate2)\n",
        "plt.plot([0, 1], ls=\"--\")\n",
        "plt.plot([0, 0], [1, 0] , c=\".7\"), plt.plot([1, 1] , c=\".7\")\n",
        "plt.ylabel('True Positive Rate')\n",
        "plt.xlabel('False Positive Rate')\n",
        "plt.show()"
      ],
      "execution_count": 68,
      "outputs": [
        {
          "output_type": "stream",
          "text": [
            "roc_auc_score for Logistic Regression after smote:  0.8943102352193261\n"
          ],
          "name": "stdout"
        },
        {
          "output_type": "display_data",
          "data": {
            "image/png": "[encoded data removed]",
            "text/plain": [
              "<Figure size 720x720 with 1 Axes>"
            ]
          },
          "metadata": {
            "tags": [],
            "needs_background": "light"
          }
        }
      ]
    },
    {
      "cell_type": "markdown",
      "metadata": {
        "id": "q8eSw4v30sX5"
      },
      "source": [
        "# MultiNomial NB"
      ]
    },
    {
      "cell_type": "code",
      "metadata": {
        "id": "iKT9JBif0rvL"
      },
      "source": [
        "from sklearn.naive_bayes import MultinomialNB"
      ],
      "execution_count": 82,
      "outputs": []
    },
    {
      "cell_type": "code",
      "metadata": {
        "colab": {
          "base_uri": "https://localhost:8080/"
        },
        "id": "MfSV0GBO00gB",
        "outputId": "535c5f19-dcca-46ac-a6c0-a399b44d6d8a"
      },
      "source": [
        "model3=MultinomialNB()\n",
        "model3.fit(X_train_tfidf,trainy)"
      ],
      "execution_count": 83,
      "outputs": [
        {
          "output_type": "execute_result",
          "data": {
            "text/plain": [
              "MultinomialNB(alpha=1.0, class_prior=None, fit_prior=True)"
            ]
          },
          "metadata": {
            "tags": []
          },
          "execution_count": 83
        }
      ]
    },
    {
      "cell_type": "code",
      "metadata": {
        "id": "Icw5opnu04Wp"
      },
      "source": [
        "y_pred3=model3.predict(X_test_tfidf)"
      ],
      "execution_count": 84,
      "outputs": []
    },
    {
      "cell_type": "code",
      "metadata": {
        "colab": {
          "base_uri": "https://localhost:8080/"
        },
        "id": "6d3UYyG0eTCm",
        "outputId": "2da1b979-fc0b-4e11-a732-7566ef5eac42"
      },
      "source": [
        "print(accuracy_score(testy,y_pred3))\n",
        "print(classification_report(testy,y_pred3))\n",
        "print(confusion_matrix(testy,y_pred3))\n",
        "print(cohen_kappa_score(testy,y_pred3))"
      ],
      "execution_count": 85,
      "outputs": [
        {
          "output_type": "stream",
          "text": [
            "0.9629629629629629\n",
            "              precision    recall  f1-score   support\n",
            "\n",
            "           0       0.00      0.00      0.00        22\n",
            "           1       0.96      1.00      0.98       572\n",
            "\n",
            "    accuracy                           0.96       594\n",
            "   macro avg       0.48      0.50      0.49       594\n",
            "weighted avg       0.93      0.96      0.94       594\n",
            "\n",
            "[[  0  22]\n",
            " [  0 572]]\n",
            "0.0\n"
          ],
          "name": "stdout"
        }
      ]
    },
    {
      "cell_type": "code",
      "metadata": {
        "colab": {
          "base_uri": "https://localhost:8080/",
          "height": 638
        },
        "id": "nDBdiebyeoRy",
        "outputId": "0331edc2-9b4c-4a6b-f8e3-6d254df120b4"
      },
      "source": [
        "y_score3 = model3.predict_proba(X_test_tfidf)[:,1]\n",
        "    \n",
        "false_positive_rate3, true_positive_rate3, threshold1 = roc_curve(testy, y_score3)\n",
        "print('roc_auc_score for multinomialNB : ', roc_auc_score(testy, y_score3))\n",
        "\n",
        "plt.subplots(1, figsize=(10,10))\n",
        "plt.title('Receiver Operating Characteristic - multinomial NB')\n",
        "plt.plot(false_positive_rate3, true_positive_rate3)\n",
        "plt.plot([0, 1], ls=\"--\")\n",
        "plt.plot([0, 0], [1, 0] , c=\".7\"), plt.plot([1, 1] , c=\".7\")\n",
        "plt.ylabel('True Positive Rate')\n",
        "plt.xlabel('False Positive Rate')\n",
        "plt.show()"
      ],
      "execution_count": 86,
      "outputs": [
        {
          "output_type": "stream",
          "text": [
            "roc_auc_score for multinomialNB :  0.8902574698029243\n"
          ],
          "name": "stdout"
        },
        {
          "output_type": "display_data",
          "data": {
            "image/png": "[encoded data removed]",
            "text/plain": [
              "<Figure size 720x720 with 1 Axes>"
            ]
          },
          "metadata": {
            "tags": [],
            "needs_background": "light"
          }
        }
      ]
    },
    {
      "cell_type": "markdown",
      "metadata": {
        "id": "Zr1UEi0S1KlZ"
      },
      "source": [
        "# Multinomial NB after SMOTE"
      ]
    },
    {
      "cell_type": "code",
      "metadata": {
        "id": "6DomZuq81IWZ"
      },
      "source": [
        "sm=SMOTE(random_state=444)"
      ],
      "execution_count": 91,
      "outputs": []
    },
    {
      "cell_type": "code",
      "metadata": {
        "colab": {
          "base_uri": "https://localhost:8080/"
        },
        "id": "g2ufAV5q1cnK",
        "outputId": "e036b7c5-2978-4372-d675-ba3507285624"
      },
      "source": [
        "model4=MultinomialNB()\n",
        "model4.fit(X_train_res,y_train_res)"
      ],
      "execution_count": 92,
      "outputs": [
        {
          "output_type": "execute_result",
          "data": {
            "text/plain": [
              "MultinomialNB(alpha=1.0, class_prior=None, fit_prior=True)"
            ]
          },
          "metadata": {
            "tags": []
          },
          "execution_count": 92
        }
      ]
    },
    {
      "cell_type": "code",
      "metadata": {
        "id": "jksAhBPP1i5J"
      },
      "source": [
        "y_pred4=model4.predict(X_test_tfidf)"
      ],
      "execution_count": 93,
      "outputs": []
    },
    {
      "cell_type": "code",
      "metadata": {
        "colab": {
          "base_uri": "https://localhost:8080/"
        },
        "id": "PYnsSK9N1onT",
        "outputId": "f672bee6-b0d3-4a41-99cf-25865b655015"
      },
      "source": [
        "print(accuracy_score(testy,y_pred4))\n",
        "print(classification_report(testy,y_pred4))\n",
        "print(confusion_matrix(testy,y_pred4))\n",
        "print(cohen_kappa_score(testy,y_pred4))"
      ],
      "execution_count": 94,
      "outputs": [
        {
          "output_type": "stream",
          "text": [
            "0.8636363636363636\n",
            "              precision    recall  f1-score   support\n",
            "\n",
            "           0       0.18      0.73      0.28        22\n",
            "           1       0.99      0.87      0.92       572\n",
            "\n",
            "    accuracy                           0.86       594\n",
            "   macro avg       0.58      0.80      0.60       594\n",
            "weighted avg       0.96      0.86      0.90       594\n",
            "\n",
            "[[ 16   6]\n",
            " [ 75 497]]\n",
            "0.23771348902056466\n"
          ],
          "name": "stdout"
        }
      ]
    },
    {
      "cell_type": "code",
      "metadata": {
        "colab": {
          "base_uri": "https://localhost:8080/",
          "height": 638
        },
        "id": "UIOvpA6GfO0Z",
        "outputId": "c830688d-a19c-45b8-eab2-7849ae4fdabe"
      },
      "source": [
        "y_score4 = model4.predict_proba(X_test_tfidf)[:,1]\n",
        "    \n",
        "false_positive_rate4, true_positive_rate4, threshold1 = roc_curve(testy, y_score4)\n",
        "print('roc_auc_score for multinomialNB smote: ', roc_auc_score(testy, y_score4))\n",
        "\n",
        "plt.subplots(1, figsize=(10,10))\n",
        "plt.title('Receiver Operating Characteristic - multinomial NB after smote')\n",
        "plt.plot(false_positive_rate4, true_positive_rate4)\n",
        "plt.plot([0, 1], ls=\"--\")\n",
        "plt.plot([0, 0], [1, 0] , c=\".7\"), plt.plot([1, 1] , c=\".7\")\n",
        "plt.ylabel('True Positive Rate')\n",
        "plt.xlabel('False Positive Rate')\n",
        "plt.show()"
      ],
      "execution_count": 95,
      "outputs": [
        {
          "output_type": "stream",
          "text": [
            "roc_auc_score for multinomialNB smote:  0.9027336300063572\n"
          ],
          "name": "stdout"
        },
        {
          "output_type": "display_data",
          "data": {
            "image/png": "[encoded data removed]",
            "text/plain": [
              "<Figure size 720x720 with 1 Axes>"
            ]
          },
          "metadata": {
            "tags": [],
            "needs_background": "light"
          }
        }
      ]
    },
    {
      "cell_type": "code",
      "metadata": {
        "id": "x-eav7I9e986"
      },
      "source": [
        ""
      ],
      "execution_count": null,
      "outputs": []
    },
    {
      "cell_type": "markdown",
      "metadata": {
        "id": "osSzKj7T1x-i"
      },
      "source": [
        "# Bernouli NB"
      ]
    },
    {
      "cell_type": "code",
      "metadata": {
        "id": "XT9SWdD3101L"
      },
      "source": [
        "from sklearn.naive_bayes import BernoulliNB"
      ],
      "execution_count": 96,
      "outputs": []
    },
    {
      "cell_type": "code",
      "metadata": {
        "colab": {
          "base_uri": "https://localhost:8080/"
        },
        "id": "VzHqdQ9413Vj",
        "outputId": "c2ef71b5-b575-449b-ae14-87bfd63c6607"
      },
      "source": [
        "model5=BernoulliNB()\n",
        "model5.fit(X_train_tfidf,trainy)"
      ],
      "execution_count": 97,
      "outputs": [
        {
          "output_type": "execute_result",
          "data": {
            "text/plain": [
              "BernoulliNB(alpha=1.0, binarize=0.0, class_prior=None, fit_prior=True)"
            ]
          },
          "metadata": {
            "tags": []
          },
          "execution_count": 97
        }
      ]
    },
    {
      "cell_type": "code",
      "metadata": {
        "id": "ubOweKqH16NW"
      },
      "source": [
        "y_pred5=model5.predict(X_test_tfidf)"
      ],
      "execution_count": 98,
      "outputs": []
    },
    {
      "cell_type": "code",
      "metadata": {
        "colab": {
          "base_uri": "https://localhost:8080/"
        },
        "id": "FHCAdvWa1-NC",
        "outputId": "bea7be87-cdfe-4f28-8895-1b5ca5b3416c"
      },
      "source": [
        "print(accuracy_score(testy,y_pred5))\n",
        "print(classification_report(testy,y_pred5))\n",
        "print(confusion_matrix(testy,y_pred5))\n",
        "print(cohen_kappa_score(testy,y_pred5))"
      ],
      "execution_count": 99,
      "outputs": [
        {
          "output_type": "stream",
          "text": [
            "0.9276094276094277\n",
            "              precision    recall  f1-score   support\n",
            "\n",
            "           0       0.08      0.09      0.09        22\n",
            "           1       0.96      0.96      0.96       572\n",
            "\n",
            "    accuracy                           0.93       594\n",
            "   macro avg       0.52      0.53      0.52       594\n",
            "weighted avg       0.93      0.93      0.93       594\n",
            "\n",
            "[[  2  20]\n",
            " [ 23 549]]\n",
            "0.047579983593109\n"
          ],
          "name": "stdout"
        }
      ]
    },
    {
      "cell_type": "code",
      "metadata": {
        "colab": {
          "base_uri": "https://localhost:8080/",
          "height": 638
        },
        "id": "XglDmEt5fyHi",
        "outputId": "6b134585-2e67-4174-a700-8b14509027e1"
      },
      "source": [
        "y_score5 = model5.predict_proba(X_test_tfidf)[:,1]\n",
        "    \n",
        "false_positive_rate5, true_positive_rate5, threshold1 = roc_curve(testy, y_score5)\n",
        "print('roc_auc_score for Bernouli NB: ', roc_auc_score(testy, y_score5))\n",
        "\n",
        "plt.subplots(1, figsize=(10,10))\n",
        "plt.title('Receiver Operating Characteristic -Bernouli NB ')\n",
        "plt.plot(false_positive_rate5, true_positive_rate5)\n",
        "plt.plot([0, 1], ls=\"--\")\n",
        "plt.plot([0, 0], [1, 0] , c=\".7\"), plt.plot([1, 1] , c=\".7\")\n",
        "plt.ylabel('True Positive Rate')\n",
        "plt.xlabel('False Positive Rate')\n",
        "plt.show()"
      ],
      "execution_count": 100,
      "outputs": [
        {
          "output_type": "stream",
          "text": [
            "roc_auc_score for Bernouli NB:  0.8332406230133502\n"
          ],
          "name": "stdout"
        },
        {
          "output_type": "display_data",
          "data": {
            "image/png": "[encoded data removed]",
            "text/plain": [
              "<Figure size 720x720 with 1 Axes>"
            ]
          },
          "metadata": {
            "tags": [],
            "needs_background": "light"
          }
        }
      ]
    },
    {
      "cell_type": "code",
      "metadata": {
        "id": "Zj8Ljd7db4m9"
      },
      "source": [
        ""
      ],
      "execution_count": null,
      "outputs": []
    },
    {
      "cell_type": "markdown",
      "metadata": {
        "id": "yfDWIPn12DwS"
      },
      "source": [
        "# bernouli NB after SMOTE"
      ]
    },
    {
      "cell_type": "code",
      "metadata": {
        "colab": {
          "base_uri": "https://localhost:8080/"
        },
        "id": "OQpnXu_E2J4Q",
        "outputId": "543a2ab0-ad0e-4710-f90a-cae499b2815e"
      },
      "source": [
        "model6=BernoulliNB()\n",
        "model6.fit(X_train_res,y_train_res)"
      ],
      "execution_count": 101,
      "outputs": [
        {
          "output_type": "execute_result",
          "data": {
            "text/plain": [
              "BernoulliNB(alpha=1.0, binarize=0.0, class_prior=None, fit_prior=True)"
            ]
          },
          "metadata": {
            "tags": []
          },
          "execution_count": 101
        }
      ]
    },
    {
      "cell_type": "code",
      "metadata": {
        "id": "XOYyqYLg2AnK"
      },
      "source": [
        "y_pred6=model6.predict(X_test_tfidf)"
      ],
      "execution_count": 102,
      "outputs": []
    },
    {
      "cell_type": "code",
      "metadata": {
        "colab": {
          "base_uri": "https://localhost:8080/"
        },
        "id": "T8FLEAbb2SVq",
        "outputId": "a79fd093-7972-44b9-f01a-038f5d16e152"
      },
      "source": [
        "print(accuracy_score(testy,y_pred6))\n",
        "print(classification_report(testy,y_pred6))\n",
        "print(confusion_matrix(testy,y_pred6))\n",
        "print(cohen_kappa_score(testy,y_pred6))"
      ],
      "execution_count": 103,
      "outputs": [
        {
          "output_type": "stream",
          "text": [
            "0.9494949494949495\n",
            "              precision    recall  f1-score   support\n",
            "\n",
            "           0       0.36      0.45      0.40        22\n",
            "           1       0.98      0.97      0.97       572\n",
            "\n",
            "    accuracy                           0.95       594\n",
            "   macro avg       0.67      0.71      0.69       594\n",
            "weighted avg       0.96      0.95      0.95       594\n",
            "\n",
            "[[ 10  12]\n",
            " [ 18 554]]\n",
            "0.37403400309119006\n"
          ],
          "name": "stdout"
        }
      ]
    },
    {
      "cell_type": "code",
      "metadata": {
        "colab": {
          "base_uri": "https://localhost:8080/",
          "height": 638
        },
        "id": "tYIhwYPPgSQO",
        "outputId": "e10ba167-da75-46ec-a40e-e44694adfae9"
      },
      "source": [
        "y_score6 = model6.predict_proba(X_test_tfidf)[:,1]\n",
        "    \n",
        "false_positive_rate6, true_positive_rate6, threshold1 = roc_curve(testy, y_score6)\n",
        "print('roc_auc_score for Bernouli NB after SMOTE: ', roc_auc_score(testy, y_score6))\n",
        "\n",
        "plt.subplots(1, figsize=(10,10))\n",
        "plt.title('Receiver Operating Characteristic -Bernouli NB after SMOTE: ')\n",
        "plt.plot(false_positive_rate6, true_positive_rate6)\n",
        "plt.plot([0, 1], ls=\"--\")\n",
        "plt.plot([0, 0], [1, 0] , c=\".7\"), plt.plot([1, 1] , c=\".7\")\n",
        "plt.ylabel('True Positive Rate')\n",
        "plt.xlabel('False Positive Rate')\n",
        "plt.show()"
      ],
      "execution_count": 104,
      "outputs": [
        {
          "output_type": "stream",
          "text": [
            "roc_auc_score for Bernouli NB after SMOTE:  0.8414256198347106\n"
          ],
          "name": "stdout"
        },
        {
          "output_type": "display_data",
          "data": {
            "image/png": "[encoded data removed]",
            "text/plain": [
              "<Figure size 720x720 with 1 Axes>"
            ]
          },
          "metadata": {
            "tags": [],
            "needs_background": "light"
          }
        }
      ]
    },
    {
      "cell_type": "markdown",
      "metadata": {
        "id": "8TxJl8au2d6B"
      },
      "source": [
        "# SVM"
      ]
    },
    {
      "cell_type": "code",
      "metadata": {
        "colab": {
          "base_uri": "https://localhost:8080/"
        },
        "id": "jElwEJav2Wiy",
        "outputId": "f31216cc-b8f6-485b-994c-6b5b9b8ef691"
      },
      "source": [
        "from sklearn.svm import LinearSVC,SVC\n",
        "from nltk.classify.scikitlearn import SklearnClassifier\n",
        "LinearSVC_classifier = SklearnClassifier(SVC(kernel='linear',probability=True))\n",
        "model7=LinearSVC()\n",
        "model7.fit(X_train_tfidf,trainy)"
      ],
      "execution_count": 105,
      "outputs": [
        {
          "output_type": "execute_result",
          "data": {
            "text/plain": [
              "LinearSVC(C=1.0, class_weight=None, dual=True, fit_intercept=True,\n",
              "          intercept_scaling=1, loss='squared_hinge', max_iter=1000,\n",
              "          multi_class='ovr', penalty='l2', random_state=None, tol=0.0001,\n",
              "          verbose=0)"
            ]
          },
          "metadata": {
            "tags": []
          },
          "execution_count": 105
        }
      ]
    },
    {
      "cell_type": "code",
      "metadata": {
        "id": "Q04SqPr_2qyD"
      },
      "source": [
        "y_pred7=model7.predict(X_test_tfidf)"
      ],
      "execution_count": 106,
      "outputs": []
    },
    {
      "cell_type": "code",
      "metadata": {
        "colab": {
          "base_uri": "https://localhost:8080/"
        },
        "id": "cbeCUvpd2tVm",
        "outputId": "ca764182-b99a-4b88-96be-48fe842d8e71"
      },
      "source": [
        "print(accuracy_score(testy,y_pred7))\n",
        "print(classification_report(testy,y_pred7))\n",
        "print(confusion_matrix(testy,y_pred7))\n",
        "print(cohen_kappa_score(testy,y_pred7))"
      ],
      "execution_count": 107,
      "outputs": [
        {
          "output_type": "stream",
          "text": [
            "0.9696969696969697\n",
            "              precision    recall  f1-score   support\n",
            "\n",
            "           0       0.67      0.36      0.47        22\n",
            "           1       0.98      0.99      0.98       572\n",
            "\n",
            "    accuracy                           0.97       594\n",
            "   macro avg       0.82      0.68      0.73       594\n",
            "weighted avg       0.96      0.97      0.97       594\n",
            "\n",
            "[[  8  14]\n",
            " [  4 568]]\n",
            "0.4563758389261745\n"
          ],
          "name": "stdout"
        }
      ]
    },
    {
      "cell_type": "markdown",
      "metadata": {
        "id": "pYSRaNdZ3LbT"
      },
      "source": [
        "# SVM after SMOTE"
      ]
    },
    {
      "cell_type": "code",
      "metadata": {
        "colab": {
          "base_uri": "https://localhost:8080/"
        },
        "id": "-BKtyVjF2w7t",
        "outputId": "a8ba1540-5ffa-43ae-c7da-42936ccf6791"
      },
      "source": [
        "model8=LinearSVC()\n",
        "model8.fit(X_train_res,y_train_res)"
      ],
      "execution_count": 108,
      "outputs": [
        {
          "output_type": "execute_result",
          "data": {
            "text/plain": [
              "LinearSVC(C=1.0, class_weight=None, dual=True, fit_intercept=True,\n",
              "          intercept_scaling=1, loss='squared_hinge', max_iter=1000,\n",
              "          multi_class='ovr', penalty='l2', random_state=None, tol=0.0001,\n",
              "          verbose=0)"
            ]
          },
          "metadata": {
            "tags": []
          },
          "execution_count": 108
        }
      ]
    },
    {
      "cell_type": "code",
      "metadata": {
        "id": "_X1UpBeN3T_T"
      },
      "source": [
        "y_pred8=model8.predict(X_test_tfidf)"
      ],
      "execution_count": 109,
      "outputs": []
    },
    {
      "cell_type": "code",
      "metadata": {
        "colab": {
          "base_uri": "https://localhost:8080/"
        },
        "id": "3Vt0xgsz3Wuj",
        "outputId": "bd10dd90-b70e-4631-8d0f-8efa3436aad7"
      },
      "source": [
        "print(accuracy_score(testy,y_pred8))\n",
        "print(classification_report(testy,y_pred8))\n",
        "print(confusion_matrix(testy,y_pred8))\n",
        "print(cohen_kappa_score(testy,y_pred8))"
      ],
      "execution_count": 110,
      "outputs": [
        {
          "output_type": "stream",
          "text": [
            "0.8838383838383839\n",
            "              precision    recall  f1-score   support\n",
            "\n",
            "           0       0.18      0.59      0.27        22\n",
            "           1       0.98      0.90      0.94       572\n",
            "\n",
            "    accuracy                           0.88       594\n",
            "   macro avg       0.58      0.74      0.61       594\n",
            "weighted avg       0.95      0.88      0.91       594\n",
            "\n",
            "[[ 13   9]\n",
            " [ 60 512]]\n",
            "0.22984704423315405\n"
          ],
          "name": "stdout"
        }
      ]
    },
    {
      "cell_type": "markdown",
      "metadata": {
        "id": "9ZL_X1eg3q1b"
      },
      "source": [
        "# Decision Tree"
      ]
    },
    {
      "cell_type": "code",
      "metadata": {
        "colab": {
          "base_uri": "https://localhost:8080/"
        },
        "id": "hmUTX45I3cIi",
        "outputId": "9ba9ab6e-dbcf-4787-9f4b-f9c6624d5338"
      },
      "source": [
        "from sklearn.tree import DecisionTreeClassifier\n",
        "model9=DecisionTreeClassifier(criterion='entropy')\n",
        "model9.fit(X_train_tfidf,trainy)"
      ],
      "execution_count": 111,
      "outputs": [
        {
          "output_type": "execute_result",
          "data": {
            "text/plain": [
              "DecisionTreeClassifier(ccp_alpha=0.0, class_weight=None, criterion='entropy',\n",
              "                       max_depth=None, max_features=None, max_leaf_nodes=None,\n",
              "                       min_impurity_decrease=0.0, min_impurity_split=None,\n",
              "                       min_samples_leaf=1, min_samples_split=2,\n",
              "                       min_weight_fraction_leaf=0.0, presort='deprecated',\n",
              "                       random_state=None, splitter='best')"
            ]
          },
          "metadata": {
            "tags": []
          },
          "execution_count": 111
        }
      ]
    },
    {
      "cell_type": "code",
      "metadata": {
        "id": "7yavgg-Z3iIr"
      },
      "source": [
        "y_pred9=model9.predict(X_test_tfidf)"
      ],
      "execution_count": 112,
      "outputs": []
    },
    {
      "cell_type": "code",
      "metadata": {
        "colab": {
          "base_uri": "https://localhost:8080/"
        },
        "id": "00B2h5Wt3lhC",
        "outputId": "3dc2b02c-fbc3-4ca4-a591-08d93a87e5f7"
      },
      "source": [
        "print(accuracy_score(testy,y_pred9))\n",
        "print(classification_report(testy,y_pred9))\n",
        "print(confusion_matrix(testy,y_pred9))\n",
        "print(cohen_kappa_score(testy,y_pred9))"
      ],
      "execution_count": 113,
      "outputs": [
        {
          "output_type": "stream",
          "text": [
            "0.9528619528619529\n",
            "              precision    recall  f1-score   support\n",
            "\n",
            "           0       0.36      0.36      0.36        22\n",
            "           1       0.98      0.98      0.98       572\n",
            "\n",
            "    accuracy                           0.95       594\n",
            "   macro avg       0.67      0.67      0.67       594\n",
            "weighted avg       0.95      0.95      0.95       594\n",
            "\n",
            "[[  8  14]\n",
            " [ 14 558]]\n",
            "0.33916083916083917\n"
          ],
          "name": "stdout"
        }
      ]
    },
    {
      "cell_type": "code",
      "metadata": {
        "colab": {
          "base_uri": "https://localhost:8080/",
          "height": 638
        },
        "id": "3J5F-76Mi_Uc",
        "outputId": "f5b2589a-e2ae-4274-bac3-be1096ed4c33"
      },
      "source": [
        "y_score9 = model9.predict_proba(X_test_tfidf)[:,1]\n",
        "    \n",
        "false_positive_rate9, true_positive_rate9, threshold1 = roc_curve(testy, y_score9)\n",
        "print('roc_auc_score for Decision Tree: ', roc_auc_score(testy, y_score9))\n",
        "\n",
        "plt.subplots(1, figsize=(10,10))\n",
        "plt.title('Receiver Operating Characteristic -Decision Trre: ')\n",
        "plt.plot(false_positive_rate9, true_positive_rate9)\n",
        "plt.plot([0, 1], ls=\"--\")\n",
        "plt.plot([0, 0], [1, 0] , c=\".7\"), plt.plot([1, 1] , c=\".7\")\n",
        "plt.ylabel('True Positive Rate')\n",
        "plt.xlabel('False Positive Rate')\n",
        "plt.show()"
      ],
      "execution_count": 114,
      "outputs": [
        {
          "output_type": "stream",
          "text": [
            "roc_auc_score for Decision Tree:  0.716266687857597\n"
          ],
          "name": "stdout"
        },
        {
          "output_type": "display_data",
          "data": {
            "image/png": "[encoded data removed]",
            "text/plain": [
              "<Figure size 720x720 with 1 Axes>"
            ]
          },
          "metadata": {
            "tags": [],
            "needs_background": "light"
          }
        }
      ]
    },
    {
      "cell_type": "markdown",
      "metadata": {
        "id": "sQd5ylnH3yRg"
      },
      "source": [
        "# Decision Tree after SMOTE"
      ]
    },
    {
      "cell_type": "code",
      "metadata": {
        "colab": {
          "base_uri": "https://localhost:8080/"
        },
        "id": "glSXZxBB33E-",
        "outputId": "2e134847-5cce-4c22-9972-64c99a21b00a"
      },
      "source": [
        "model10=DecisionTreeClassifier(criterion='entropy')\n",
        "model10.fit(X_train_res,y_train_res)"
      ],
      "execution_count": 115,
      "outputs": [
        {
          "output_type": "execute_result",
          "data": {
            "text/plain": [
              "DecisionTreeClassifier(ccp_alpha=0.0, class_weight=None, criterion='entropy',\n",
              "                       max_depth=None, max_features=None, max_leaf_nodes=None,\n",
              "                       min_impurity_decrease=0.0, min_impurity_split=None,\n",
              "                       min_samples_leaf=1, min_samples_split=2,\n",
              "                       min_weight_fraction_leaf=0.0, presort='deprecated',\n",
              "                       random_state=None, splitter='best')"
            ]
          },
          "metadata": {
            "tags": []
          },
          "execution_count": 115
        }
      ]
    },
    {
      "cell_type": "code",
      "metadata": {
        "id": "RQWsC9Ds36ez"
      },
      "source": [
        "y_pred10=model10.predict(X_test_tfidf)"
      ],
      "execution_count": 116,
      "outputs": []
    },
    {
      "cell_type": "code",
      "metadata": {
        "colab": {
          "base_uri": "https://localhost:8080/"
        },
        "id": "zs9dFWj439z7",
        "outputId": "bf229a74-3449-4231-ad18-80dd56ac8418"
      },
      "source": [
        "print(accuracy_score(testy,y_pred10))\n",
        "print(classification_report(testy,y_pred10))\n",
        "print(confusion_matrix(testy,y_pred10))\n",
        "print(cohen_kappa_score(testy,y_pred10))"
      ],
      "execution_count": 117,
      "outputs": [
        {
          "output_type": "stream",
          "text": [
            "0.8821548821548821\n",
            "              precision    recall  f1-score   support\n",
            "\n",
            "           0       0.17      0.55      0.26        22\n",
            "           1       0.98      0.90      0.94       572\n",
            "\n",
            "    accuracy                           0.88       594\n",
            "   macro avg       0.57      0.72      0.60       594\n",
            "weighted avg       0.95      0.88      0.91       594\n",
            "\n",
            "[[ 12  10]\n",
            " [ 60 512]]\n",
            "0.21052631578947356\n"
          ],
          "name": "stdout"
        }
      ]
    },
    {
      "cell_type": "code",
      "metadata": {
        "colab": {
          "base_uri": "https://localhost:8080/",
          "height": 638
        },
        "id": "mzW3w4cTjaFu",
        "outputId": "4b376f44-28fb-4842-b884-369a4c3131a5"
      },
      "source": [
        "y_score10 = model10.predict_proba(X_test_tfidf)[:,1]\n",
        "    \n",
        "false_positive_rate10, true_positive_rate10, threshold1 = roc_curve(testy, y_score10)\n",
        "print('roc_auc_score for Decision Tree: ', roc_auc_score(testy, y_score10))\n",
        "\n",
        "plt.subplots(1, figsize=(10,10))\n",
        "plt.title('Receiver Operating Characteristic -Decision Trre: ')\n",
        "plt.plot(false_positive_rate10, true_positive_rate10)\n",
        "plt.plot([0, 1], ls=\"--\")\n",
        "plt.plot([0, 0], [1, 0] , c=\".7\"), plt.plot([1, 1] , c=\".7\")\n",
        "plt.ylabel('True Positive Rate')\n",
        "plt.xlabel('False Positive Rate')\n",
        "plt.show()"
      ],
      "execution_count": 118,
      "outputs": [
        {
          "output_type": "stream",
          "text": [
            "roc_auc_score for Decision Tree:  0.729020979020979\n"
          ],
          "name": "stdout"
        },
        {
          "output_type": "display_data",
          "data": {
            "image/png": "[encoded data removed]",
            "text/plain": [
              "<Figure size 720x720 with 1 Axes>"
            ]
          },
          "metadata": {
            "tags": [],
            "needs_background": "light"
          }
        }
      ]
    },
    {
      "cell_type": "markdown",
      "metadata": {
        "id": "XBNOVdDY4EZu"
      },
      "source": [
        "# Neural Networks"
      ]
    },
    {
      "cell_type": "code",
      "metadata": {
        "colab": {
          "base_uri": "https://localhost:8080/"
        },
        "id": "zUAqJuLd4RcM",
        "outputId": "601c39af-2475-4b26-bbb9-394bf70d9994"
      },
      "source": [
        "! pip install scikit-neuralnetwork "
      ],
      "execution_count": 119,
      "outputs": [
        {
          "output_type": "stream",
          "text": [
            "Requirement already satisfied: scikit-neuralnetwork in /usr/local/lib/python3.7/dist-packages (0.7)\n",
            "Requirement already satisfied: scikit-learn>=0.17 in /usr/local/lib/python3.7/dist-packages (from scikit-neuralnetwork) (0.22.2.post1)\n",
            "Requirement already satisfied: Lasagne>=0.1 in /usr/local/lib/python3.7/dist-packages (from scikit-neuralnetwork) (0.1)\n",
            "Requirement already satisfied: Theano>=0.8 in /usr/local/lib/python3.7/dist-packages (from scikit-neuralnetwork) (1.0.5)\n",
            "Requirement already satisfied: numpy in /usr/local/lib/python3.7/dist-packages (from Lasagne>=0.1->scikit-neuralnetwork) (1.19.5)\n",
            "Requirement already satisfied: joblib>=0.11 in /usr/local/lib/python3.7/dist-packages (from scikit-learn>=0.17->scikit-neuralnetwork) (1.0.1)\n",
            "Requirement already satisfied: scipy>=0.17.0 in /usr/local/lib/python3.7/dist-packages (from scikit-learn>=0.17->scikit-neuralnetwork) (1.4.1)\n",
            "Requirement already satisfied: six>=1.9.0 in /usr/local/lib/python3.7/dist-packages (from Theano>=0.8->scikit-neuralnetwork) (1.15.0)\n"
          ],
          "name": "stdout"
        }
      ]
    },
    {
      "cell_type": "code",
      "metadata": {
        "id": "l7QoglmU4Aqc"
      },
      "source": [
        "from sklearn.neural_network import MLPClassifier"
      ],
      "execution_count": 120,
      "outputs": []
    },
    {
      "cell_type": "code",
      "metadata": {
        "colab": {
          "base_uri": "https://localhost:8080/"
        },
        "id": "5O4cYN0Y4Ilj",
        "outputId": "ee58fb68-fca3-4012-9eb0-48f8ed449ad6"
      },
      "source": [
        "model11=MLPClassifier(hidden_layer_sizes=(5,5))\n",
        "model11.fit(X_train_tfidf,trainy)"
      ],
      "execution_count": 121,
      "outputs": [
        {
          "output_type": "execute_result",
          "data": {
            "text/plain": [
              "MLPClassifier(activation='relu', alpha=0.0001, batch_size='auto', beta_1=0.9,\n",
              "              beta_2=0.999, early_stopping=False, epsilon=1e-08,\n",
              "              hidden_layer_sizes=(5, 5), learning_rate='constant',\n",
              "              learning_rate_init=0.001, max_fun=15000, max_iter=200,\n",
              "              momentum=0.9, n_iter_no_change=10, nesterovs_momentum=True,\n",
              "              power_t=0.5, random_state=None, shuffle=True, solver='adam',\n",
              "              tol=0.0001, validation_fraction=0.1, verbose=False,\n",
              "              warm_start=False)"
            ]
          },
          "metadata": {
            "tags": []
          },
          "execution_count": 121
        }
      ]
    },
    {
      "cell_type": "code",
      "metadata": {
        "id": "TC9FziDq4ZWz"
      },
      "source": [
        "y_pred11=model11.predict(X_test_tfidf)"
      ],
      "execution_count": 58,
      "outputs": []
    },
    {
      "cell_type": "code",
      "metadata": {
        "colab": {
          "base_uri": "https://localhost:8080/"
        },
        "id": "EHad4Moi4b6r",
        "outputId": "cee274c2-8112-4088-f3a8-54b1b0ad65ac"
      },
      "source": [
        "print(accuracy_score(testy,y_pred11))\n",
        "print(classification_report(testy,y_pred11))\n",
        "print(confusion_matrix(testy,y_pred11))\n",
        "print(cohen_kappa_score(testy,y_pred11))"
      ],
      "execution_count": 122,
      "outputs": [
        {
          "output_type": "stream",
          "text": [
            "0.9545454545454546\n",
            "              precision    recall  f1-score   support\n",
            "\n",
            "           0       0.37      0.32      0.34        22\n",
            "           1       0.97      0.98      0.98       572\n",
            "\n",
            "    accuracy                           0.95       594\n",
            "   macro avg       0.67      0.65      0.66       594\n",
            "weighted avg       0.95      0.95      0.95       594\n",
            "\n",
            "[[  7  15]\n",
            " [ 12 560]]\n",
            "0.3180542563143125\n"
          ],
          "name": "stdout"
        }
      ]
    },
    {
      "cell_type": "code",
      "metadata": {
        "colab": {
          "base_uri": "https://localhost:8080/",
          "height": 638
        },
        "id": "MJc7a1Tsj1pu",
        "outputId": "b31375d3-fdb4-471c-ecb1-f85eb2edf8a2"
      },
      "source": [
        "y_score11 = model11.predict_proba(X_test_tfidf)[:,1]\n",
        "    \n",
        "false_positive_rate11, true_positive_rate11, threshold1 = roc_curve(testy, y_score11)\n",
        "print('roc_auc_score for Neural network: ', roc_auc_score(testy, y_score11))\n",
        "\n",
        "plt.subplots(1, figsize=(10,10))\n",
        "plt.title('Receiver Operating Characteristic -Neural network: ')\n",
        "plt.plot(false_positive_rate11, true_positive_rate11)\n",
        "plt.plot([0, 1], ls=\"--\")\n",
        "plt.plot([0, 0], [1, 0] , c=\".7\"), plt.plot([1, 1] , c=\".7\")\n",
        "plt.ylabel('True Positive Rate')\n",
        "plt.xlabel('False Positive Rate')\n",
        "plt.show()"
      ],
      "execution_count": 123,
      "outputs": [
        {
          "output_type": "stream",
          "text": [
            "roc_auc_score for Neural network:  0.8872377622377622\n"
          ],
          "name": "stdout"
        },
        {
          "output_type": "display_data",
          "data": {
            "image/png": "[encoded data removed]",
            "text/plain": [
              "<Figure size 720x720 with 1 Axes>"
            ]
          },
          "metadata": {
            "tags": [],
            "needs_background": "light"
          }
        }
      ]
    },
    {
      "cell_type": "markdown",
      "metadata": {
        "id": "E_-07oCL4jvA"
      },
      "source": [
        "# Neural Network after SMOTE"
      ]
    },
    {
      "cell_type": "code",
      "metadata": {
        "colab": {
          "base_uri": "https://localhost:8080/"
        },
        "id": "0pqr4jKF4o59",
        "outputId": "365c5d9a-2d56-4cb9-80e0-e9cbc561e3c5"
      },
      "source": [
        "model12=MLPClassifier(hidden_layer_sizes=(5,5))\n",
        "model12.fit(X_train_res,y_train_res)"
      ],
      "execution_count": 124,
      "outputs": [
        {
          "output_type": "execute_result",
          "data": {
            "text/plain": [
              "MLPClassifier(activation='relu', alpha=0.0001, batch_size='auto', beta_1=0.9,\n",
              "              beta_2=0.999, early_stopping=False, epsilon=1e-08,\n",
              "              hidden_layer_sizes=(5, 5), learning_rate='constant',\n",
              "              learning_rate_init=0.001, max_fun=15000, max_iter=200,\n",
              "              momentum=0.9, n_iter_no_change=10, nesterovs_momentum=True,\n",
              "              power_t=0.5, random_state=None, shuffle=True, solver='adam',\n",
              "              tol=0.0001, validation_fraction=0.1, verbose=False,\n",
              "              warm_start=False)"
            ]
          },
          "metadata": {
            "tags": []
          },
          "execution_count": 124
        }
      ]
    },
    {
      "cell_type": "code",
      "metadata": {
        "id": "jD_ox0J24t2f"
      },
      "source": [
        "y_pred12=model12.predict(X_test_tfidf)\n"
      ],
      "execution_count": 125,
      "outputs": []
    },
    {
      "cell_type": "code",
      "metadata": {
        "colab": {
          "base_uri": "https://localhost:8080/"
        },
        "id": "QvSFfRPO4ytD",
        "outputId": "13852075-a2e6-44e0-f795-223cad44e766"
      },
      "source": [
        "print(accuracy_score(testy,y_pred12))\n",
        "print(classification_report(testy,y_pred12))\n",
        "print(confusion_matrix(testy,y_pred12))\n",
        "print(cohen_kappa_score(testy,y_pred12))"
      ],
      "execution_count": 126,
      "outputs": [
        {
          "output_type": "stream",
          "text": [
            "0.877104377104377\n",
            "              precision    recall  f1-score   support\n",
            "\n",
            "           0       0.18      0.64      0.28        22\n",
            "           1       0.98      0.89      0.93       572\n",
            "\n",
            "    accuracy                           0.88       594\n",
            "   macro avg       0.58      0.76      0.61       594\n",
            "weighted avg       0.95      0.88      0.91       594\n",
            "\n",
            "[[ 14   8]\n",
            " [ 65 507]]\n",
            "0.2327753989879331\n"
          ],
          "name": "stdout"
        }
      ]
    },
    {
      "cell_type": "code",
      "metadata": {
        "colab": {
          "base_uri": "https://localhost:8080/",
          "height": 638
        },
        "id": "uXFYvxRikUpE",
        "outputId": "3c33493a-8e15-4e56-a87d-fc368544444a"
      },
      "source": [
        "y_score12 = model12.predict_proba(X_test_tfidf)[:,1]\n",
        "    \n",
        "false_positive_rate12, true_positive_rate12, threshold1 = roc_curve(testy, y_score12)\n",
        "print('roc_auc_score for Neural network afer SMOTE: ', roc_auc_score(testy, y_score12))\n",
        "\n",
        "plt.subplots(1, figsize=(10,10))\n",
        "plt.title('Receiver Operating Characteristic -Neural network after SMOTE: ')\n",
        "plt.plot(false_positive_rate12, true_positive_rate12)\n",
        "plt.plot([0, 1], ls=\"--\")\n",
        "plt.plot([0, 0], [1, 0] , c=\".7\"), plt.plot([1, 1] , c=\".7\")\n",
        "plt.ylabel('True Positive Rate')\n",
        "plt.xlabel('False Positive Rate')\n",
        "plt.show()"
      ],
      "execution_count": 127,
      "outputs": [
        {
          "output_type": "stream",
          "text": [
            "roc_auc_score for Neural network afer SMOTE:  0.8965352828989193\n"
          ],
          "name": "stdout"
        },
        {
          "output_type": "display_data",
          "data": {
            "image/png": "[encoded data removed]",
            "text/plain": [
              "<Figure size 720x720 with 1 Axes>"
            ]
          },
          "metadata": {
            "tags": [],
            "needs_background": "light"
          }
        }
      ]
    },
    {
      "cell_type": "markdown",
      "metadata": {
        "id": "qQywZoJAGmYG"
      },
      "source": [
        "# we have to check this for custom Reviews"
      ]
    },
    {
      "cell_type": "code",
      "metadata": {
        "id": "nh9W-SvMFwAp"
      },
      "source": [
        "a=[\"bad and worst device\",\"canaon camera  is good and best\",\"bad device\",\"loved it!\",\"it was terrible!\"]"
      ],
      "execution_count": 128,
      "outputs": []
    },
    {
      "cell_type": "code",
      "metadata": {
        "id": "L2x04Ze5F31X"
      },
      "source": [
        "tdm = count_vect.transform(a)"
      ],
      "execution_count": 129,
      "outputs": []
    },
    {
      "cell_type": "code",
      "metadata": {
        "id": "CdgfLZdAGQmT"
      },
      "source": [
        "pred_F = model12.predict(tdm)"
      ],
      "execution_count": 130,
      "outputs": []
    },
    {
      "cell_type": "code",
      "metadata": {
        "colab": {
          "base_uri": "https://localhost:8080/"
        },
        "id": "__ufMsi9GeQt",
        "outputId": "e241cb29-3dde-427b-fc26-3fef181a11e3"
      },
      "source": [
        "pred_F"
      ],
      "execution_count": 131,
      "outputs": [
        {
          "output_type": "execute_result",
          "data": {
            "text/plain": [
              "array([0, 1, 0, 1, 0])"
            ]
          },
          "metadata": {
            "tags": []
          },
          "execution_count": 131
        }
      ]
    },
    {
      "cell_type": "code",
      "metadata": {
        "id": "sxtklVpnGuoX"
      },
      "source": [
        "a = [\"It is excellent for a beginner \",\"The human eye cannot tell the difference\",\"Don't be discouraged \"]"
      ],
      "execution_count": 132,
      "outputs": []
    },
    {
      "cell_type": "code",
      "metadata": {
        "id": "7j-OOYEZHLCR"
      },
      "source": [
        "tdm = count_vect.transform(a)"
      ],
      "execution_count": 133,
      "outputs": []
    },
    {
      "cell_type": "code",
      "metadata": {
        "id": "OfK5aXpKHNnK"
      },
      "source": [
        "pred_F = model12.predict(tdm)"
      ],
      "execution_count": 134,
      "outputs": []
    },
    {
      "cell_type": "code",
      "metadata": {
        "colab": {
          "base_uri": "https://localhost:8080/"
        },
        "id": "vD09HobtHPas",
        "outputId": "89cfca2e-f48a-455c-c773-33acfcc80eb0"
      },
      "source": [
        "pred_F"
      ],
      "execution_count": 135,
      "outputs": [
        {
          "output_type": "execute_result",
          "data": {
            "text/plain": [
              "array([1, 0, 0])"
            ]
          },
          "metadata": {
            "tags": []
          },
          "execution_count": 135
        }
      ]
    }
  ]
}