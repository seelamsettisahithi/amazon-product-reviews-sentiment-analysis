{
  "nbformat": 4,
  "nbformat_minor": 0,
  "metadata": {
    "colab": {
      "name": "Amazon_Model.ipynb",
      "provenance": [],
      "collapsed_sections": [],
      "authorship_tag": "ABX9TyNfMYYENsmXnjvGhos08YCI",
      "include_colab_link": true
    },
    "kernelspec": {
      "name": "python3",
      "display_name": "Python 3"
    },
    "language_info": {
      "name": "python"
    }
  },
  "cells": [
    {
      "cell_type": "markdown",
      "metadata": {
        "id": "view-in-github",
        "colab_type": "text"
      },
      "source": [
        "<a href=\"https://colab.research.google.com/github/seelamsettisahithi/amazon-product-reviews-sentiment-analysis/blob/main/Amazon_Model.ipynb\" target=\"_parent\"><img src=\"https://colab.research.google.com/assets/colab-badge.svg\" alt=\"Open In Colab\"/></a>"
      ]
    },
    {
      "cell_type": "markdown",
      "metadata": {
        "id": "JLoqbSM4cHtJ"
      },
      "source": [
        "# Import Libraries"
      ]
    },
    {
      "cell_type": "code",
      "metadata": {
        "id": "2l9gVDuBa5wY"
      },
      "source": [
        "import pandas as pd\n",
        "import glob\n",
        "from vaderSentiment.vaderSentiment import SentimentIntensityAnalyzer\n",
        "from wordcloud import WordCloud\n",
        "from nltk.corpus import stopwords\n",
        "from nltk.tokenize import sent_tokenize, word_tokenize\n",
        "from textblob import TextBlob\n",
        "from textblob.sentiments import NaiveBayesAnalyzer\n",
        "import string\n",
        "import matplotlib.pyplot as plt\n",
        "import matplotlib as mpl\n",
        "import nltk.classify.util\n",
        "from sklearn.model_selection import train_test_split\n",
        "from sklearn.metrics import confusion_matrix\n",
        "from sklearn import metrics\n",
        "from sklearn.metrics import roc_curve, auc\n",
        "from nltk.classify import NaiveBayesClassifier\n",
        "import numpy as np\n",
        "import re\n",
        "import string\n",
        "import nltk\n",
        "%matplotlib inline\n",
        "import warnings\n",
        "warnings.filterwarnings('ignore')\n",
        "from sklearn.metrics import cohen_kappa_score\n"
      ],
      "execution_count": 2,
      "outputs": []
    },
    {
      "cell_type": "code",
      "metadata": {
        "colab": {
          "base_uri": "https://localhost:8080/"
        },
        "id": "1m4hcLNocuOe",
        "outputId": "073ea98a-2c46-4a43-8b99-d1c99809b6b5"
      },
      "source": [
        "! pip install vaderSentiment"
      ],
      "execution_count": 1,
      "outputs": [
        {
          "output_type": "stream",
          "text": [
            "Collecting vaderSentiment\n",
            "  Downloading vaderSentiment-3.3.2-py2.py3-none-any.whl (125 kB)\n",
            "\u001b[?25l\r\u001b[K     |██▋                             | 10 kB 16.6 MB/s eta 0:00:01\r\u001b[K     |█████▏                          | 20 kB 10.1 MB/s eta 0:00:01\r\u001b[K     |███████▉                        | 30 kB 8.6 MB/s eta 0:00:01\r\u001b[K     |██████████▍                     | 40 kB 8.0 MB/s eta 0:00:01\r\u001b[K     |█████████████                   | 51 kB 4.2 MB/s eta 0:00:01\r\u001b[K     |███████████████▋                | 61 kB 4.4 MB/s eta 0:00:01\r\u001b[K     |██████████████████▏             | 71 kB 4.8 MB/s eta 0:00:01\r\u001b[K     |████████████████████▉           | 81 kB 5.4 MB/s eta 0:00:01\r\u001b[K     |███████████████████████▍        | 92 kB 3.9 MB/s eta 0:00:01\r\u001b[K     |██████████████████████████      | 102 kB 4.3 MB/s eta 0:00:01\r\u001b[K     |████████████████████████████▋   | 112 kB 4.3 MB/s eta 0:00:01\r\u001b[K     |███████████████████████████████▏| 122 kB 4.3 MB/s eta 0:00:01\r\u001b[K     |████████████████████████████████| 125 kB 4.3 MB/s \n",
            "\u001b[?25hRequirement already satisfied: requests in /usr/local/lib/python3.7/dist-packages (from vaderSentiment) (2.23.0)\n",
            "Requirement already satisfied: urllib3!=1.25.0,!=1.25.1,<1.26,>=1.21.1 in /usr/local/lib/python3.7/dist-packages (from requests->vaderSentiment) (1.24.3)\n",
            "Requirement already satisfied: chardet<4,>=3.0.2 in /usr/local/lib/python3.7/dist-packages (from requests->vaderSentiment) (3.0.4)\n",
            "Requirement already satisfied: idna<3,>=2.5 in /usr/local/lib/python3.7/dist-packages (from requests->vaderSentiment) (2.10)\n",
            "Requirement already satisfied: certifi>=2017.4.17 in /usr/local/lib/python3.7/dist-packages (from requests->vaderSentiment) (2021.5.30)\n",
            "Installing collected packages: vaderSentiment\n",
            "Successfully installed vaderSentiment-3.3.2\n"
          ],
          "name": "stdout"
        }
      ]
    },
    {
      "cell_type": "code",
      "metadata": {
        "colab": {
          "resources": {
            "http://localhost:8080/nbextensions/google.colab/files.js": {
              "data": "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",
              "ok": true,
              "headers": [
                [
                  "content-type",
                  "application/javascript"
                ]
              ],
              "status": 200,
              "status_text": ""
            }
          },
          "base_uri": "https://localhost:8080/",
          "height": 72
        },
        "id": "hfhZ30SmcNjv",
        "outputId": "fc97abd3-5e0d-430a-9fe7-6e27b09a910a"
      },
      "source": [
        "from google.colab import files\n",
        "uploaded = files.upload()"
      ],
      "execution_count": 3,
      "outputs": [
        {
          "output_type": "display_data",
          "data": {
            "text/html": [
              "\n",
              "     <input type=\"file\" id=\"files-2368eb0a-83d1-4f4a-8521-3b42e0d977f2\" name=\"files[]\" multiple disabled\n",
              "        style=\"border:none\" />\n",
              "     <output id=\"result-2368eb0a-83d1-4f4a-8521-3b42e0d977f2\">\n",
              "      Upload widget is only available when the cell has been executed in the\n",
              "      current browser session. Please rerun this cell to enable.\n",
              "      </output>\n",
              "      <script src=\"/nbextensions/google.colab/files.js\"></script> "
            ],
            "text/plain": [
              "<IPython.core.display.HTML object>"
            ]
          },
          "metadata": {
            "tags": []
          }
        },
        {
          "output_type": "stream",
          "text": [
            "Saving camera_EDA.csv to camera_EDA.csv\n"
          ],
          "name": "stdout"
        }
      ]
    },
    {
      "cell_type": "code",
      "metadata": {
        "id": "Qs-ByU5jce6X"
      },
      "source": [
        "import io\n",
        "import pandas as pd\n",
        "df = pd.read_csv(io.BytesIO(uploaded['camera_EDA.csv']))"
      ],
      "execution_count": 4,
      "outputs": []
    },
    {
      "cell_type": "code",
      "metadata": {
        "colab": {
          "base_uri": "https://localhost:8080/",
          "height": 204
        },
        "id": "HC3vRQAQc4d9",
        "outputId": "baa10780-99b5-4d1e-e79e-095b8cf7dae8"
      },
      "source": [
        "df.head()"
      ],
      "execution_count": 5,
      "outputs": [
        {
          "output_type": "execute_result",
          "data": {
            "text/html": [
              "<div>\n",
              "<style scoped>\n",
              "    .dataframe tbody tr th:only-of-type {\n",
              "        vertical-align: middle;\n",
              "    }\n",
              "\n",
              "    .dataframe tbody tr th {\n",
              "        vertical-align: top;\n",
              "    }\n",
              "\n",
              "    .dataframe thead th {\n",
              "        text-align: right;\n",
              "    }\n",
              "</style>\n",
              "<table border=\"1\" class=\"dataframe\">\n",
              "  <thead>\n",
              "    <tr style=\"text-align: right;\">\n",
              "      <th></th>\n",
              "      <th>Unnamed: 0</th>\n",
              "      <th>reviews</th>\n",
              "      <th>ratings</th>\n",
              "    </tr>\n",
              "  </thead>\n",
              "  <tbody>\n",
              "    <tr>\n",
              "      <th>0</th>\n",
              "      <td>0</td>\n",
              "      <td>ok dslr giant canon launched entry level dslr ...</td>\n",
              "      <td>2.0</td>\n",
              "    </tr>\n",
              "    <tr>\n",
              "      <th>1</th>\n",
              "      <td>1</td>\n",
              "      <td>good camera beginner</td>\n",
              "      <td>5.0</td>\n",
              "    </tr>\n",
              "    <tr>\n",
              "      <th>2</th>\n",
              "      <td>2</td>\n",
              "      <td>great camera perfect product young budding pho...</td>\n",
              "      <td>5.0</td>\n",
              "    </tr>\n",
              "    <tr>\n",
              "      <th>3</th>\n",
              "      <td>3</td>\n",
              "      <td>really impressed amazon surprise delivering wi...</td>\n",
              "      <td>5.0</td>\n",
              "    </tr>\n",
              "    <tr>\n",
              "      <th>4</th>\n",
              "      <td>4</td>\n",
              "      <td>buy product canon local service center help ev...</td>\n",
              "      <td>1.0</td>\n",
              "    </tr>\n",
              "  </tbody>\n",
              "</table>\n",
              "</div>"
            ],
            "text/plain": [
              "   Unnamed: 0                                            reviews  ratings\n",
              "0           0  ok dslr giant canon launched entry level dslr ...      2.0\n",
              "1           1                               good camera beginner      5.0\n",
              "2           2  great camera perfect product young budding pho...      5.0\n",
              "3           3  really impressed amazon surprise delivering wi...      5.0\n",
              "4           4  buy product canon local service center help ev...      1.0"
            ]
          },
          "metadata": {
            "tags": []
          },
          "execution_count": 5
        }
      ]
    },
    {
      "cell_type": "code",
      "metadata": {
        "id": "8fFXNIdzc--F"
      },
      "source": [
        "def NaiveBaiyes_Sentimental(sentence):\n",
        "    blob = TextBlob(sentence, analyzer=NaiveBayesAnalyzer())\n",
        "    NaiveBayes_SentimentScore=blob.sentiment.classification\n",
        "    return NaiveBayes_SentimentScore"
      ],
      "execution_count": 6,
      "outputs": []
    },
    {
      "cell_type": "code",
      "metadata": {
        "colab": {
          "base_uri": "https://localhost:8080/"
        },
        "id": "1pc_Dz6QdFDf",
        "outputId": "75acf478-52ac-48fb-de32-f961c3e75bf1"
      },
      "source": [
        "nltk.download('vader_lexicon')"
      ],
      "execution_count": 7,
      "outputs": [
        {
          "output_type": "stream",
          "text": [
            "[nltk_data] Downloading package vader_lexicon to /root/nltk_data...\n"
          ],
          "name": "stdout"
        },
        {
          "output_type": "execute_result",
          "data": {
            "text/plain": [
              "True"
            ]
          },
          "metadata": {
            "tags": []
          },
          "execution_count": 7
        }
      ]
    },
    {
      "cell_type": "code",
      "metadata": {
        "id": "LOUQBCuHdHB9"
      },
      "source": [
        "from nltk.sentiment.vader import SentimentIntensityAnalyzer\n",
        "\n",
        "sid = SentimentIntensityAnalyzer()"
      ],
      "execution_count": 8,
      "outputs": []
    },
    {
      "cell_type": "code",
      "metadata": {
        "colab": {
          "base_uri": "https://localhost:8080/"
        },
        "id": "vmejfpxqdKbM",
        "outputId": "b30baff2-ad06-4ce6-c93f-237948cb3f7a"
      },
      "source": [
        "a = 'This was a good movie.'\n",
        "sid.polarity_scores(a)"
      ],
      "execution_count": 9,
      "outputs": [
        {
          "output_type": "execute_result",
          "data": {
            "text/plain": [
              "{'compound': 0.4404, 'neg': 0.0, 'neu': 0.508, 'pos': 0.492}"
            ]
          },
          "metadata": {
            "tags": []
          },
          "execution_count": 9
        }
      ]
    },
    {
      "cell_type": "code",
      "metadata": {
        "id": "1CemoIvyxUwR"
      },
      "source": [
        "\n",
        "# removing NA values from data frame\n",
        "df.dropna(inplace=True)"
      ],
      "execution_count": 10,
      "outputs": []
    },
    {
      "cell_type": "code",
      "metadata": {
        "colab": {
          "base_uri": "https://localhost:8080/"
        },
        "id": "FgVv6T1Sxpaa",
        "outputId": "30fb3df9-cc06-4c5a-e389-4fe38dc1704c"
      },
      "source": [
        "\n",
        "sid.polarity_scores(df.iloc[0]['reviews'])"
      ],
      "execution_count": 11,
      "outputs": [
        {
          "output_type": "execute_result",
          "data": {
            "text/plain": [
              "{'compound': 0.8803, 'neg': 0.127, 'neu': 0.69, 'pos': 0.183}"
            ]
          },
          "metadata": {
            "tags": []
          },
          "execution_count": 11
        }
      ]
    },
    {
      "cell_type": "code",
      "metadata": {
        "id": "qa0t5wDsxtqm"
      },
      "source": [
        "\n",
        "df['scores'] = df['reviews'].apply(lambda reviews:sid.polarity_scores(reviews))"
      ],
      "execution_count": 12,
      "outputs": []
    },
    {
      "cell_type": "code",
      "metadata": {
        "colab": {
          "base_uri": "https://localhost:8080/",
          "height": 359
        },
        "id": "J4jhJQSWx0-5",
        "outputId": "8896d873-933a-42b4-e2c1-efdbc3eaa346"
      },
      "source": [
        "df.head(10)"
      ],
      "execution_count": 13,
      "outputs": [
        {
          "output_type": "execute_result",
          "data": {
            "text/html": [
              "<div>\n",
              "<style scoped>\n",
              "    .dataframe tbody tr th:only-of-type {\n",
              "        vertical-align: middle;\n",
              "    }\n",
              "\n",
              "    .dataframe tbody tr th {\n",
              "        vertical-align: top;\n",
              "    }\n",
              "\n",
              "    .dataframe thead th {\n",
              "        text-align: right;\n",
              "    }\n",
              "</style>\n",
              "<table border=\"1\" class=\"dataframe\">\n",
              "  <thead>\n",
              "    <tr style=\"text-align: right;\">\n",
              "      <th></th>\n",
              "      <th>Unnamed: 0</th>\n",
              "      <th>reviews</th>\n",
              "      <th>ratings</th>\n",
              "      <th>scores</th>\n",
              "    </tr>\n",
              "  </thead>\n",
              "  <tbody>\n",
              "    <tr>\n",
              "      <th>0</th>\n",
              "      <td>0</td>\n",
              "      <td>ok dslr giant canon launched entry level dslr ...</td>\n",
              "      <td>2.0</td>\n",
              "      <td>{'neg': 0.127, 'neu': 0.69, 'pos': 0.183, 'com...</td>\n",
              "    </tr>\n",
              "    <tr>\n",
              "      <th>1</th>\n",
              "      <td>1</td>\n",
              "      <td>good camera beginner</td>\n",
              "      <td>5.0</td>\n",
              "      <td>{'neg': 0.0, 'neu': 0.408, 'pos': 0.592, 'comp...</td>\n",
              "    </tr>\n",
              "    <tr>\n",
              "      <th>2</th>\n",
              "      <td>2</td>\n",
              "      <td>great camera perfect product young budding pho...</td>\n",
              "      <td>5.0</td>\n",
              "      <td>{'neg': 0.0, 'neu': 0.673, 'pos': 0.327, 'comp...</td>\n",
              "    </tr>\n",
              "    <tr>\n",
              "      <th>3</th>\n",
              "      <td>3</td>\n",
              "      <td>really impressed amazon surprise delivering wi...</td>\n",
              "      <td>5.0</td>\n",
              "      <td>{'neg': 0.0, 'neu': 0.541, 'pos': 0.459, 'comp...</td>\n",
              "    </tr>\n",
              "    <tr>\n",
              "      <th>4</th>\n",
              "      <td>4</td>\n",
              "      <td>buy product canon local service center help ev...</td>\n",
              "      <td>1.0</td>\n",
              "      <td>{'neg': 0.103, 'neu': 0.733, 'pos': 0.164, 'co...</td>\n",
              "    </tr>\n",
              "    <tr>\n",
              "      <th>5</th>\n",
              "      <td>5</td>\n",
              "      <td>request replacement camera main body lot black...</td>\n",
              "      <td>1.0</td>\n",
              "      <td>{'neg': 0.0, 'neu': 0.897, 'pos': 0.103, 'comp...</td>\n",
              "    </tr>\n",
              "    <tr>\n",
              "      <th>6</th>\n",
              "      <td>6</td>\n",
              "      <td>received product dslr cannon october adopter g...</td>\n",
              "      <td>2.0</td>\n",
              "      <td>{'neg': 0.135, 'neu': 0.865, 'pos': 0.0, 'comp...</td>\n",
              "    </tr>\n",
              "    <tr>\n",
              "      <th>7</th>\n",
              "      <td>7</td>\n",
              "      <td>auto focus perfectminimum aperture dont expect...</td>\n",
              "      <td>3.0</td>\n",
              "      <td>{'neg': 0.134, 'neu': 0.738, 'pos': 0.128, 'co...</td>\n",
              "    </tr>\n",
              "    <tr>\n",
              "      <th>8</th>\n",
              "      <td>8</td>\n",
              "      <td>want upgrade camera point shoot dslr good came...</td>\n",
              "      <td>4.0</td>\n",
              "      <td>{'neg': 0.262, 'neu': 0.536, 'pos': 0.202, 'co...</td>\n",
              "    </tr>\n",
              "    <tr>\n",
              "      <th>9</th>\n",
              "      <td>9</td>\n",
              "      <td>really fully content product reached within tw...</td>\n",
              "      <td>5.0</td>\n",
              "      <td>{'neg': 0.162, 'neu': 0.73, 'pos': 0.108, 'com...</td>\n",
              "    </tr>\n",
              "  </tbody>\n",
              "</table>\n",
              "</div>"
            ],
            "text/plain": [
              "   Unnamed: 0  ...                                             scores\n",
              "0           0  ...  {'neg': 0.127, 'neu': 0.69, 'pos': 0.183, 'com...\n",
              "1           1  ...  {'neg': 0.0, 'neu': 0.408, 'pos': 0.592, 'comp...\n",
              "2           2  ...  {'neg': 0.0, 'neu': 0.673, 'pos': 0.327, 'comp...\n",
              "3           3  ...  {'neg': 0.0, 'neu': 0.541, 'pos': 0.459, 'comp...\n",
              "4           4  ...  {'neg': 0.103, 'neu': 0.733, 'pos': 0.164, 'co...\n",
              "5           5  ...  {'neg': 0.0, 'neu': 0.897, 'pos': 0.103, 'comp...\n",
              "6           6  ...  {'neg': 0.135, 'neu': 0.865, 'pos': 0.0, 'comp...\n",
              "7           7  ...  {'neg': 0.134, 'neu': 0.738, 'pos': 0.128, 'co...\n",
              "8           8  ...  {'neg': 0.262, 'neu': 0.536, 'pos': 0.202, 'co...\n",
              "9           9  ...  {'neg': 0.162, 'neu': 0.73, 'pos': 0.108, 'com...\n",
              "\n",
              "[10 rows x 4 columns]"
            ]
          },
          "metadata": {
            "tags": []
          },
          "execution_count": 13
        }
      ]
    },
    {
      "cell_type": "code",
      "metadata": {
        "id": "VMRD7Zgjx7q2"
      },
      "source": [
        "\n",
        "df['compound'] = df['scores'].apply(lambda d:d['compound'])"
      ],
      "execution_count": 14,
      "outputs": []
    },
    {
      "cell_type": "code",
      "metadata": {
        "colab": {
          "base_uri": "https://localhost:8080/",
          "height": 359
        },
        "id": "rc86L7Tbx_P_",
        "outputId": "5c3f30f0-b2c9-4f45-9807-441d6997e518"
      },
      "source": [
        "df.head(10)"
      ],
      "execution_count": 15,
      "outputs": [
        {
          "output_type": "execute_result",
          "data": {
            "text/html": [
              "<div>\n",
              "<style scoped>\n",
              "    .dataframe tbody tr th:only-of-type {\n",
              "        vertical-align: middle;\n",
              "    }\n",
              "\n",
              "    .dataframe tbody tr th {\n",
              "        vertical-align: top;\n",
              "    }\n",
              "\n",
              "    .dataframe thead th {\n",
              "        text-align: right;\n",
              "    }\n",
              "</style>\n",
              "<table border=\"1\" class=\"dataframe\">\n",
              "  <thead>\n",
              "    <tr style=\"text-align: right;\">\n",
              "      <th></th>\n",
              "      <th>Unnamed: 0</th>\n",
              "      <th>reviews</th>\n",
              "      <th>ratings</th>\n",
              "      <th>scores</th>\n",
              "      <th>compound</th>\n",
              "    </tr>\n",
              "  </thead>\n",
              "  <tbody>\n",
              "    <tr>\n",
              "      <th>0</th>\n",
              "      <td>0</td>\n",
              "      <td>ok dslr giant canon launched entry level dslr ...</td>\n",
              "      <td>2.0</td>\n",
              "      <td>{'neg': 0.127, 'neu': 0.69, 'pos': 0.183, 'com...</td>\n",
              "      <td>0.8803</td>\n",
              "    </tr>\n",
              "    <tr>\n",
              "      <th>1</th>\n",
              "      <td>1</td>\n",
              "      <td>good camera beginner</td>\n",
              "      <td>5.0</td>\n",
              "      <td>{'neg': 0.0, 'neu': 0.408, 'pos': 0.592, 'comp...</td>\n",
              "      <td>0.4404</td>\n",
              "    </tr>\n",
              "    <tr>\n",
              "      <th>2</th>\n",
              "      <td>2</td>\n",
              "      <td>great camera perfect product young budding pho...</td>\n",
              "      <td>5.0</td>\n",
              "      <td>{'neg': 0.0, 'neu': 0.673, 'pos': 0.327, 'comp...</td>\n",
              "      <td>0.8934</td>\n",
              "    </tr>\n",
              "    <tr>\n",
              "      <th>3</th>\n",
              "      <td>3</td>\n",
              "      <td>really impressed amazon surprise delivering wi...</td>\n",
              "      <td>5.0</td>\n",
              "      <td>{'neg': 0.0, 'neu': 0.541, 'pos': 0.459, 'comp...</td>\n",
              "      <td>0.9801</td>\n",
              "    </tr>\n",
              "    <tr>\n",
              "      <th>4</th>\n",
              "      <td>4</td>\n",
              "      <td>buy product canon local service center help ev...</td>\n",
              "      <td>1.0</td>\n",
              "      <td>{'neg': 0.103, 'neu': 0.733, 'pos': 0.164, 'co...</td>\n",
              "      <td>0.4215</td>\n",
              "    </tr>\n",
              "    <tr>\n",
              "      <th>5</th>\n",
              "      <td>5</td>\n",
              "      <td>request replacement camera main body lot black...</td>\n",
              "      <td>1.0</td>\n",
              "      <td>{'neg': 0.0, 'neu': 0.897, 'pos': 0.103, 'comp...</td>\n",
              "      <td>0.3182</td>\n",
              "    </tr>\n",
              "    <tr>\n",
              "      <th>6</th>\n",
              "      <td>6</td>\n",
              "      <td>received product dslr cannon october adopter g...</td>\n",
              "      <td>2.0</td>\n",
              "      <td>{'neg': 0.135, 'neu': 0.865, 'pos': 0.0, 'comp...</td>\n",
              "      <td>-0.3612</td>\n",
              "    </tr>\n",
              "    <tr>\n",
              "      <th>7</th>\n",
              "      <td>7</td>\n",
              "      <td>auto focus perfectminimum aperture dont expect...</td>\n",
              "      <td>3.0</td>\n",
              "      <td>{'neg': 0.134, 'neu': 0.738, 'pos': 0.128, 'co...</td>\n",
              "      <td>-0.1280</td>\n",
              "    </tr>\n",
              "    <tr>\n",
              "      <th>8</th>\n",
              "      <td>8</td>\n",
              "      <td>want upgrade camera point shoot dslr good came...</td>\n",
              "      <td>4.0</td>\n",
              "      <td>{'neg': 0.262, 'neu': 0.536, 'pos': 0.202, 'co...</td>\n",
              "      <td>-0.6124</td>\n",
              "    </tr>\n",
              "    <tr>\n",
              "      <th>9</th>\n",
              "      <td>9</td>\n",
              "      <td>really fully content product reached within tw...</td>\n",
              "      <td>5.0</td>\n",
              "      <td>{'neg': 0.162, 'neu': 0.73, 'pos': 0.108, 'com...</td>\n",
              "      <td>-0.4863</td>\n",
              "    </tr>\n",
              "  </tbody>\n",
              "</table>\n",
              "</div>"
            ],
            "text/plain": [
              "   Unnamed: 0  ... compound\n",
              "0           0  ...   0.8803\n",
              "1           1  ...   0.4404\n",
              "2           2  ...   0.8934\n",
              "3           3  ...   0.9801\n",
              "4           4  ...   0.4215\n",
              "5           5  ...   0.3182\n",
              "6           6  ...  -0.3612\n",
              "7           7  ...  -0.1280\n",
              "8           8  ...  -0.6124\n",
              "9           9  ...  -0.4863\n",
              "\n",
              "[10 rows x 5 columns]"
            ]
          },
          "metadata": {
            "tags": []
          },
          "execution_count": 15
        }
      ]
    },
    {
      "cell_type": "code",
      "metadata": {
        "id": "sI9yoI9qyBrH"
      },
      "source": [
        "\n",
        "df['senti'] = df['compound'].apply(lambda score: 'pos' if score >=0 else 'neg')"
      ],
      "execution_count": 16,
      "outputs": []
    },
    {
      "cell_type": "code",
      "metadata": {
        "colab": {
          "base_uri": "https://localhost:8080/",
          "height": 359
        },
        "id": "LeUXig9HyJEV",
        "outputId": "896f02ac-8088-456b-b81d-38b2004c1f3f"
      },
      "source": [
        "df.head(10)"
      ],
      "execution_count": 17,
      "outputs": [
        {
          "output_type": "execute_result",
          "data": {
            "text/html": [
              "<div>\n",
              "<style scoped>\n",
              "    .dataframe tbody tr th:only-of-type {\n",
              "        vertical-align: middle;\n",
              "    }\n",
              "\n",
              "    .dataframe tbody tr th {\n",
              "        vertical-align: top;\n",
              "    }\n",
              "\n",
              "    .dataframe thead th {\n",
              "        text-align: right;\n",
              "    }\n",
              "</style>\n",
              "<table border=\"1\" class=\"dataframe\">\n",
              "  <thead>\n",
              "    <tr style=\"text-align: right;\">\n",
              "      <th></th>\n",
              "      <th>Unnamed: 0</th>\n",
              "      <th>reviews</th>\n",
              "      <th>ratings</th>\n",
              "      <th>scores</th>\n",
              "      <th>compound</th>\n",
              "      <th>senti</th>\n",
              "    </tr>\n",
              "  </thead>\n",
              "  <tbody>\n",
              "    <tr>\n",
              "      <th>0</th>\n",
              "      <td>0</td>\n",
              "      <td>ok dslr giant canon launched entry level dslr ...</td>\n",
              "      <td>2.0</td>\n",
              "      <td>{'neg': 0.127, 'neu': 0.69, 'pos': 0.183, 'com...</td>\n",
              "      <td>0.8803</td>\n",
              "      <td>pos</td>\n",
              "    </tr>\n",
              "    <tr>\n",
              "      <th>1</th>\n",
              "      <td>1</td>\n",
              "      <td>good camera beginner</td>\n",
              "      <td>5.0</td>\n",
              "      <td>{'neg': 0.0, 'neu': 0.408, 'pos': 0.592, 'comp...</td>\n",
              "      <td>0.4404</td>\n",
              "      <td>pos</td>\n",
              "    </tr>\n",
              "    <tr>\n",
              "      <th>2</th>\n",
              "      <td>2</td>\n",
              "      <td>great camera perfect product young budding pho...</td>\n",
              "      <td>5.0</td>\n",
              "      <td>{'neg': 0.0, 'neu': 0.673, 'pos': 0.327, 'comp...</td>\n",
              "      <td>0.8934</td>\n",
              "      <td>pos</td>\n",
              "    </tr>\n",
              "    <tr>\n",
              "      <th>3</th>\n",
              "      <td>3</td>\n",
              "      <td>really impressed amazon surprise delivering wi...</td>\n",
              "      <td>5.0</td>\n",
              "      <td>{'neg': 0.0, 'neu': 0.541, 'pos': 0.459, 'comp...</td>\n",
              "      <td>0.9801</td>\n",
              "      <td>pos</td>\n",
              "    </tr>\n",
              "    <tr>\n",
              "      <th>4</th>\n",
              "      <td>4</td>\n",
              "      <td>buy product canon local service center help ev...</td>\n",
              "      <td>1.0</td>\n",
              "      <td>{'neg': 0.103, 'neu': 0.733, 'pos': 0.164, 'co...</td>\n",
              "      <td>0.4215</td>\n",
              "      <td>pos</td>\n",
              "    </tr>\n",
              "    <tr>\n",
              "      <th>5</th>\n",
              "      <td>5</td>\n",
              "      <td>request replacement camera main body lot black...</td>\n",
              "      <td>1.0</td>\n",
              "      <td>{'neg': 0.0, 'neu': 0.897, 'pos': 0.103, 'comp...</td>\n",
              "      <td>0.3182</td>\n",
              "      <td>pos</td>\n",
              "    </tr>\n",
              "    <tr>\n",
              "      <th>6</th>\n",
              "      <td>6</td>\n",
              "      <td>received product dslr cannon october adopter g...</td>\n",
              "      <td>2.0</td>\n",
              "      <td>{'neg': 0.135, 'neu': 0.865, 'pos': 0.0, 'comp...</td>\n",
              "      <td>-0.3612</td>\n",
              "      <td>neg</td>\n",
              "    </tr>\n",
              "    <tr>\n",
              "      <th>7</th>\n",
              "      <td>7</td>\n",
              "      <td>auto focus perfectminimum aperture dont expect...</td>\n",
              "      <td>3.0</td>\n",
              "      <td>{'neg': 0.134, 'neu': 0.738, 'pos': 0.128, 'co...</td>\n",
              "      <td>-0.1280</td>\n",
              "      <td>neg</td>\n",
              "    </tr>\n",
              "    <tr>\n",
              "      <th>8</th>\n",
              "      <td>8</td>\n",
              "      <td>want upgrade camera point shoot dslr good came...</td>\n",
              "      <td>4.0</td>\n",
              "      <td>{'neg': 0.262, 'neu': 0.536, 'pos': 0.202, 'co...</td>\n",
              "      <td>-0.6124</td>\n",
              "      <td>neg</td>\n",
              "    </tr>\n",
              "    <tr>\n",
              "      <th>9</th>\n",
              "      <td>9</td>\n",
              "      <td>really fully content product reached within tw...</td>\n",
              "      <td>5.0</td>\n",
              "      <td>{'neg': 0.162, 'neu': 0.73, 'pos': 0.108, 'com...</td>\n",
              "      <td>-0.4863</td>\n",
              "      <td>neg</td>\n",
              "    </tr>\n",
              "  </tbody>\n",
              "</table>\n",
              "</div>"
            ],
            "text/plain": [
              "   Unnamed: 0  ... senti\n",
              "0           0  ...   pos\n",
              "1           1  ...   pos\n",
              "2           2  ...   pos\n",
              "3           3  ...   pos\n",
              "4           4  ...   pos\n",
              "5           5  ...   pos\n",
              "6           6  ...   neg\n",
              "7           7  ...   neg\n",
              "8           8  ...   neg\n",
              "9           9  ...   neg\n",
              "\n",
              "[10 rows x 6 columns]"
            ]
          },
          "metadata": {
            "tags": []
          },
          "execution_count": 17
        }
      ]
    },
    {
      "cell_type": "code",
      "metadata": {
        "colab": {
          "base_uri": "https://localhost:8080/"
        },
        "id": "vsamkYipyftY",
        "outputId": "92a8c312-c82e-4492-b9e9-0cb9824dff16"
      },
      "source": [
        "print(df.isnull().sum())"
      ],
      "execution_count": 18,
      "outputs": [
        {
          "output_type": "stream",
          "text": [
            "Unnamed: 0    0\n",
            "reviews       0\n",
            "ratings       0\n",
            "scores        0\n",
            "compound      0\n",
            "senti         0\n",
            "dtype: int64\n"
          ],
          "name": "stdout"
        }
      ]
    },
    {
      "cell_type": "code",
      "metadata": {
        "id": "2jqYrW6Qyklo"
      },
      "source": [
        "senti = df.drop(df.columns[[0]], axis=1)"
      ],
      "execution_count": 19,
      "outputs": []
    },
    {
      "cell_type": "code",
      "metadata": {
        "colab": {
          "base_uri": "https://localhost:8080/",
          "height": 204
        },
        "id": "mq2uZJEwynJ6",
        "outputId": "391d2a0c-4370-4bed-9533-47f63d7918f3"
      },
      "source": [
        "senti.head()"
      ],
      "execution_count": 20,
      "outputs": [
        {
          "output_type": "execute_result",
          "data": {
            "text/html": [
              "<div>\n",
              "<style scoped>\n",
              "    .dataframe tbody tr th:only-of-type {\n",
              "        vertical-align: middle;\n",
              "    }\n",
              "\n",
              "    .dataframe tbody tr th {\n",
              "        vertical-align: top;\n",
              "    }\n",
              "\n",
              "    .dataframe thead th {\n",
              "        text-align: right;\n",
              "    }\n",
              "</style>\n",
              "<table border=\"1\" class=\"dataframe\">\n",
              "  <thead>\n",
              "    <tr style=\"text-align: right;\">\n",
              "      <th></th>\n",
              "      <th>reviews</th>\n",
              "      <th>ratings</th>\n",
              "      <th>scores</th>\n",
              "      <th>compound</th>\n",
              "      <th>senti</th>\n",
              "    </tr>\n",
              "  </thead>\n",
              "  <tbody>\n",
              "    <tr>\n",
              "      <th>0</th>\n",
              "      <td>ok dslr giant canon launched entry level dslr ...</td>\n",
              "      <td>2.0</td>\n",
              "      <td>{'neg': 0.127, 'neu': 0.69, 'pos': 0.183, 'com...</td>\n",
              "      <td>0.8803</td>\n",
              "      <td>pos</td>\n",
              "    </tr>\n",
              "    <tr>\n",
              "      <th>1</th>\n",
              "      <td>good camera beginner</td>\n",
              "      <td>5.0</td>\n",
              "      <td>{'neg': 0.0, 'neu': 0.408, 'pos': 0.592, 'comp...</td>\n",
              "      <td>0.4404</td>\n",
              "      <td>pos</td>\n",
              "    </tr>\n",
              "    <tr>\n",
              "      <th>2</th>\n",
              "      <td>great camera perfect product young budding pho...</td>\n",
              "      <td>5.0</td>\n",
              "      <td>{'neg': 0.0, 'neu': 0.673, 'pos': 0.327, 'comp...</td>\n",
              "      <td>0.8934</td>\n",
              "      <td>pos</td>\n",
              "    </tr>\n",
              "    <tr>\n",
              "      <th>3</th>\n",
              "      <td>really impressed amazon surprise delivering wi...</td>\n",
              "      <td>5.0</td>\n",
              "      <td>{'neg': 0.0, 'neu': 0.541, 'pos': 0.459, 'comp...</td>\n",
              "      <td>0.9801</td>\n",
              "      <td>pos</td>\n",
              "    </tr>\n",
              "    <tr>\n",
              "      <th>4</th>\n",
              "      <td>buy product canon local service center help ev...</td>\n",
              "      <td>1.0</td>\n",
              "      <td>{'neg': 0.103, 'neu': 0.733, 'pos': 0.164, 'co...</td>\n",
              "      <td>0.4215</td>\n",
              "      <td>pos</td>\n",
              "    </tr>\n",
              "  </tbody>\n",
              "</table>\n",
              "</div>"
            ],
            "text/plain": [
              "                                             reviews  ratings  ... compound  senti\n",
              "0  ok dslr giant canon launched entry level dslr ...      2.0  ...   0.8803    pos\n",
              "1                               good camera beginner      5.0  ...   0.4404    pos\n",
              "2  great camera perfect product young budding pho...      5.0  ...   0.8934    pos\n",
              "3  really impressed amazon surprise delivering wi...      5.0  ...   0.9801    pos\n",
              "4  buy product canon local service center help ev...      1.0  ...   0.4215    pos\n",
              "\n",
              "[5 rows x 5 columns]"
            ]
          },
          "metadata": {
            "tags": []
          },
          "execution_count": 20
        }
      ]
    },
    {
      "cell_type": "code",
      "metadata": {
        "colab": {
          "base_uri": "https://localhost:8080/"
        },
        "id": "Bdgrpy0syp5a",
        "outputId": "f1b55d41-1c0c-42f9-8bd3-874a4f69f97c"
      },
      "source": [
        "senti['senti'].value_counts()"
      ],
      "execution_count": 21,
      "outputs": [
        {
          "output_type": "execute_result",
          "data": {
            "text/plain": [
              "pos    2798\n",
              "neg     170\n",
              "Name: senti, dtype: int64"
            ]
          },
          "metadata": {
            "tags": []
          },
          "execution_count": 21
        }
      ]
    },
    {
      "cell_type": "code",
      "metadata": {
        "colab": {
          "base_uri": "https://localhost:8080/",
          "height": 291
        },
        "id": "oAaTBl5Iys2J",
        "outputId": "c799044a-0245-429c-b92a-4714a86cd235"
      },
      "source": [
        "senti['senti'].value_counts().plot.bar()"
      ],
      "execution_count": 22,
      "outputs": [
        {
          "output_type": "execute_result",
          "data": {
            "text/plain": [
              "<matplotlib.axes._subplots.AxesSubplot at 0x7f9dd1dd1cd0>"
            ]
          },
          "metadata": {
            "tags": []
          },
          "execution_count": 22
        },
        {
          "output_type": "display_data",
          "data": {
            "image/png": "[encoded data removed]",
            "text/plain": [
              "<Figure size 432x288 with 1 Axes>"
            ]
          },
          "metadata": {
            "tags": [],
            "needs_background": "light"
          }
        }
      ]
    },
    {
      "cell_type": "code",
      "metadata": {
        "id": "qC3VZJ7wywnb"
      },
      "source": [
        "from sklearn import preprocessing"
      ],
      "execution_count": 23,
      "outputs": []
    },
    {
      "cell_type": "code",
      "metadata": {
        "id": "NF8p6IMJyzvw"
      },
      "source": [
        "label_encoder = preprocessing.LabelEncoder()"
      ],
      "execution_count": 24,
      "outputs": []
    },
    {
      "cell_type": "code",
      "metadata": {
        "id": "GVCb0rM2y2DD"
      },
      "source": [
        "senti['senti']= label_encoder.fit_transform(df['senti'])"
      ],
      "execution_count": 25,
      "outputs": []
    },
    {
      "cell_type": "code",
      "metadata": {
        "colab": {
          "base_uri": "https://localhost:8080/"
        },
        "id": "OFZyY6kwy5MI",
        "outputId": "faf04714-f32a-4782-b04f-13df5b3f47d9"
      },
      "source": [
        "senti['senti'].unique()"
      ],
      "execution_count": 26,
      "outputs": [
        {
          "output_type": "execute_result",
          "data": {
            "text/plain": [
              "array([1, 0])"
            ]
          },
          "metadata": {
            "tags": []
          },
          "execution_count": 26
        }
      ]
    },
    {
      "cell_type": "code",
      "metadata": {
        "id": "b0kE1347y9J5"
      },
      "source": [
        "import re\n",
        "def cleaning_text(i):\n",
        "    i = re.sub(\"[^A-Za-z\" \"]+\",\" \",i).lower()\n",
        "    i = re.sub(\"[0-9\" \"]+\",\" \",i)\n",
        "    i= re.sub(\"[\\W+\"\"]\", \" \",i)        \n",
        "    w = []\n",
        "    for word in i.split(\" \"):\n",
        "        if len(word)>3:\n",
        "            w.append(word)\n",
        "    return (\" \".join(w))"
      ],
      "execution_count": 27,
      "outputs": []
    },
    {
      "cell_type": "code",
      "metadata": {
        "id": "3C3IUZ3ry-fD"
      },
      "source": [
        "senti['reviews']=senti.reviews.apply(cleaning_text)"
      ],
      "execution_count": 28,
      "outputs": []
    },
    {
      "cell_type": "code",
      "metadata": {
        "colab": {
          "base_uri": "https://localhost:8080/",
          "height": 359
        },
        "id": "CkueuwltzC8Z",
        "outputId": "d08c02a9-52e1-4bb8-9379-05963da15118"
      },
      "source": [
        "senti.head(10)"
      ],
      "execution_count": 29,
      "outputs": [
        {
          "output_type": "execute_result",
          "data": {
            "text/html": [
              "<div>\n",
              "<style scoped>\n",
              "    .dataframe tbody tr th:only-of-type {\n",
              "        vertical-align: middle;\n",
              "    }\n",
              "\n",
              "    .dataframe tbody tr th {\n",
              "        vertical-align: top;\n",
              "    }\n",
              "\n",
              "    .dataframe thead th {\n",
              "        text-align: right;\n",
              "    }\n",
              "</style>\n",
              "<table border=\"1\" class=\"dataframe\">\n",
              "  <thead>\n",
              "    <tr style=\"text-align: right;\">\n",
              "      <th></th>\n",
              "      <th>reviews</th>\n",
              "      <th>ratings</th>\n",
              "      <th>scores</th>\n",
              "      <th>compound</th>\n",
              "      <th>senti</th>\n",
              "    </tr>\n",
              "  </thead>\n",
              "  <tbody>\n",
              "    <tr>\n",
              "      <th>0</th>\n",
              "      <td>dslr giant canon launched entry level dslr act...</td>\n",
              "      <td>2.0</td>\n",
              "      <td>{'neg': 0.127, 'neu': 0.69, 'pos': 0.183, 'com...</td>\n",
              "      <td>0.8803</td>\n",
              "      <td>1</td>\n",
              "    </tr>\n",
              "    <tr>\n",
              "      <th>1</th>\n",
              "      <td>good camera beginner</td>\n",
              "      <td>5.0</td>\n",
              "      <td>{'neg': 0.0, 'neu': 0.408, 'pos': 0.592, 'comp...</td>\n",
              "      <td>0.4404</td>\n",
              "      <td>1</td>\n",
              "    </tr>\n",
              "    <tr>\n",
              "      <th>2</th>\n",
              "      <td>great camera perfect product young budding pho...</td>\n",
              "      <td>5.0</td>\n",
              "      <td>{'neg': 0.0, 'neu': 0.673, 'pos': 0.327, 'comp...</td>\n",
              "      <td>0.8934</td>\n",
              "      <td>1</td>\n",
              "    </tr>\n",
              "    <tr>\n",
              "      <th>3</th>\n",
              "      <td>really impressed amazon surprise delivering wi...</td>\n",
              "      <td>5.0</td>\n",
              "      <td>{'neg': 0.0, 'neu': 0.541, 'pos': 0.459, 'comp...</td>\n",
              "      <td>0.9801</td>\n",
              "      <td>1</td>\n",
              "    </tr>\n",
              "    <tr>\n",
              "      <th>4</th>\n",
              "      <td>product canon local service center help even p...</td>\n",
              "      <td>1.0</td>\n",
              "      <td>{'neg': 0.103, 'neu': 0.733, 'pos': 0.164, 'co...</td>\n",
              "      <td>0.4215</td>\n",
              "      <td>1</td>\n",
              "    </tr>\n",
              "    <tr>\n",
              "      <th>5</th>\n",
              "      <td>request replacement camera main body blackspot...</td>\n",
              "      <td>1.0</td>\n",
              "      <td>{'neg': 0.0, 'neu': 0.897, 'pos': 0.103, 'comp...</td>\n",
              "      <td>0.3182</td>\n",
              "      <td>1</td>\n",
              "    </tr>\n",
              "    <tr>\n",
              "      <th>6</th>\n",
              "      <td>received product dslr cannon october adopter g...</td>\n",
              "      <td>2.0</td>\n",
              "      <td>{'neg': 0.135, 'neu': 0.865, 'pos': 0.0, 'comp...</td>\n",
              "      <td>-0.3612</td>\n",
              "      <td>0</td>\n",
              "    </tr>\n",
              "    <tr>\n",
              "      <th>7</th>\n",
              "      <td>auto focus perfectminimum aperture dont expect...</td>\n",
              "      <td>3.0</td>\n",
              "      <td>{'neg': 0.134, 'neu': 0.738, 'pos': 0.128, 'co...</td>\n",
              "      <td>-0.1280</td>\n",
              "      <td>0</td>\n",
              "    </tr>\n",
              "    <tr>\n",
              "      <th>8</th>\n",
              "      <td>want upgrade camera point shoot dslr good came...</td>\n",
              "      <td>4.0</td>\n",
              "      <td>{'neg': 0.262, 'neu': 0.536, 'pos': 0.202, 'co...</td>\n",
              "      <td>-0.6124</td>\n",
              "      <td>0</td>\n",
              "    </tr>\n",
              "    <tr>\n",
              "      <th>9</th>\n",
              "      <td>really fully content product reached within ev...</td>\n",
              "      <td>5.0</td>\n",
              "      <td>{'neg': 0.162, 'neu': 0.73, 'pos': 0.108, 'com...</td>\n",
              "      <td>-0.4863</td>\n",
              "      <td>0</td>\n",
              "    </tr>\n",
              "  </tbody>\n",
              "</table>\n",
              "</div>"
            ],
            "text/plain": [
              "                                             reviews  ratings  ... compound  senti\n",
              "0  dslr giant canon launched entry level dslr act...      2.0  ...   0.8803      1\n",
              "1                               good camera beginner      5.0  ...   0.4404      1\n",
              "2  great camera perfect product young budding pho...      5.0  ...   0.8934      1\n",
              "3  really impressed amazon surprise delivering wi...      5.0  ...   0.9801      1\n",
              "4  product canon local service center help even p...      1.0  ...   0.4215      1\n",
              "5  request replacement camera main body blackspot...      1.0  ...   0.3182      1\n",
              "6  received product dslr cannon october adopter g...      2.0  ...  -0.3612      0\n",
              "7  auto focus perfectminimum aperture dont expect...      3.0  ...  -0.1280      0\n",
              "8  want upgrade camera point shoot dslr good came...      4.0  ...  -0.6124      0\n",
              "9  really fully content product reached within ev...      5.0  ...  -0.4863      0\n",
              "\n",
              "[10 rows x 5 columns]"
            ]
          },
          "metadata": {
            "tags": []
          },
          "execution_count": 29
        }
      ]
    },
    {
      "cell_type": "code",
      "metadata": {
        "id": "2ZoJwAdIzWhq"
      },
      "source": [
        "from sklearn.model_selection import train_test_split\n",
        "from sklearn.feature_extraction.text import TfidfVectorizer"
      ],
      "execution_count": 30,
      "outputs": []
    },
    {
      "cell_type": "code",
      "metadata": {
        "id": "Q47D6GrNzGsi"
      },
      "source": [
        "split = senti[['reviews', 'senti']]\n",
        "train = split.sample(frac=0.8,random_state = 200)\n",
        "test = split.drop(train.index)"
      ],
      "execution_count": 31,
      "outputs": []
    },
    {
      "cell_type": "code",
      "metadata": {
        "colab": {
          "base_uri": "https://localhost:8080/"
        },
        "id": "OrMgKdk7zLWC",
        "outputId": "3ab41beb-64ad-4632-a244-268ad4310fb6"
      },
      "source": [
        "train.shape"
      ],
      "execution_count": 32,
      "outputs": [
        {
          "output_type": "execute_result",
          "data": {
            "text/plain": [
              "(2374, 2)"
            ]
          },
          "metadata": {
            "tags": []
          },
          "execution_count": 32
        }
      ]
    },
    {
      "cell_type": "code",
      "metadata": {
        "colab": {
          "base_uri": "https://localhost:8080/"
        },
        "id": "t2qJhW9UzOTV",
        "outputId": "b884b628-bd95-4293-bc55-5e6a49d29cd2"
      },
      "source": [
        "test.shape"
      ],
      "execution_count": 33,
      "outputs": [
        {
          "output_type": "execute_result",
          "data": {
            "text/plain": [
              "(594, 2)"
            ]
          },
          "metadata": {
            "tags": []
          },
          "execution_count": 33
        }
      ]
    },
    {
      "cell_type": "code",
      "metadata": {
        "id": "Zr5tyRc2zQV0"
      },
      "source": [
        "trainX=train.reviews\n",
        "trainy=train.senti\n",
        "testX=test.reviews\n",
        "testy=test.senti"
      ],
      "execution_count": 34,
      "outputs": []
    },
    {
      "cell_type": "code",
      "metadata": {
        "id": "oZ3zyAatzbWT"
      },
      "source": [
        "from wordcloud import STOPWORDS\n",
        "from sklearn.feature_extraction.text import TfidfTransformer\n",
        "from sklearn.feature_extraction.text import CountVectorizer"
      ],
      "execution_count": 35,
      "outputs": []
    },
    {
      "cell_type": "code",
      "metadata": {
        "id": "wl7-u_nVzeBC"
      },
      "source": [
        "stopwords = set(STOPWORDS)\n",
        "stopwords.remove(\"not\")"
      ],
      "execution_count": 36,
      "outputs": []
    },
    {
      "cell_type": "code",
      "metadata": {
        "id": "bdDrN5c1zfXJ"
      },
      "source": [
        "count_vect = CountVectorizer(min_df=2 ,stop_words=stopwords , ngram_range=(1,2))\n",
        "tfidf_transformer = TfidfTransformer()"
      ],
      "execution_count": 37,
      "outputs": []
    },
    {
      "cell_type": "code",
      "metadata": {
        "id": "GGgEQYvKziyR"
      },
      "source": [
        "X_train_counts = count_vect.fit_transform(train[\"reviews\"])        \n",
        "X_train_tfidf = tfidf_transformer.fit_transform(X_train_counts)"
      ],
      "execution_count": 38,
      "outputs": []
    },
    {
      "cell_type": "code",
      "metadata": {
        "id": "tjvP-lBhzmqh"
      },
      "source": [
        "X_new_counts = count_vect.transform(test[\"reviews\"])\n",
        "X_test_tfidf = tfidf_transformer.transform(X_new_counts)"
      ],
      "execution_count": 39,
      "outputs": []
    },
    {
      "cell_type": "code",
      "metadata": {
        "id": "kf0u0Zjozss6"
      },
      "source": [
        "from sklearn.metrics import classification_report,confusion_matrix,accuracy_score"
      ],
      "execution_count": 40,
      "outputs": []
    },
    {
      "cell_type": "markdown",
      "metadata": {
        "id": "OBOIz4vVzveH"
      },
      "source": [
        "Logistic Regresssion"
      ]
    },
    {
      "cell_type": "code",
      "metadata": {
        "colab": {
          "base_uri": "https://localhost:8080/"
        },
        "id": "dEUaSgU5zvNJ",
        "outputId": "754c874f-fe6a-483d-e694-56b3bfb44a89"
      },
      "source": [
        "from sklearn.linear_model import LogisticRegression\n",
        "model=LogisticRegression()\n",
        "model.fit(X_train_tfidf,trainy)"
      ],
      "execution_count": 41,
      "outputs": [
        {
          "output_type": "execute_result",
          "data": {
            "text/plain": [
              "LogisticRegression(C=1.0, class_weight=None, dual=False, fit_intercept=True,\n",
              "                   intercept_scaling=1, l1_ratio=None, max_iter=100,\n",
              "                   multi_class='auto', n_jobs=None, penalty='l2',\n",
              "                   random_state=None, solver='lbfgs', tol=0.0001, verbose=0,\n",
              "                   warm_start=False)"
            ]
          },
          "metadata": {
            "tags": []
          },
          "execution_count": 41
        }
      ]
    },
    {
      "cell_type": "code",
      "metadata": {
        "id": "b9d0N_XXz72Y"
      },
      "source": [
        "y_pred=model.predict(X_test_tfidf)"
      ],
      "execution_count": 42,
      "outputs": []
    },
    {
      "cell_type": "code",
      "metadata": {
        "id": "DuA_MMgg0IDr"
      },
      "source": [
        "from sklearn.metrics import classification_report,confusion_matrix,accuracy_score"
      ],
      "execution_count": 43,
      "outputs": []
    },
    {
      "cell_type": "code",
      "metadata": {
        "colab": {
          "base_uri": "https://localhost:8080/"
        },
        "id": "y7MOVZmez_Pi",
        "outputId": "6605384b-8395-4fb6-b453-99ce9abf145b"
      },
      "source": [
        "print(accuracy_score(testy,y_pred))\n",
        "print(classification_report(testy,y_pred))\n",
        "print(confusion_matrix(testy,y_pred))\n",
        "print(cohen_kappa_score(testy,y_pred))"
      ],
      "execution_count": 44,
      "outputs": [
        {
          "output_type": "stream",
          "text": [
            "0.9696969696969697\n",
            "              precision    recall  f1-score   support\n",
            "\n",
            "           0       1.00      0.18      0.31        22\n",
            "           1       0.97      1.00      0.98       572\n",
            "\n",
            "    accuracy                           0.97       594\n",
            "   macro avg       0.98      0.59      0.65       594\n",
            "weighted avg       0.97      0.97      0.96       594\n",
            "\n",
            "[[  4  18]\n",
            " [  0 572]]\n",
            "0.2997118155619596\n"
          ],
          "name": "stdout"
        }
      ]
    },
    {
      "cell_type": "code",
      "metadata": {
        "id": "yDHvjtnr54tg",
        "colab": {
          "base_uri": "https://localhost:8080/",
          "height": 638
        },
        "outputId": "01ca19c5-8231-4049-f293-b018fc7ef715"
      },
      "source": [
        "y_score1 = model.predict_proba(X_test_tfidf)[:,1]\n",
        "    \n",
        "false_positive_rate1, true_positive_rate1, threshold1 = roc_curve(testy, y_score1)\n",
        "print('roc_auc_score for Logistic Regression: ', roc_auc_score(testy, y_score1))\n",
        "\n",
        "plt.subplots(1, figsize=(10,10))\n",
        "plt.title('Receiver Operating Characteristic - Logistic regression')\n",
        "plt.plot(false_positive_rate1, true_positive_rate1)\n",
        "plt.plot([0, 1], ls=\"--\")\n",
        "plt.plot([0, 0], [1, 0] , c=\".7\"), plt.plot([1, 1] , c=\".7\")\n",
        "plt.ylabel('True Positive Rate')\n",
        "plt.xlabel('False Positive Rate')\n",
        "plt.show()\n"
      ],
      "execution_count": 90,
      "outputs": [
        {
          "output_type": "stream",
          "text": [
            "roc_auc_score for Logistic Regression:  0.8993960584869676\n"
          ],
          "name": "stdout"
        },
        {
          "output_type": "display_data",
          "data": {
            "image/png": "[encoded data removed]",
            "text/plain": [
              "<Figure size 720x720 with 1 Axes>"
            ]
          },
          "metadata": {
            "tags": [],
            "needs_background": "light"
          }
        }
      ]
    },
    {
      "cell_type": "code",
      "metadata": {
        "id": "8g0dvg0a7riZ"
      },
      "source": [
        "cm=confusion_matrix(testy,y_pred)\n",
        "TN=cm[0,0]\n",
        "TP=cm[1,1]\n",
        "FN=cm[1,0]\n",
        "FP=cm[0,1]\n",
        "sensitivity=TP/float(TP+FN)\n",
        "specificity=TN/float(TN+FP)\n"
      ],
      "execution_count": 47,
      "outputs": []
    },
    {
      "cell_type": "code",
      "metadata": {
        "colab": {
          "base_uri": "https://localhost:8080/"
        },
        "id": "QBBzpCIC784R",
        "outputId": "e585125b-0cfd-4eea-9f98-431f2798bc24"
      },
      "source": [
        "print('The acuuracy of the model = TP+TN/(TP+TN+FP+FN) = ',(TP+TN)/float(TP+TN+FP+FN),'\\n',\n",
        "\n",
        "'The Missclassification = 1-Accuracy = ',1-((TP+TN)/float(TP+TN+FP+FN)),'\\n',\n",
        "\n",
        "'Sensitivity or True Positive Rate = TP/(TP+FN) = ',TP/float(TP+FN),'\\n',\n",
        "\n",
        "'Specificity or True Negative Rate = TN/(TN+FP) = ',TN/float(TN+FP),'\\n',\n",
        "\n",
        "'Positive Predictive value = TP/(TP+FP) = ',TP/float(TP+FP),'\\n',\n",
        "\n",
        "'Negative predictive Value = TN/(TN+FN) = ',TN/float(TN+FN),'\\n',\n",
        "\n",
        "'Positive Likelihood Ratio = Sensitivity/(1-Specificity) = ',sensitivity/(1-specificity),'\\n',\n",
        "\n",
        "'Negative likelihood Ratio = (1-Sensitivity)/Specificity = ',(1-sensitivity)/specificity)"
      ],
      "execution_count": 48,
      "outputs": [
        {
          "output_type": "stream",
          "text": [
            "The acuuracy of the model = TP+TN/(TP+TN+FP+FN) =  0.9696969696969697 \n",
            " The Missclassification = 1-Accuracy =  0.030303030303030276 \n",
            " Sensitivity or True Positive Rate = TP/(TP+FN) =  1.0 \n",
            " Specificity or True Negative Rate = TN/(TN+FP) =  0.18181818181818182 \n",
            " Positive Predictive value = TP/(TP+FP) =  0.9694915254237289 \n",
            " Negative predictive Value = TN/(TN+FN) =  1.0 \n",
            " Positive Likelihood Ratio = Sensitivity/(1-Specificity) =  1.2222222222222223 \n",
            " Negative likelihood Ratio = (1-Sensitivity)/Specificity =  0.0\n"
          ],
          "name": "stdout"
        }
      ]
    },
    {
      "cell_type": "markdown",
      "metadata": {
        "id": "L8we8Ydf0Sh2"
      },
      "source": [
        "# Logistic Regression After SMOTE"
      ]
    },
    {
      "cell_type": "code",
      "metadata": {
        "id": "5wc9_5HA0Xf6"
      },
      "source": [
        "from imblearn.over_sampling import SMOTE"
      ],
      "execution_count": 49,
      "outputs": []
    },
    {
      "cell_type": "code",
      "metadata": {
        "id": "xIlgSMrl0aTT"
      },
      "source": [
        "sm=SMOTE(random_state=444)"
      ],
      "execution_count": 50,
      "outputs": []
    },
    {
      "cell_type": "code",
      "metadata": {
        "id": "XF848XVn0cuJ"
      },
      "source": [
        "X_train_res, y_train_res = sm.fit_resample(X_train_tfidf, trainy)"
      ],
      "execution_count": 51,
      "outputs": []
    },
    {
      "cell_type": "code",
      "metadata": {
        "colab": {
          "base_uri": "https://localhost:8080/"
        },
        "id": "_zIyOhMK0gdE",
        "outputId": "00cb19b8-79b6-49f2-ef02-6dc3f7944ab2"
      },
      "source": [
        "model2=LogisticRegression()\n",
        "model2.fit(X_train_res,y_train_res)"
      ],
      "execution_count": 52,
      "outputs": [
        {
          "output_type": "execute_result",
          "data": {
            "text/plain": [
              "LogisticRegression(C=1.0, class_weight=None, dual=False, fit_intercept=True,\n",
              "                   intercept_scaling=1, l1_ratio=None, max_iter=100,\n",
              "                   multi_class='auto', n_jobs=None, penalty='l2',\n",
              "                   random_state=None, solver='lbfgs', tol=0.0001, verbose=0,\n",
              "                   warm_start=False)"
            ]
          },
          "metadata": {
            "tags": []
          },
          "execution_count": 52
        }
      ]
    },
    {
      "cell_type": "code",
      "metadata": {
        "id": "7OK7La8feBQw"
      },
      "source": [
        "y_pred2=model2.predict(X_test_tfidf)"
      ],
      "execution_count": 94,
      "outputs": []
    },
    {
      "cell_type": "code",
      "metadata": {
        "colab": {
          "base_uri": "https://localhost:8080/"
        },
        "id": "U0YdD4uid_7l",
        "outputId": "021149fa-c4d2-4507-8505-0e54c26b476e"
      },
      "source": [
        "print(accuracy_score(testy,y_pred2))\n",
        "print(classification_report(testy,y_pred2))\n",
        "print(confusion_matrix(testy,y_pred2))\n",
        "print(cohen_kappa_score(testy,y_pred2))"
      ],
      "execution_count": 98,
      "outputs": [
        {
          "output_type": "stream",
          "text": [
            "0.8552188552188552\n",
            "              precision    recall  f1-score   support\n",
            "\n",
            "           0       0.17      0.73      0.27        22\n",
            "           1       0.99      0.86      0.92       572\n",
            "\n",
            "    accuracy                           0.86       594\n",
            "   macro avg       0.58      0.79      0.60       594\n",
            "weighted avg       0.96      0.86      0.90       594\n",
            "\n",
            "[[ 16   6]\n",
            " [ 80 492]]\n",
            "0.22444889779559118\n"
          ],
          "name": "stdout"
        }
      ]
    },
    {
      "cell_type": "code",
      "metadata": {
        "colab": {
          "base_uri": "https://localhost:8080/",
          "height": 638
        },
        "id": "MGqUt046YmTX",
        "outputId": "d4ff6fd0-2eb2-44ad-bb15-a80c232677fe"
      },
      "source": [
        "y_score2 = model2.predict_proba(X_test_tfidf)[:,1]\n",
        "    \n",
        "false_positive_rate2, true_positive_rate2, threshold1 = roc_curve(testy, y_score2)\n",
        "print('roc_auc_score for Logistic Regression after smote: ', roc_auc_score(testy, y_score2))\n",
        "\n",
        "plt.subplots(1, figsize=(10,10))\n",
        "plt.title('Receiver Operating Characteristic - Logistic regression after smote')\n",
        "plt.plot(false_positive_rate2, true_positive_rate2)\n",
        "plt.plot([0, 1], ls=\"--\")\n",
        "plt.plot([0, 0], [1, 0] , c=\".7\"), plt.plot([1, 1] , c=\".7\")\n",
        "plt.ylabel('True Positive Rate')\n",
        "plt.xlabel('False Positive Rate')\n",
        "plt.show()"
      ],
      "execution_count": 96,
      "outputs": [
        {
          "output_type": "stream",
          "text": [
            "roc_auc_score for Logistic Regression after smote:  0.8943102352193261\n"
          ],
          "name": "stdout"
        },
        {
          "output_type": "display_data",
          "data": {
            "image/png": "[encoded data removed]",
            "text/plain": [
              "<Figure size 720x720 with 1 Axes>"
            ]
          },
          "metadata": {
            "tags": [],
            "needs_background": "light"
          }
        }
      ]
    },
    {
      "cell_type": "markdown",
      "metadata": {
        "id": "q8eSw4v30sX5"
      },
      "source": [
        "# MultiNomial NB"
      ]
    },
    {
      "cell_type": "code",
      "metadata": {
        "id": "iKT9JBif0rvL"
      },
      "source": [
        "from sklearn.naive_bayes import MultinomialNB"
      ],
      "execution_count": 64,
      "outputs": []
    },
    {
      "cell_type": "code",
      "metadata": {
        "colab": {
          "base_uri": "https://localhost:8080/"
        },
        "id": "MfSV0GBO00gB",
        "outputId": "5c2dac75-8fd2-44f4-c0d7-8cb51623e253"
      },
      "source": [
        "model3=MultinomialNB()\n",
        "model3.fit(X_train_tfidf,trainy)"
      ],
      "execution_count": 65,
      "outputs": [
        {
          "output_type": "execute_result",
          "data": {
            "text/plain": [
              "MultinomialNB(alpha=1.0, class_prior=None, fit_prior=True)"
            ]
          },
          "metadata": {
            "tags": []
          },
          "execution_count": 65
        }
      ]
    },
    {
      "cell_type": "code",
      "metadata": {
        "id": "Icw5opnu04Wp"
      },
      "source": [
        "y_pred3=model3.predict(X_test_tfidf)"
      ],
      "execution_count": 66,
      "outputs": []
    },
    {
      "cell_type": "code",
      "metadata": {
        "colab": {
          "base_uri": "https://localhost:8080/"
        },
        "id": "6d3UYyG0eTCm",
        "outputId": "32cdd505-88cb-4d8d-f36b-0ab828042dfe"
      },
      "source": [
        "print(accuracy_score(testy,y_pred3))\n",
        "print(classification_report(testy,y_pred3))\n",
        "print(confusion_matrix(testy,y_pred3))\n",
        "print(cohen_kappa_score(testy,y_pred3))"
      ],
      "execution_count": 99,
      "outputs": [
        {
          "output_type": "stream",
          "text": [
            "0.9629629629629629\n",
            "              precision    recall  f1-score   support\n",
            "\n",
            "           0       0.00      0.00      0.00        22\n",
            "           1       0.96      1.00      0.98       572\n",
            "\n",
            "    accuracy                           0.96       594\n",
            "   macro avg       0.48      0.50      0.49       594\n",
            "weighted avg       0.93      0.96      0.94       594\n",
            "\n",
            "[[  0  22]\n",
            " [  0 572]]\n",
            "0.0\n"
          ],
          "name": "stdout"
        }
      ]
    },
    {
      "cell_type": "code",
      "metadata": {
        "colab": {
          "base_uri": "https://localhost:8080/",
          "height": 638
        },
        "id": "nDBdiebyeoRy",
        "outputId": "dd1ae270-b351-41ab-ce00-2f7556adf2ef"
      },
      "source": [
        "y_score3 = model3.predict_proba(X_test_tfidf)[:,1]\n",
        "    \n",
        "false_positive_rate3, true_positive_rate3, threshold1 = roc_curve(testy, y_score3)\n",
        "print('roc_auc_score for multinomialNB : ', roc_auc_score(testy, y_score3))\n",
        "\n",
        "plt.subplots(1, figsize=(10,10))\n",
        "plt.title('Receiver Operating Characteristic - multinomial NB')\n",
        "plt.plot(false_positive_rate3, true_positive_rate3)\n",
        "plt.plot([0, 1], ls=\"--\")\n",
        "plt.plot([0, 0], [1, 0] , c=\".7\"), plt.plot([1, 1] , c=\".7\")\n",
        "plt.ylabel('True Positive Rate')\n",
        "plt.xlabel('False Positive Rate')\n",
        "plt.show()"
      ],
      "execution_count": 108,
      "outputs": [
        {
          "output_type": "stream",
          "text": [
            "roc_auc_score for multinomialNB :  0.8902574698029243\n"
          ],
          "name": "stdout"
        },
        {
          "output_type": "display_data",
          "data": {
            "image/png": "[encoded data removed]",
            "text/plain": [
              "<Figure size 720x720 with 1 Axes>"
            ]
          },
          "metadata": {
            "tags": [],
            "needs_background": "light"
          }
        }
      ]
    },
    {
      "cell_type": "markdown",
      "metadata": {
        "id": "Zr1UEi0S1KlZ"
      },
      "source": [
        "# Multinomial NB after SMOTE"
      ]
    },
    {
      "cell_type": "code",
      "metadata": {
        "id": "6DomZuq81IWZ"
      },
      "source": [
        "sm=SMOTE(random_state=444)"
      ],
      "execution_count": 101,
      "outputs": []
    },
    {
      "cell_type": "code",
      "metadata": {
        "colab": {
          "base_uri": "https://localhost:8080/"
        },
        "id": "g2ufAV5q1cnK",
        "outputId": "86c7a969-375f-4dbf-fbbb-958b493e9171"
      },
      "source": [
        "model4=MultinomialNB()\n",
        "model4.fit(X_train_res,y_train_res)"
      ],
      "execution_count": 102,
      "outputs": [
        {
          "output_type": "execute_result",
          "data": {
            "text/plain": [
              "MultinomialNB(alpha=1.0, class_prior=None, fit_prior=True)"
            ]
          },
          "metadata": {
            "tags": []
          },
          "execution_count": 102
        }
      ]
    },
    {
      "cell_type": "code",
      "metadata": {
        "id": "jksAhBPP1i5J"
      },
      "source": [
        "y_pred4=model4.predict(X_test_tfidf)"
      ],
      "execution_count": 106,
      "outputs": []
    },
    {
      "cell_type": "code",
      "metadata": {
        "colab": {
          "base_uri": "https://localhost:8080/"
        },
        "id": "PYnsSK9N1onT",
        "outputId": "36420276-022b-456d-f0e6-c1787bb9425e"
      },
      "source": [
        "print(accuracy_score(testy,y_pred4))\n",
        "print(classification_report(testy,y_pred4))\n",
        "print(confusion_matrix(testy,y_pred4))\n",
        "print(cohen_kappa_score(testy,y_pred4))"
      ],
      "execution_count": 107,
      "outputs": [
        {
          "output_type": "stream",
          "text": [
            "0.8636363636363636\n",
            "              precision    recall  f1-score   support\n",
            "\n",
            "           0       0.18      0.73      0.28        22\n",
            "           1       0.99      0.87      0.92       572\n",
            "\n",
            "    accuracy                           0.86       594\n",
            "   macro avg       0.58      0.80      0.60       594\n",
            "weighted avg       0.96      0.86      0.90       594\n",
            "\n",
            "[[ 16   6]\n",
            " [ 75 497]]\n",
            "0.23771348902056466\n"
          ],
          "name": "stdout"
        }
      ]
    },
    {
      "cell_type": "code",
      "metadata": {
        "colab": {
          "base_uri": "https://localhost:8080/",
          "height": 638
        },
        "id": "UIOvpA6GfO0Z",
        "outputId": "73eed581-5499-40d9-e0f7-e16d5e062503"
      },
      "source": [
        "y_score4 = model4.predict_proba(X_test_tfidf)[:,1]\n",
        "    \n",
        "false_positive_rate4, true_positive_rate4, threshold1 = roc_curve(testy, y_score4)\n",
        "print('roc_auc_score for multinomialNB smote: ', roc_auc_score(testy, y_score4))\n",
        "\n",
        "plt.subplots(1, figsize=(10,10))\n",
        "plt.title('Receiver Operating Characteristic - multinomial NB after smote')\n",
        "plt.plot(false_positive_rate4, true_positive_rate4)\n",
        "plt.plot([0, 1], ls=\"--\")\n",
        "plt.plot([0, 0], [1, 0] , c=\".7\"), plt.plot([1, 1] , c=\".7\")\n",
        "plt.ylabel('True Positive Rate')\n",
        "plt.xlabel('False Positive Rate')\n",
        "plt.show()"
      ],
      "execution_count": 115,
      "outputs": [
        {
          "output_type": "stream",
          "text": [
            "roc_auc_score for multinomialNB smote:  0.9027336300063572\n"
          ],
          "name": "stdout"
        },
        {
          "output_type": "display_data",
          "data": {
            "image/png": "[encoded data removed]",
            "text/plain": [
              "<Figure size 720x720 with 1 Axes>"
            ]
          },
          "metadata": {
            "tags": [],
            "needs_background": "light"
          }
        }
      ]
    },
    {
      "cell_type": "code",
      "metadata": {
        "id": "x-eav7I9e986"
      },
      "source": [
        ""
      ],
      "execution_count": null,
      "outputs": []
    },
    {
      "cell_type": "markdown",
      "metadata": {
        "id": "osSzKj7T1x-i"
      },
      "source": [
        "# Bernouli NB"
      ]
    },
    {
      "cell_type": "code",
      "metadata": {
        "id": "XT9SWdD3101L"
      },
      "source": [
        "from sklearn.naive_bayes import BernoulliNB"
      ],
      "execution_count": 111,
      "outputs": []
    },
    {
      "cell_type": "code",
      "metadata": {
        "colab": {
          "base_uri": "https://localhost:8080/"
        },
        "id": "VzHqdQ9413Vj",
        "outputId": "05739588-b04b-4b1f-c88b-419aa3e5c6b3"
      },
      "source": [
        "model5=BernoulliNB()\n",
        "model5.fit(X_train_tfidf,trainy)"
      ],
      "execution_count": 112,
      "outputs": [
        {
          "output_type": "execute_result",
          "data": {
            "text/plain": [
              "BernoulliNB(alpha=1.0, binarize=0.0, class_prior=None, fit_prior=True)"
            ]
          },
          "metadata": {
            "tags": []
          },
          "execution_count": 112
        }
      ]
    },
    {
      "cell_type": "code",
      "metadata": {
        "id": "ubOweKqH16NW"
      },
      "source": [
        "y_pred5=model5.predict(X_test_tfidf)"
      ],
      "execution_count": 113,
      "outputs": []
    },
    {
      "cell_type": "code",
      "metadata": {
        "colab": {
          "base_uri": "https://localhost:8080/"
        },
        "id": "FHCAdvWa1-NC",
        "outputId": "7450bc04-9428-4feb-ba28-85ead8e57d07"
      },
      "source": [
        "print(accuracy_score(testy,y_pred5))\n",
        "print(classification_report(testy,y_pred5))\n",
        "print(confusion_matrix(testy,y_pred5))\n",
        "print(cohen_kappa_score(testy,y_pred5))"
      ],
      "execution_count": 114,
      "outputs": [
        {
          "output_type": "stream",
          "text": [
            "0.9276094276094277\n",
            "              precision    recall  f1-score   support\n",
            "\n",
            "           0       0.08      0.09      0.09        22\n",
            "           1       0.96      0.96      0.96       572\n",
            "\n",
            "    accuracy                           0.93       594\n",
            "   macro avg       0.52      0.53      0.52       594\n",
            "weighted avg       0.93      0.93      0.93       594\n",
            "\n",
            "[[  2  20]\n",
            " [ 23 549]]\n",
            "0.047579983593109\n"
          ],
          "name": "stdout"
        }
      ]
    },
    {
      "cell_type": "code",
      "metadata": {
        "colab": {
          "base_uri": "https://localhost:8080/",
          "height": 638
        },
        "id": "XglDmEt5fyHi",
        "outputId": "1aaf07d5-c89e-47c4-ea9b-aa3397b40ebf"
      },
      "source": [
        "y_score5 = model5.predict_proba(X_test_tfidf)[:,1]\n",
        "    \n",
        "false_positive_rate5, true_positive_rate5, threshold1 = roc_curve(testy, y_score5)\n",
        "print('roc_auc_score for Bernouli NB: ', roc_auc_score(testy, y_score5))\n",
        "\n",
        "plt.subplots(1, figsize=(10,10))\n",
        "plt.title('Receiver Operating Characteristic -Bernouli NB ')\n",
        "plt.plot(false_positive_rate5, true_positive_rate5)\n",
        "plt.plot([0, 1], ls=\"--\")\n",
        "plt.plot([0, 0], [1, 0] , c=\".7\"), plt.plot([1, 1] , c=\".7\")\n",
        "plt.ylabel('True Positive Rate')\n",
        "plt.xlabel('False Positive Rate')\n",
        "plt.show()"
      ],
      "execution_count": 116,
      "outputs": [
        {
          "output_type": "stream",
          "text": [
            "roc_auc_score for Bernouli NB:  0.8332406230133502\n"
          ],
          "name": "stdout"
        },
        {
          "output_type": "display_data",
          "data": {
            "image/png": "[encoded data removed]",
            "text/plain": [
              "<Figure size 720x720 with 1 Axes>"
            ]
          },
          "metadata": {
            "tags": [],
            "needs_background": "light"
          }
        }
      ]
    },
    {
      "cell_type": "code",
      "metadata": {
        "id": "Zj8Ljd7db4m9"
      },
      "source": [
        ""
      ],
      "execution_count": null,
      "outputs": []
    },
    {
      "cell_type": "markdown",
      "metadata": {
        "id": "yfDWIPn12DwS"
      },
      "source": [
        "# bernouli NB after SMOTE"
      ]
    },
    {
      "cell_type": "code",
      "metadata": {
        "colab": {
          "base_uri": "https://localhost:8080/"
        },
        "id": "OQpnXu_E2J4Q",
        "outputId": "f9bf547b-7b43-4e77-8e9c-9cc0d3aaf77d"
      },
      "source": [
        "model6=BernoulliNB()\n",
        "model6.fit(X_train_res,y_train_res)"
      ],
      "execution_count": 117,
      "outputs": [
        {
          "output_type": "execute_result",
          "data": {
            "text/plain": [
              "BernoulliNB(alpha=1.0, binarize=0.0, class_prior=None, fit_prior=True)"
            ]
          },
          "metadata": {
            "tags": []
          },
          "execution_count": 117
        }
      ]
    },
    {
      "cell_type": "code",
      "metadata": {
        "id": "XOYyqYLg2AnK"
      },
      "source": [
        "y_pred6=model6.predict(X_test_tfidf)"
      ],
      "execution_count": 118,
      "outputs": []
    },
    {
      "cell_type": "code",
      "metadata": {
        "colab": {
          "base_uri": "https://localhost:8080/"
        },
        "id": "T8FLEAbb2SVq",
        "outputId": "15bee609-2ff7-4c8d-d259-5d64c4e6d37f"
      },
      "source": [
        "print(accuracy_score(testy,y_pred6))\n",
        "print(classification_report(testy,y_pred6))\n",
        "print(confusion_matrix(testy,y_pred6))\n",
        "print(cohen_kappa_score(testy,y_pred6))"
      ],
      "execution_count": 119,
      "outputs": [
        {
          "output_type": "stream",
          "text": [
            "0.9494949494949495\n",
            "              precision    recall  f1-score   support\n",
            "\n",
            "           0       0.36      0.45      0.40        22\n",
            "           1       0.98      0.97      0.97       572\n",
            "\n",
            "    accuracy                           0.95       594\n",
            "   macro avg       0.67      0.71      0.69       594\n",
            "weighted avg       0.96      0.95      0.95       594\n",
            "\n",
            "[[ 10  12]\n",
            " [ 18 554]]\n",
            "0.37403400309119006\n"
          ],
          "name": "stdout"
        }
      ]
    },
    {
      "cell_type": "code",
      "metadata": {
        "colab": {
          "base_uri": "https://localhost:8080/",
          "height": 638
        },
        "id": "tYIhwYPPgSQO",
        "outputId": "50da1c2f-ea5b-402d-d74c-64be48a729c9"
      },
      "source": [
        "y_score6 = model6.predict_proba(X_test_tfidf)[:,1]\n",
        "    \n",
        "false_positive_rate6, true_positive_rate6, threshold1 = roc_curve(testy, y_score6)\n",
        "print('roc_auc_score for Bernouli NB after SMOTE: ', roc_auc_score(testy, y_score6))\n",
        "\n",
        "plt.subplots(1, figsize=(10,10))\n",
        "plt.title('Receiver Operating Characteristic -Bernouli NB after SMOTE: ')\n",
        "plt.plot(false_positive_rate6, true_positive_rate6)\n",
        "plt.plot([0, 1], ls=\"--\")\n",
        "plt.plot([0, 0], [1, 0] , c=\".7\"), plt.plot([1, 1] , c=\".7\")\n",
        "plt.ylabel('True Positive Rate')\n",
        "plt.xlabel('False Positive Rate')\n",
        "plt.show()"
      ],
      "execution_count": 120,
      "outputs": [
        {
          "output_type": "stream",
          "text": [
            "roc_auc_score for Bernouli NB after SMOTE:  0.8414256198347106\n"
          ],
          "name": "stdout"
        },
        {
          "output_type": "display_data",
          "data": {
            "image/png": "[encoded data removed]",
            "text/plain": [
              "<Figure size 720x720 with 1 Axes>"
            ]
          },
          "metadata": {
            "tags": [],
            "needs_background": "light"
          }
        }
      ]
    },
    {
      "cell_type": "markdown",
      "metadata": {
        "id": "8TxJl8au2d6B"
      },
      "source": [
        "# SVM"
      ]
    },
    {
      "cell_type": "code",
      "metadata": {
        "colab": {
          "base_uri": "https://localhost:8080/"
        },
        "id": "jElwEJav2Wiy",
        "outputId": "adbb76aa-45fd-4567-ff43-c0f1ea047157"
      },
      "source": [
        "from sklearn.svm import LinearSVC,SVC\n",
        "from nltk.classify.scikitlearn import SklearnClassifier\n",
        "LinearSVC_classifier = SklearnClassifier(SVC(kernel='linear',probability=True))\n",
        "model7=LinearSVC()\n",
        "model7.fit(X_train_tfidf,trainy)"
      ],
      "execution_count": 130,
      "outputs": [
        {
          "output_type": "execute_result",
          "data": {
            "text/plain": [
              "LinearSVC(C=1.0, class_weight=None, dual=True, fit_intercept=True,\n",
              "          intercept_scaling=1, loss='squared_hinge', max_iter=1000,\n",
              "          multi_class='ovr', penalty='l2', random_state=None, tol=0.0001,\n",
              "          verbose=0)"
            ]
          },
          "metadata": {
            "tags": []
          },
          "execution_count": 130
        }
      ]
    },
    {
      "cell_type": "code",
      "metadata": {
        "id": "Q04SqPr_2qyD"
      },
      "source": [
        "y_pred7=model7.predict(X_test_tfidf)"
      ],
      "execution_count": 131,
      "outputs": []
    },
    {
      "cell_type": "code",
      "metadata": {
        "colab": {
          "base_uri": "https://localhost:8080/"
        },
        "id": "cbeCUvpd2tVm",
        "outputId": "a425254f-f89c-434c-e225-aae8501ffcd1"
      },
      "source": [
        "print(accuracy_score(testy,y_pred7))\n",
        "print(classification_report(testy,y_pred7))\n",
        "print(confusion_matrix(testy,y_pred7))\n",
        "print(cohen_kappa_score(testy,y_pred7))"
      ],
      "execution_count": 132,
      "outputs": [
        {
          "output_type": "stream",
          "text": [
            "0.9696969696969697\n",
            "              precision    recall  f1-score   support\n",
            "\n",
            "           0       0.67      0.36      0.47        22\n",
            "           1       0.98      0.99      0.98       572\n",
            "\n",
            "    accuracy                           0.97       594\n",
            "   macro avg       0.82      0.68      0.73       594\n",
            "weighted avg       0.96      0.97      0.97       594\n",
            "\n",
            "[[  8  14]\n",
            " [  4 568]]\n",
            "0.4563758389261745\n"
          ],
          "name": "stdout"
        }
      ]
    },
    {
      "cell_type": "markdown",
      "metadata": {
        "id": "pYSRaNdZ3LbT"
      },
      "source": [
        "# SVM after SMOTE"
      ]
    },
    {
      "cell_type": "code",
      "metadata": {
        "colab": {
          "base_uri": "https://localhost:8080/"
        },
        "id": "-BKtyVjF2w7t",
        "outputId": "f4c05dd9-1ab4-4b57-9794-2cb3d892475c"
      },
      "source": [
        "model8=LinearSVC()\n",
        "model8.fit(X_train_res,y_train_res)"
      ],
      "execution_count": 135,
      "outputs": [
        {
          "output_type": "execute_result",
          "data": {
            "text/plain": [
              "LinearSVC(C=1.0, class_weight=None, dual=True, fit_intercept=True,\n",
              "          intercept_scaling=1, loss='squared_hinge', max_iter=1000,\n",
              "          multi_class='ovr', penalty='l2', random_state=None, tol=0.0001,\n",
              "          verbose=0)"
            ]
          },
          "metadata": {
            "tags": []
          },
          "execution_count": 135
        }
      ]
    },
    {
      "cell_type": "code",
      "metadata": {
        "id": "_X1UpBeN3T_T"
      },
      "source": [
        "y_pred8=model8.predict(X_test_tfidf)"
      ],
      "execution_count": 136,
      "outputs": []
    },
    {
      "cell_type": "code",
      "metadata": {
        "colab": {
          "base_uri": "https://localhost:8080/"
        },
        "id": "3Vt0xgsz3Wuj",
        "outputId": "af82ebf8-e3d7-4f9b-dfb5-b815fc42a051"
      },
      "source": [
        "print(accuracy_score(testy,y_pred8))\n",
        "print(classification_report(testy,y_pred8))\n",
        "print(confusion_matrix(testy,y_pred8))\n",
        "print(cohen_kappa_score(testy,y_pred8))"
      ],
      "execution_count": 137,
      "outputs": [
        {
          "output_type": "stream",
          "text": [
            "0.8838383838383839\n",
            "              precision    recall  f1-score   support\n",
            "\n",
            "           0       0.18      0.59      0.27        22\n",
            "           1       0.98      0.90      0.94       572\n",
            "\n",
            "    accuracy                           0.88       594\n",
            "   macro avg       0.58      0.74      0.61       594\n",
            "weighted avg       0.95      0.88      0.91       594\n",
            "\n",
            "[[ 13   9]\n",
            " [ 60 512]]\n",
            "0.22984704423315405\n"
          ],
          "name": "stdout"
        }
      ]
    },
    {
      "cell_type": "markdown",
      "metadata": {
        "id": "9ZL_X1eg3q1b"
      },
      "source": [
        "# Decision Tree"
      ]
    },
    {
      "cell_type": "code",
      "metadata": {
        "colab": {
          "base_uri": "https://localhost:8080/"
        },
        "id": "hmUTX45I3cIi",
        "outputId": "2e98f3b0-a979-4aee-ccf0-0ac2a7712337"
      },
      "source": [
        "from sklearn.tree import DecisionTreeClassifier\n",
        "model9=DecisionTreeClassifier(criterion='entropy')\n",
        "model9.fit(X_train_tfidf,trainy)"
      ],
      "execution_count": 138,
      "outputs": [
        {
          "output_type": "execute_result",
          "data": {
            "text/plain": [
              "DecisionTreeClassifier(ccp_alpha=0.0, class_weight=None, criterion='entropy',\n",
              "                       max_depth=None, max_features=None, max_leaf_nodes=None,\n",
              "                       min_impurity_decrease=0.0, min_impurity_split=None,\n",
              "                       min_samples_leaf=1, min_samples_split=2,\n",
              "                       min_weight_fraction_leaf=0.0, presort='deprecated',\n",
              "                       random_state=None, splitter='best')"
            ]
          },
          "metadata": {
            "tags": []
          },
          "execution_count": 138
        }
      ]
    },
    {
      "cell_type": "code",
      "metadata": {
        "id": "7yavgg-Z3iIr"
      },
      "source": [
        "y_pred9=model9.predict(X_test_tfidf)"
      ],
      "execution_count": 139,
      "outputs": []
    },
    {
      "cell_type": "code",
      "metadata": {
        "colab": {
          "base_uri": "https://localhost:8080/"
        },
        "id": "00B2h5Wt3lhC",
        "outputId": "3f803705-29d7-4f85-c982-e856c64bedcf"
      },
      "source": [
        "print(accuracy_score(testy,y_pred9))\n",
        "print(classification_report(testy,y_pred9))\n",
        "print(confusion_matrix(testy,y_pred9))\n",
        "print(cohen_kappa_score(testy,y_pred9))"
      ],
      "execution_count": 140,
      "outputs": [
        {
          "output_type": "stream",
          "text": [
            "0.9595959595959596\n",
            "              precision    recall  f1-score   support\n",
            "\n",
            "           0       0.44      0.36      0.40        22\n",
            "           1       0.98      0.98      0.98       572\n",
            "\n",
            "    accuracy                           0.96       594\n",
            "   macro avg       0.71      0.67      0.69       594\n",
            "weighted avg       0.96      0.96      0.96       594\n",
            "\n",
            "[[  8  14]\n",
            " [ 10 562]]\n",
            "0.3793103448275862\n"
          ],
          "name": "stdout"
        }
      ]
    },
    {
      "cell_type": "code",
      "metadata": {
        "colab": {
          "base_uri": "https://localhost:8080/",
          "height": 638
        },
        "id": "3J5F-76Mi_Uc",
        "outputId": "c70257b0-64e6-4719-fc80-0a5a6a61b09f"
      },
      "source": [
        "y_score9 = model9.predict_proba(X_test_tfidf)[:,1]\n",
        "    \n",
        "false_positive_rate9, true_positive_rate9, threshold1 = roc_curve(testy, y_score9)\n",
        "print('roc_auc_score for Decision Tree: ', roc_auc_score(testy, y_score9))\n",
        "\n",
        "plt.subplots(1, figsize=(10,10))\n",
        "plt.title('Receiver Operating Characteristic -Decision Trre: ')\n",
        "plt.plot(false_positive_rate9, true_positive_rate9)\n",
        "plt.plot([0, 1], ls=\"--\")\n",
        "plt.plot([0, 0], [1, 0] , c=\".7\"), plt.plot([1, 1] , c=\".7\")\n",
        "plt.ylabel('True Positive Rate')\n",
        "plt.xlabel('False Positive Rate')\n",
        "plt.show()"
      ],
      "execution_count": 141,
      "outputs": [
        {
          "output_type": "stream",
          "text": [
            "roc_auc_score for Decision Tree:  0.7196837253655436\n"
          ],
          "name": "stdout"
        },
        {
          "output_type": "display_data",
          "data": {
            "image/png": "[encoded data removed]",
            "text/plain": [
              "<Figure size 720x720 with 1 Axes>"
            ]
          },
          "metadata": {
            "tags": [],
            "needs_background": "light"
          }
        }
      ]
    },
    {
      "cell_type": "markdown",
      "metadata": {
        "id": "sQd5ylnH3yRg"
      },
      "source": [
        "# Decision Tree after SMOTE"
      ]
    },
    {
      "cell_type": "code",
      "metadata": {
        "colab": {
          "base_uri": "https://localhost:8080/"
        },
        "id": "glSXZxBB33E-",
        "outputId": "32953fdd-83bb-4a14-cabb-1f9d923b79fd"
      },
      "source": [
        "model10=DecisionTreeClassifier(criterion='entropy')\n",
        "model10.fit(X_train_res,y_train_res)"
      ],
      "execution_count": 142,
      "outputs": [
        {
          "output_type": "execute_result",
          "data": {
            "text/plain": [
              "DecisionTreeClassifier(ccp_alpha=0.0, class_weight=None, criterion='entropy',\n",
              "                       max_depth=None, max_features=None, max_leaf_nodes=None,\n",
              "                       min_impurity_decrease=0.0, min_impurity_split=None,\n",
              "                       min_samples_leaf=1, min_samples_split=2,\n",
              "                       min_weight_fraction_leaf=0.0, presort='deprecated',\n",
              "                       random_state=None, splitter='best')"
            ]
          },
          "metadata": {
            "tags": []
          },
          "execution_count": 142
        }
      ]
    },
    {
      "cell_type": "code",
      "metadata": {
        "id": "RQWsC9Ds36ez"
      },
      "source": [
        "y_pred10=model10.predict(X_test_tfidf)"
      ],
      "execution_count": 143,
      "outputs": []
    },
    {
      "cell_type": "code",
      "metadata": {
        "colab": {
          "base_uri": "https://localhost:8080/"
        },
        "id": "zs9dFWj439z7",
        "outputId": "79279fac-413a-4ffc-a6dc-96a6d910f9bf"
      },
      "source": [
        "print(accuracy_score(testy,y_pred10))\n",
        "print(classification_report(testy,y_pred10))\n",
        "print(confusion_matrix(testy,y_pred10))\n",
        "print(cohen_kappa_score(testy,y_pred10))"
      ],
      "execution_count": 145,
      "outputs": [
        {
          "output_type": "stream",
          "text": [
            "0.8855218855218855\n",
            "              precision    recall  f1-score   support\n",
            "\n",
            "           0       0.17      0.55      0.26        22\n",
            "           1       0.98      0.90      0.94       572\n",
            "\n",
            "    accuracy                           0.89       594\n",
            "   macro avg       0.58      0.72      0.60       594\n",
            "weighted avg       0.95      0.89      0.91       594\n",
            "\n",
            "[[ 12  10]\n",
            " [ 58 514]]\n",
            "0.2167235494880546\n"
          ],
          "name": "stdout"
        }
      ]
    },
    {
      "cell_type": "code",
      "metadata": {
        "colab": {
          "base_uri": "https://localhost:8080/",
          "height": 638
        },
        "id": "mzW3w4cTjaFu",
        "outputId": "7575a669-9a73-4f15-8f6c-a0881a4212d1"
      },
      "source": [
        "y_score10 = model10.predict_proba(X_test_tfidf)[:,1]\n",
        "    \n",
        "false_positive_rate10, true_positive_rate10, threshold1 = roc_curve(testy, y_score10)\n",
        "print('roc_auc_score for Decision Tree: ', roc_auc_score(testy, y_score10))\n",
        "\n",
        "plt.subplots(1, figsize=(10,10))\n",
        "plt.title('Receiver Operating Characteristic -Decision Trre: ')\n",
        "plt.plot(false_positive_rate10, true_positive_rate10)\n",
        "plt.plot([0, 1], ls=\"--\")\n",
        "plt.plot([0, 0], [1, 0] , c=\".7\"), plt.plot([1, 1] , c=\".7\")\n",
        "plt.ylabel('True Positive Rate')\n",
        "plt.xlabel('False Positive Rate')\n",
        "plt.show()"
      ],
      "execution_count": 146,
      "outputs": [
        {
          "output_type": "stream",
          "text": [
            "roc_auc_score for Decision Tree:  0.7295772409408773\n"
          ],
          "name": "stdout"
        },
        {
          "output_type": "display_data",
          "data": {
            "image/png": "[encoded data removed]",
            "text/plain": [
              "<Figure size 720x720 with 1 Axes>"
            ]
          },
          "metadata": {
            "tags": [],
            "needs_background": "light"
          }
        }
      ]
    },
    {
      "cell_type": "markdown",
      "metadata": {
        "id": "XBNOVdDY4EZu"
      },
      "source": [
        "# Neural Networks"
      ]
    },
    {
      "cell_type": "code",
      "metadata": {
        "colab": {
          "base_uri": "https://localhost:8080/"
        },
        "id": "zUAqJuLd4RcM",
        "outputId": "33710aaa-57d2-4c14-84c4-a6a42624ffd6"
      },
      "source": [
        "! pip install scikit-neuralnetwork "
      ],
      "execution_count": 147,
      "outputs": [
        {
          "output_type": "stream",
          "text": [
            "Collecting scikit-neuralnetwork\n",
            "  Downloading scikit-neuralnetwork-0.7.tar.gz (33 kB)\n",
            "Requirement already satisfied: scikit-learn>=0.17 in /usr/local/lib/python3.7/dist-packages (from scikit-neuralnetwork) (0.22.2.post1)\n",
            "Collecting Theano>=0.8\n",
            "  Downloading Theano-1.0.5.tar.gz (2.8 MB)\n",
            "\u001b[K     |████████████████████████████████| 2.8 MB 5.6 MB/s \n",
            "\u001b[?25hCollecting Lasagne>=0.1\n",
            "  Downloading Lasagne-0.1.tar.gz (125 kB)\n",
            "\u001b[K     |████████████████████████████████| 125 kB 57.3 MB/s \n",
            "\u001b[?25hRequirement already satisfied: numpy in /usr/local/lib/python3.7/dist-packages (from Lasagne>=0.1->scikit-neuralnetwork) (1.19.5)\n",
            "Requirement already satisfied: joblib>=0.11 in /usr/local/lib/python3.7/dist-packages (from scikit-learn>=0.17->scikit-neuralnetwork) (1.0.1)\n",
            "Requirement already satisfied: scipy>=0.17.0 in /usr/local/lib/python3.7/dist-packages (from scikit-learn>=0.17->scikit-neuralnetwork) (1.4.1)\n",
            "Requirement already satisfied: six>=1.9.0 in /usr/local/lib/python3.7/dist-packages (from Theano>=0.8->scikit-neuralnetwork) (1.15.0)\n",
            "Building wheels for collected packages: scikit-neuralnetwork, Lasagne, Theano\n",
            "  Building wheel for scikit-neuralnetwork (setup.py) ... \u001b[?25l\u001b[?25hdone\n",
            "  Created wheel for scikit-neuralnetwork: filename=scikit_neuralnetwork-0.7-py3-none-any.whl size=41697 sha256=6c486e31358b70b3ec4642803b0187edbb1c2f0a26b27a51d1138f2e186f2fb1\n",
            "  Stored in directory: /root/.cache/pip/wheels/7d/42/93/b99bd6392fb56ec7831a695cb7a23dd9c73382b258614b62ed\n",
            "  Building wheel for Lasagne (setup.py) ... \u001b[?25l\u001b[?25hdone\n",
            "  Created wheel for Lasagne: filename=Lasagne-0.1-py3-none-any.whl size=79285 sha256=d03b1139e3cbce76d8d60dcc1617ed347e7dd6e26ff3c6cf7b787527d170bab4\n",
            "  Stored in directory: /root/.cache/pip/wheels/a3/72/b6/89bbeb6140ee3756fa2bdd2fb03003dd60d289851314b35fd7\n",
            "  Building wheel for Theano (setup.py) ... \u001b[?25l\u001b[?25hdone\n",
            "  Created wheel for Theano: filename=Theano-1.0.5-py3-none-any.whl size=2668111 sha256=57d815f21aa28c90a5c672109ebe7f72e99893e91b2474891a7f44a411409a4d\n",
            "  Stored in directory: /root/.cache/pip/wheels/26/68/6f/745330367ce7822fe0cd863712858151f5723a0a5e322cc144\n",
            "Successfully built scikit-neuralnetwork Lasagne Theano\n",
            "Installing collected packages: Theano, Lasagne, scikit-neuralnetwork\n",
            "Successfully installed Lasagne-0.1 Theano-1.0.5 scikit-neuralnetwork-0.7\n"
          ],
          "name": "stdout"
        }
      ]
    },
    {
      "cell_type": "code",
      "metadata": {
        "id": "l7QoglmU4Aqc"
      },
      "source": [
        "from sklearn.neural_network import MLPClassifier"
      ],
      "execution_count": 148,
      "outputs": []
    },
    {
      "cell_type": "code",
      "metadata": {
        "colab": {
          "base_uri": "https://localhost:8080/"
        },
        "id": "5O4cYN0Y4Ilj",
        "outputId": "807ae704-e523-42d5-b588-386472903f25"
      },
      "source": [
        "model11=MLPClassifier(hidden_layer_sizes=(5,5))\n",
        "model11.fit(X_train_tfidf,trainy)"
      ],
      "execution_count": 149,
      "outputs": [
        {
          "output_type": "execute_result",
          "data": {
            "text/plain": [
              "MLPClassifier(activation='relu', alpha=0.0001, batch_size='auto', beta_1=0.9,\n",
              "              beta_2=0.999, early_stopping=False, epsilon=1e-08,\n",
              "              hidden_layer_sizes=(5, 5), learning_rate='constant',\n",
              "              learning_rate_init=0.001, max_fun=15000, max_iter=200,\n",
              "              momentum=0.9, n_iter_no_change=10, nesterovs_momentum=True,\n",
              "              power_t=0.5, random_state=None, shuffle=True, solver='adam',\n",
              "              tol=0.0001, validation_fraction=0.1, verbose=False,\n",
              "              warm_start=False)"
            ]
          },
          "metadata": {
            "tags": []
          },
          "execution_count": 149
        }
      ]
    },
    {
      "cell_type": "code",
      "metadata": {
        "id": "TC9FziDq4ZWz"
      },
      "source": [
        "y_pred11=model11.predict(X_test_tfidf)"
      ],
      "execution_count": 150,
      "outputs": []
    },
    {
      "cell_type": "code",
      "metadata": {
        "colab": {
          "base_uri": "https://localhost:8080/"
        },
        "id": "EHad4Moi4b6r",
        "outputId": "f60cbef8-2da6-4f76-c1c0-e3c654f3363c"
      },
      "source": [
        "print(accuracy_score(testy,y_pred11))\n",
        "print(classification_report(testy,y_pred11))\n",
        "print(confusion_matrix(testy,y_pred11))\n",
        "print(cohen_kappa_score(testy,y_pred11))"
      ],
      "execution_count": 151,
      "outputs": [
        {
          "output_type": "stream",
          "text": [
            "0.9562289562289562\n",
            "              precision    recall  f1-score   support\n",
            "\n",
            "           0       0.39      0.32      0.35        22\n",
            "           1       0.97      0.98      0.98       572\n",
            "\n",
            "    accuracy                           0.96       594\n",
            "   macro avg       0.68      0.65      0.66       594\n",
            "weighted avg       0.95      0.96      0.95       594\n",
            "\n",
            "[[  7  15]\n",
            " [ 11 561]]\n",
            "0.3275862068965517\n"
          ],
          "name": "stdout"
        }
      ]
    },
    {
      "cell_type": "code",
      "metadata": {
        "colab": {
          "base_uri": "https://localhost:8080/",
          "height": 638
        },
        "id": "MJc7a1Tsj1pu",
        "outputId": "34b79835-fc83-4d92-ea8f-1af904e2788b"
      },
      "source": [
        "y_score11 = model11.predict_proba(X_test_tfidf)[:,1]\n",
        "    \n",
        "false_positive_rate11, true_positive_rate11, threshold1 = roc_curve(testy, y_score11)\n",
        "print('roc_auc_score for Neural network: ', roc_auc_score(testy, y_score11))\n",
        "\n",
        "plt.subplots(1, figsize=(10,10))\n",
        "plt.title('Receiver Operating Characteristic -Neural network: ')\n",
        "plt.plot(false_positive_rate11, true_positive_rate11)\n",
        "plt.plot([0, 1], ls=\"--\")\n",
        "plt.plot([0, 0], [1, 0] , c=\".7\"), plt.plot([1, 1] , c=\".7\")\n",
        "plt.ylabel('True Positive Rate')\n",
        "plt.xlabel('False Positive Rate')\n",
        "plt.show()"
      ],
      "execution_count": 167,
      "outputs": [
        {
          "output_type": "stream",
          "text": [
            "roc_auc_score for Neural network:  0.8773839796567069\n"
          ],
          "name": "stdout"
        },
        {
          "output_type": "display_data",
          "data": {
            "image/png": "[encoded data removed]",
            "text/plain": [
              "<Figure size 720x720 with 1 Axes>"
            ]
          },
          "metadata": {
            "tags": [],
            "needs_background": "light"
          }
        }
      ]
    },
    {
      "cell_type": "markdown",
      "metadata": {
        "id": "E_-07oCL4jvA"
      },
      "source": [
        "# Neural Network after SMOTE"
      ]
    },
    {
      "cell_type": "code",
      "metadata": {
        "colab": {
          "base_uri": "https://localhost:8080/"
        },
        "id": "0pqr4jKF4o59",
        "outputId": "a2c03563-6f7d-48ed-ce00-7db73ecaafb8"
      },
      "source": [
        "model12=MLPClassifier(hidden_layer_sizes=(5,5))\n",
        "model12.fit(X_train_res,y_train_res)"
      ],
      "execution_count": 153,
      "outputs": [
        {
          "output_type": "execute_result",
          "data": {
            "text/plain": [
              "MLPClassifier(activation='relu', alpha=0.0001, batch_size='auto', beta_1=0.9,\n",
              "              beta_2=0.999, early_stopping=False, epsilon=1e-08,\n",
              "              hidden_layer_sizes=(5, 5), learning_rate='constant',\n",
              "              learning_rate_init=0.001, max_fun=15000, max_iter=200,\n",
              "              momentum=0.9, n_iter_no_change=10, nesterovs_momentum=True,\n",
              "              power_t=0.5, random_state=None, shuffle=True, solver='adam',\n",
              "              tol=0.0001, validation_fraction=0.1, verbose=False,\n",
              "              warm_start=False)"
            ]
          },
          "metadata": {
            "tags": []
          },
          "execution_count": 153
        }
      ]
    },
    {
      "cell_type": "code",
      "metadata": {
        "id": "jD_ox0J24t2f"
      },
      "source": [
        "y_pred12=model12.predict(X_test_tfidf)\n"
      ],
      "execution_count": 154,
      "outputs": []
    },
    {
      "cell_type": "code",
      "metadata": {
        "colab": {
          "base_uri": "https://localhost:8080/"
        },
        "id": "QvSFfRPO4ytD",
        "outputId": "340d418f-3e7a-41cf-82a0-a8defb900e72"
      },
      "source": [
        "print(accuracy_score(testy,y_pred12))\n",
        "print(classification_report(testy,y_pred12))\n",
        "print(confusion_matrix(testy,y_pred12))\n",
        "print(cohen_kappa_score(testy,y_pred12))"
      ],
      "execution_count": 155,
      "outputs": [
        {
          "output_type": "stream",
          "text": [
            "0.877104377104377\n",
            "              precision    recall  f1-score   support\n",
            "\n",
            "           0       0.18      0.64      0.28        22\n",
            "           1       0.98      0.89      0.93       572\n",
            "\n",
            "    accuracy                           0.88       594\n",
            "   macro avg       0.58      0.76      0.61       594\n",
            "weighted avg       0.95      0.88      0.91       594\n",
            "\n",
            "[[ 14   8]\n",
            " [ 65 507]]\n",
            "0.2327753989879331\n"
          ],
          "name": "stdout"
        }
      ]
    },
    {
      "cell_type": "code",
      "metadata": {
        "colab": {
          "base_uri": "https://localhost:8080/",
          "height": 638
        },
        "id": "uXFYvxRikUpE",
        "outputId": "b12fa1b6-a9d8-4d33-8ccf-c08459abafe1"
      },
      "source": [
        "y_score12 = model12.predict_proba(X_test_tfidf)[:,1]\n",
        "    \n",
        "false_positive_rate12, true_positive_rate12, threshold1 = roc_curve(testy, y_score12)\n",
        "print('roc_auc_score for Neural network afer SMOTE: ', roc_auc_score(testy, y_score12))\n",
        "\n",
        "plt.subplots(1, figsize=(10,10))\n",
        "plt.title('Receiver Operating Characteristic -Neural network after SMOTE: ')\n",
        "plt.plot(false_positive_rate12, true_positive_rate12)\n",
        "plt.plot([0, 1], ls=\"--\")\n",
        "plt.plot([0, 0], [1, 0] , c=\".7\"), plt.plot([1, 1] , c=\".7\")\n",
        "plt.ylabel('True Positive Rate')\n",
        "plt.xlabel('False Positive Rate')\n",
        "plt.show()"
      ],
      "execution_count": 156,
      "outputs": [
        {
          "output_type": "stream",
          "text": [
            "roc_auc_score for Neural network afer SMOTE:  0.8863636363636365\n"
          ],
          "name": "stdout"
        },
        {
          "output_type": "display_data",
          "data": {
            "image/png": "[encoded data removed]",
            "text/plain": [
              "<Figure size 720x720 with 1 Axes>"
            ]
          },
          "metadata": {
            "tags": [],
            "needs_background": "light"
          }
        }
      ]
    },
    {
      "cell_type": "code",
      "metadata": {
        "colab": {
          "base_uri": "https://localhost:8080/"
        },
        "id": "He7c-okrlKO5",
        "outputId": "5401ea4d-f12b-46df-eb37-4293923eddfa"
      },
      "source": [
        "! pip install funcsigs\n",
        "!pip freeze | grep recmetrics"
      ],
      "execution_count": 165,
      "outputs": [
        {
          "output_type": "stream",
          "text": [
            "Requirement already satisfied: funcsigs in /usr/local/lib/python3.7/dist-packages (1.0.2)\n"
          ],
          "name": "stdout"
        }
      ]
    }
  ]
}