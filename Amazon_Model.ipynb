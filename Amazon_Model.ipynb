{
  "nbformat": 4,
  "nbformat_minor": 0,
  "metadata": {
    "colab": {
      "name": "Amazon_Model.ipynb",
      "provenance": [],
      "collapsed_sections": [],
      "authorship_tag": "ABX9TyOA+GwzT8PMD3xHwPE39tOg",
      "include_colab_link": true
    },
    "kernelspec": {
      "name": "python3",
      "display_name": "Python 3"
    },
    "language_info": {
      "name": "python"
    }
  },
  "cells": [
    {
      "cell_type": "markdown",
      "metadata": {
        "id": "view-in-github",
        "colab_type": "text"
      },
      "source": [
        "<a href=\"https://colab.research.google.com/github/seelamsettisahithi/amazon-product-reviews-sentiment-analysis/blob/main/Amazon_Model.ipynb\" target=\"_parent\"><img src=\"https://colab.research.google.com/assets/colab-badge.svg\" alt=\"Open In Colab\"/></a>"
      ]
    },
    {
      "cell_type": "markdown",
      "metadata": {
        "id": "JLoqbSM4cHtJ"
      },
      "source": [
        "# Import Libraries"
      ]
    },
    {
      "cell_type": "code",
      "metadata": {
        "id": "2l9gVDuBa5wY"
      },
      "source": [
        "import pandas as pd\n",
        "import glob\n",
        "from vaderSentiment.vaderSentiment import SentimentIntensityAnalyzer\n",
        "from wordcloud import WordCloud\n",
        "from nltk.corpus import stopwords\n",
        "from nltk.tokenize import sent_tokenize, word_tokenize\n",
        "from textblob import TextBlob\n",
        "from textblob.sentiments import NaiveBayesAnalyzer\n",
        "import string\n",
        "import matplotlib.pyplot as plt\n",
        "import matplotlib as mpl\n",
        "import nltk.classify.util\n",
        "from sklearn.model_selection import train_test_split\n",
        "from sklearn.metrics import confusion_matrix\n",
        "from sklearn import metrics\n",
        "from sklearn.metrics import roc_curve, auc\n",
        "from nltk.classify import NaiveBayesClassifier\n",
        "import numpy as np\n",
        "import re\n",
        "import string\n",
        "import nltk\n",
        "%matplotlib inline\n",
        "import warnings\n",
        "warnings.filterwarnings('ignore')\n",
        "from sklearn.metrics import cohen_kappa_score\n"
      ],
      "execution_count": 2,
      "outputs": []
    },
    {
      "cell_type": "code",
      "metadata": {
        "colab": {
          "base_uri": "https://localhost:8080/"
        },
        "id": "1m4hcLNocuOe",
        "outputId": "ad91c68e-8d41-4a6d-dd70-c6ad4d69923e"
      },
      "source": [
        "! pip install vaderSentiment"
      ],
      "execution_count": 1,
      "outputs": [
        {
          "output_type": "stream",
          "text": [
            "Collecting vaderSentiment\n",
            "\u001b[?25l  Downloading https://files.pythonhosted.org/packages/76/fc/310e16254683c1ed35eeb97386986d6c00bc29df17ce280aed64d55537e9/vaderSentiment-3.3.2-py2.py3-none-any.whl (125kB)\n",
            "\r\u001b[K     |██▋                             | 10kB 17.4MB/s eta 0:00:01\r\u001b[K     |█████▏                          | 20kB 24.7MB/s eta 0:00:01\r\u001b[K     |███████▉                        | 30kB 29.1MB/s eta 0:00:01\r\u001b[K     |██████████▍                     | 40kB 18.4MB/s eta 0:00:01\r\u001b[K     |█████████████                   | 51kB 14.4MB/s eta 0:00:01\r\u001b[K     |███████████████▋                | 61kB 10.9MB/s eta 0:00:01\r\u001b[K     |██████████████████▏             | 71kB 12.0MB/s eta 0:00:01\r\u001b[K     |████████████████████▉           | 81kB 12.0MB/s eta 0:00:01\r\u001b[K     |███████████████████████▍        | 92kB 11.6MB/s eta 0:00:01\r\u001b[K     |██████████████████████████      | 102kB 12.4MB/s eta 0:00:01\r\u001b[K     |████████████████████████████▋   | 112kB 12.4MB/s eta 0:00:01\r\u001b[K     |███████████████████████████████▏| 122kB 12.4MB/s eta 0:00:01\r\u001b[K     |████████████████████████████████| 133kB 12.4MB/s \n",
            "\u001b[?25hRequirement already satisfied: requests in /usr/local/lib/python3.7/dist-packages (from vaderSentiment) (2.23.0)\n",
            "Requirement already satisfied: certifi>=2017.4.17 in /usr/local/lib/python3.7/dist-packages (from requests->vaderSentiment) (2021.5.30)\n",
            "Requirement already satisfied: chardet<4,>=3.0.2 in /usr/local/lib/python3.7/dist-packages (from requests->vaderSentiment) (3.0.4)\n",
            "Requirement already satisfied: urllib3!=1.25.0,!=1.25.1,<1.26,>=1.21.1 in /usr/local/lib/python3.7/dist-packages (from requests->vaderSentiment) (1.24.3)\n",
            "Requirement already satisfied: idna<3,>=2.5 in /usr/local/lib/python3.7/dist-packages (from requests->vaderSentiment) (2.10)\n",
            "Installing collected packages: vaderSentiment\n",
            "Successfully installed vaderSentiment-3.3.2\n"
          ],
          "name": "stdout"
        }
      ]
    },
    {
      "cell_type": "code",
      "metadata": {
        "colab": {
          "resources": {
            "http://localhost:8080/nbextensions/google.colab/files.js": {
              "data": "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",
              "ok": true,
              "headers": [
                [
                  "content-type",
                  "application/javascript"
                ]
              ],
              "status": 200,
              "status_text": ""
            }
          },
          "base_uri": "https://localhost:8080/",
          "height": 72
        },
        "id": "hfhZ30SmcNjv",
        "outputId": "d437038c-c821-4ab1-91ca-ee2262a03da6"
      },
      "source": [
        "from google.colab import files\n",
        "uploaded = files.upload()"
      ],
      "execution_count": 3,
      "outputs": [
        {
          "output_type": "display_data",
          "data": {
            "text/html": [
              "\n",
              "     <input type=\"file\" id=\"files-f3fc3327-c38d-40d0-abd5-6c0f71671492\" name=\"files[]\" multiple disabled\n",
              "        style=\"border:none\" />\n",
              "     <output id=\"result-f3fc3327-c38d-40d0-abd5-6c0f71671492\">\n",
              "      Upload widget is only available when the cell has been executed in the\n",
              "      current browser session. Please rerun this cell to enable.\n",
              "      </output>\n",
              "      <script src=\"/nbextensions/google.colab/files.js\"></script> "
            ],
            "text/plain": [
              "<IPython.core.display.HTML object>"
            ]
          },
          "metadata": {
            "tags": []
          }
        },
        {
          "output_type": "stream",
          "text": [
            "Saving camera_EDA.csv to camera_EDA.csv\n"
          ],
          "name": "stdout"
        }
      ]
    },
    {
      "cell_type": "code",
      "metadata": {
        "id": "Qs-ByU5jce6X"
      },
      "source": [
        "import io\n",
        "import pandas as pd\n",
        "df = pd.read_csv(io.BytesIO(uploaded['camera_EDA.csv']))"
      ],
      "execution_count": 4,
      "outputs": []
    },
    {
      "cell_type": "code",
      "metadata": {
        "colab": {
          "base_uri": "https://localhost:8080/",
          "height": 204
        },
        "id": "HC3vRQAQc4d9",
        "outputId": "4ce7d266-b2ac-4ef8-ed61-173c0c0b1b63"
      },
      "source": [
        "df.head()"
      ],
      "execution_count": 5,
      "outputs": [
        {
          "output_type": "execute_result",
          "data": {
            "text/html": [
              "<div>\n",
              "<style scoped>\n",
              "    .dataframe tbody tr th:only-of-type {\n",
              "        vertical-align: middle;\n",
              "    }\n",
              "\n",
              "    .dataframe tbody tr th {\n",
              "        vertical-align: top;\n",
              "    }\n",
              "\n",
              "    .dataframe thead th {\n",
              "        text-align: right;\n",
              "    }\n",
              "</style>\n",
              "<table border=\"1\" class=\"dataframe\">\n",
              "  <thead>\n",
              "    <tr style=\"text-align: right;\">\n",
              "      <th></th>\n",
              "      <th>Unnamed: 0</th>\n",
              "      <th>reviews</th>\n",
              "      <th>ratings</th>\n",
              "    </tr>\n",
              "  </thead>\n",
              "  <tbody>\n",
              "    <tr>\n",
              "      <th>0</th>\n",
              "      <td>0</td>\n",
              "      <td>ok dslr giant canon launched entry level dslr ...</td>\n",
              "      <td>2.0</td>\n",
              "    </tr>\n",
              "    <tr>\n",
              "      <th>1</th>\n",
              "      <td>1</td>\n",
              "      <td>good camera beginner</td>\n",
              "      <td>5.0</td>\n",
              "    </tr>\n",
              "    <tr>\n",
              "      <th>2</th>\n",
              "      <td>2</td>\n",
              "      <td>great camera perfect product young budding pho...</td>\n",
              "      <td>5.0</td>\n",
              "    </tr>\n",
              "    <tr>\n",
              "      <th>3</th>\n",
              "      <td>3</td>\n",
              "      <td>really impressed amazon surprise delivering wi...</td>\n",
              "      <td>5.0</td>\n",
              "    </tr>\n",
              "    <tr>\n",
              "      <th>4</th>\n",
              "      <td>4</td>\n",
              "      <td>buy product canon local service center help ev...</td>\n",
              "      <td>1.0</td>\n",
              "    </tr>\n",
              "  </tbody>\n",
              "</table>\n",
              "</div>"
            ],
            "text/plain": [
              "   Unnamed: 0                                            reviews  ratings\n",
              "0           0  ok dslr giant canon launched entry level dslr ...      2.0\n",
              "1           1                               good camera beginner      5.0\n",
              "2           2  great camera perfect product young budding pho...      5.0\n",
              "3           3  really impressed amazon surprise delivering wi...      5.0\n",
              "4           4  buy product canon local service center help ev...      1.0"
            ]
          },
          "metadata": {
            "tags": []
          },
          "execution_count": 5
        }
      ]
    },
    {
      "cell_type": "code",
      "metadata": {
        "id": "8fFXNIdzc--F"
      },
      "source": [
        "def NaiveBaiyes_Sentimental(sentence):\n",
        "    blob = TextBlob(sentence, analyzer=NaiveBayesAnalyzer())\n",
        "    NaiveBayes_SentimentScore=blob.sentiment.classification\n",
        "    return NaiveBayes_SentimentScore"
      ],
      "execution_count": 6,
      "outputs": []
    },
    {
      "cell_type": "code",
      "metadata": {
        "colab": {
          "base_uri": "https://localhost:8080/"
        },
        "id": "1pc_Dz6QdFDf",
        "outputId": "75f60b8e-ae59-4bfb-aed4-6a88d9e33d29"
      },
      "source": [
        "nltk.download('vader_lexicon')"
      ],
      "execution_count": 7,
      "outputs": [
        {
          "output_type": "stream",
          "text": [
            "[nltk_data] Downloading package vader_lexicon to /root/nltk_data...\n"
          ],
          "name": "stdout"
        },
        {
          "output_type": "execute_result",
          "data": {
            "text/plain": [
              "True"
            ]
          },
          "metadata": {
            "tags": []
          },
          "execution_count": 7
        }
      ]
    },
    {
      "cell_type": "code",
      "metadata": {
        "id": "LOUQBCuHdHB9"
      },
      "source": [
        "from nltk.sentiment.vader import SentimentIntensityAnalyzer\n",
        "\n",
        "sid = SentimentIntensityAnalyzer()"
      ],
      "execution_count": 8,
      "outputs": []
    },
    {
      "cell_type": "code",
      "metadata": {
        "colab": {
          "base_uri": "https://localhost:8080/"
        },
        "id": "vmejfpxqdKbM",
        "outputId": "55dadb43-ebf9-40c2-b5a5-f53d8ec8083f"
      },
      "source": [
        "a = 'This was a good movie.'\n",
        "sid.polarity_scores(a)"
      ],
      "execution_count": 9,
      "outputs": [
        {
          "output_type": "execute_result",
          "data": {
            "text/plain": [
              "{'compound': 0.4404, 'neg': 0.0, 'neu': 0.508, 'pos': 0.492}"
            ]
          },
          "metadata": {
            "tags": []
          },
          "execution_count": 9
        }
      ]
    },
    {
      "cell_type": "code",
      "metadata": {
        "id": "1CemoIvyxUwR"
      },
      "source": [
        "\n",
        "# removing NA values from data frame\n",
        "df.dropna(inplace=True)"
      ],
      "execution_count": 11,
      "outputs": []
    },
    {
      "cell_type": "code",
      "metadata": {
        "colab": {
          "base_uri": "https://localhost:8080/"
        },
        "id": "FgVv6T1Sxpaa",
        "outputId": "e5192a82-5894-4a75-c418-4a14581f65cd"
      },
      "source": [
        "\n",
        "sid.polarity_scores(df.iloc[0]['reviews'])"
      ],
      "execution_count": 13,
      "outputs": [
        {
          "output_type": "execute_result",
          "data": {
            "text/plain": [
              "{'compound': 0.8803, 'neg': 0.127, 'neu': 0.69, 'pos': 0.183}"
            ]
          },
          "metadata": {
            "tags": []
          },
          "execution_count": 13
        }
      ]
    },
    {
      "cell_type": "code",
      "metadata": {
        "id": "qa0t5wDsxtqm"
      },
      "source": [
        "\n",
        "df['scores'] = df['reviews'].apply(lambda reviews:sid.polarity_scores(reviews))"
      ],
      "execution_count": 14,
      "outputs": []
    },
    {
      "cell_type": "code",
      "metadata": {
        "colab": {
          "base_uri": "https://localhost:8080/",
          "height": 359
        },
        "id": "J4jhJQSWx0-5",
        "outputId": "4dbf0400-864a-4e50-8e2b-1c36503eb137"
      },
      "source": [
        "df.head(10)"
      ],
      "execution_count": 16,
      "outputs": [
        {
          "output_type": "execute_result",
          "data": {
            "text/html": [
              "<div>\n",
              "<style scoped>\n",
              "    .dataframe tbody tr th:only-of-type {\n",
              "        vertical-align: middle;\n",
              "    }\n",
              "\n",
              "    .dataframe tbody tr th {\n",
              "        vertical-align: top;\n",
              "    }\n",
              "\n",
              "    .dataframe thead th {\n",
              "        text-align: right;\n",
              "    }\n",
              "</style>\n",
              "<table border=\"1\" class=\"dataframe\">\n",
              "  <thead>\n",
              "    <tr style=\"text-align: right;\">\n",
              "      <th></th>\n",
              "      <th>Unnamed: 0</th>\n",
              "      <th>reviews</th>\n",
              "      <th>ratings</th>\n",
              "      <th>scores</th>\n",
              "    </tr>\n",
              "  </thead>\n",
              "  <tbody>\n",
              "    <tr>\n",
              "      <th>0</th>\n",
              "      <td>0</td>\n",
              "      <td>ok dslr giant canon launched entry level dslr ...</td>\n",
              "      <td>2.0</td>\n",
              "      <td>{'neg': 0.127, 'neu': 0.69, 'pos': 0.183, 'com...</td>\n",
              "    </tr>\n",
              "    <tr>\n",
              "      <th>1</th>\n",
              "      <td>1</td>\n",
              "      <td>good camera beginner</td>\n",
              "      <td>5.0</td>\n",
              "      <td>{'neg': 0.0, 'neu': 0.408, 'pos': 0.592, 'comp...</td>\n",
              "    </tr>\n",
              "    <tr>\n",
              "      <th>2</th>\n",
              "      <td>2</td>\n",
              "      <td>great camera perfect product young budding pho...</td>\n",
              "      <td>5.0</td>\n",
              "      <td>{'neg': 0.0, 'neu': 0.673, 'pos': 0.327, 'comp...</td>\n",
              "    </tr>\n",
              "    <tr>\n",
              "      <th>3</th>\n",
              "      <td>3</td>\n",
              "      <td>really impressed amazon surprise delivering wi...</td>\n",
              "      <td>5.0</td>\n",
              "      <td>{'neg': 0.0, 'neu': 0.541, 'pos': 0.459, 'comp...</td>\n",
              "    </tr>\n",
              "    <tr>\n",
              "      <th>4</th>\n",
              "      <td>4</td>\n",
              "      <td>buy product canon local service center help ev...</td>\n",
              "      <td>1.0</td>\n",
              "      <td>{'neg': 0.103, 'neu': 0.733, 'pos': 0.164, 'co...</td>\n",
              "    </tr>\n",
              "    <tr>\n",
              "      <th>5</th>\n",
              "      <td>5</td>\n",
              "      <td>request replacement camera main body lot black...</td>\n",
              "      <td>1.0</td>\n",
              "      <td>{'neg': 0.0, 'neu': 0.897, 'pos': 0.103, 'comp...</td>\n",
              "    </tr>\n",
              "    <tr>\n",
              "      <th>6</th>\n",
              "      <td>6</td>\n",
              "      <td>received product dslr cannon october adopter g...</td>\n",
              "      <td>2.0</td>\n",
              "      <td>{'neg': 0.135, 'neu': 0.865, 'pos': 0.0, 'comp...</td>\n",
              "    </tr>\n",
              "    <tr>\n",
              "      <th>7</th>\n",
              "      <td>7</td>\n",
              "      <td>auto focus perfectminimum aperture dont expect...</td>\n",
              "      <td>3.0</td>\n",
              "      <td>{'neg': 0.134, 'neu': 0.738, 'pos': 0.128, 'co...</td>\n",
              "    </tr>\n",
              "    <tr>\n",
              "      <th>8</th>\n",
              "      <td>8</td>\n",
              "      <td>want upgrade camera point shoot dslr good came...</td>\n",
              "      <td>4.0</td>\n",
              "      <td>{'neg': 0.262, 'neu': 0.536, 'pos': 0.202, 'co...</td>\n",
              "    </tr>\n",
              "    <tr>\n",
              "      <th>9</th>\n",
              "      <td>9</td>\n",
              "      <td>really fully content product reached within tw...</td>\n",
              "      <td>5.0</td>\n",
              "      <td>{'neg': 0.162, 'neu': 0.73, 'pos': 0.108, 'com...</td>\n",
              "    </tr>\n",
              "  </tbody>\n",
              "</table>\n",
              "</div>"
            ],
            "text/plain": [
              "   Unnamed: 0  ...                                             scores\n",
              "0           0  ...  {'neg': 0.127, 'neu': 0.69, 'pos': 0.183, 'com...\n",
              "1           1  ...  {'neg': 0.0, 'neu': 0.408, 'pos': 0.592, 'comp...\n",
              "2           2  ...  {'neg': 0.0, 'neu': 0.673, 'pos': 0.327, 'comp...\n",
              "3           3  ...  {'neg': 0.0, 'neu': 0.541, 'pos': 0.459, 'comp...\n",
              "4           4  ...  {'neg': 0.103, 'neu': 0.733, 'pos': 0.164, 'co...\n",
              "5           5  ...  {'neg': 0.0, 'neu': 0.897, 'pos': 0.103, 'comp...\n",
              "6           6  ...  {'neg': 0.135, 'neu': 0.865, 'pos': 0.0, 'comp...\n",
              "7           7  ...  {'neg': 0.134, 'neu': 0.738, 'pos': 0.128, 'co...\n",
              "8           8  ...  {'neg': 0.262, 'neu': 0.536, 'pos': 0.202, 'co...\n",
              "9           9  ...  {'neg': 0.162, 'neu': 0.73, 'pos': 0.108, 'com...\n",
              "\n",
              "[10 rows x 4 columns]"
            ]
          },
          "metadata": {
            "tags": []
          },
          "execution_count": 16
        }
      ]
    },
    {
      "cell_type": "code",
      "metadata": {
        "id": "VMRD7Zgjx7q2"
      },
      "source": [
        "\n",
        "df['compound'] = df['scores'].apply(lambda d:d['compound'])"
      ],
      "execution_count": 17,
      "outputs": []
    },
    {
      "cell_type": "code",
      "metadata": {
        "colab": {
          "base_uri": "https://localhost:8080/",
          "height": 359
        },
        "id": "rc86L7Tbx_P_",
        "outputId": "73ec2fb0-5c9b-402a-d423-ad41d10d3726"
      },
      "source": [
        "df.head(10)"
      ],
      "execution_count": 18,
      "outputs": [
        {
          "output_type": "execute_result",
          "data": {
            "text/html": [
              "<div>\n",
              "<style scoped>\n",
              "    .dataframe tbody tr th:only-of-type {\n",
              "        vertical-align: middle;\n",
              "    }\n",
              "\n",
              "    .dataframe tbody tr th {\n",
              "        vertical-align: top;\n",
              "    }\n",
              "\n",
              "    .dataframe thead th {\n",
              "        text-align: right;\n",
              "    }\n",
              "</style>\n",
              "<table border=\"1\" class=\"dataframe\">\n",
              "  <thead>\n",
              "    <tr style=\"text-align: right;\">\n",
              "      <th></th>\n",
              "      <th>Unnamed: 0</th>\n",
              "      <th>reviews</th>\n",
              "      <th>ratings</th>\n",
              "      <th>scores</th>\n",
              "      <th>compound</th>\n",
              "    </tr>\n",
              "  </thead>\n",
              "  <tbody>\n",
              "    <tr>\n",
              "      <th>0</th>\n",
              "      <td>0</td>\n",
              "      <td>ok dslr giant canon launched entry level dslr ...</td>\n",
              "      <td>2.0</td>\n",
              "      <td>{'neg': 0.127, 'neu': 0.69, 'pos': 0.183, 'com...</td>\n",
              "      <td>0.8803</td>\n",
              "    </tr>\n",
              "    <tr>\n",
              "      <th>1</th>\n",
              "      <td>1</td>\n",
              "      <td>good camera beginner</td>\n",
              "      <td>5.0</td>\n",
              "      <td>{'neg': 0.0, 'neu': 0.408, 'pos': 0.592, 'comp...</td>\n",
              "      <td>0.4404</td>\n",
              "    </tr>\n",
              "    <tr>\n",
              "      <th>2</th>\n",
              "      <td>2</td>\n",
              "      <td>great camera perfect product young budding pho...</td>\n",
              "      <td>5.0</td>\n",
              "      <td>{'neg': 0.0, 'neu': 0.673, 'pos': 0.327, 'comp...</td>\n",
              "      <td>0.8934</td>\n",
              "    </tr>\n",
              "    <tr>\n",
              "      <th>3</th>\n",
              "      <td>3</td>\n",
              "      <td>really impressed amazon surprise delivering wi...</td>\n",
              "      <td>5.0</td>\n",
              "      <td>{'neg': 0.0, 'neu': 0.541, 'pos': 0.459, 'comp...</td>\n",
              "      <td>0.9801</td>\n",
              "    </tr>\n",
              "    <tr>\n",
              "      <th>4</th>\n",
              "      <td>4</td>\n",
              "      <td>buy product canon local service center help ev...</td>\n",
              "      <td>1.0</td>\n",
              "      <td>{'neg': 0.103, 'neu': 0.733, 'pos': 0.164, 'co...</td>\n",
              "      <td>0.4215</td>\n",
              "    </tr>\n",
              "    <tr>\n",
              "      <th>5</th>\n",
              "      <td>5</td>\n",
              "      <td>request replacement camera main body lot black...</td>\n",
              "      <td>1.0</td>\n",
              "      <td>{'neg': 0.0, 'neu': 0.897, 'pos': 0.103, 'comp...</td>\n",
              "      <td>0.3182</td>\n",
              "    </tr>\n",
              "    <tr>\n",
              "      <th>6</th>\n",
              "      <td>6</td>\n",
              "      <td>received product dslr cannon october adopter g...</td>\n",
              "      <td>2.0</td>\n",
              "      <td>{'neg': 0.135, 'neu': 0.865, 'pos': 0.0, 'comp...</td>\n",
              "      <td>-0.3612</td>\n",
              "    </tr>\n",
              "    <tr>\n",
              "      <th>7</th>\n",
              "      <td>7</td>\n",
              "      <td>auto focus perfectminimum aperture dont expect...</td>\n",
              "      <td>3.0</td>\n",
              "      <td>{'neg': 0.134, 'neu': 0.738, 'pos': 0.128, 'co...</td>\n",
              "      <td>-0.1280</td>\n",
              "    </tr>\n",
              "    <tr>\n",
              "      <th>8</th>\n",
              "      <td>8</td>\n",
              "      <td>want upgrade camera point shoot dslr good came...</td>\n",
              "      <td>4.0</td>\n",
              "      <td>{'neg': 0.262, 'neu': 0.536, 'pos': 0.202, 'co...</td>\n",
              "      <td>-0.6124</td>\n",
              "    </tr>\n",
              "    <tr>\n",
              "      <th>9</th>\n",
              "      <td>9</td>\n",
              "      <td>really fully content product reached within tw...</td>\n",
              "      <td>5.0</td>\n",
              "      <td>{'neg': 0.162, 'neu': 0.73, 'pos': 0.108, 'com...</td>\n",
              "      <td>-0.4863</td>\n",
              "    </tr>\n",
              "  </tbody>\n",
              "</table>\n",
              "</div>"
            ],
            "text/plain": [
              "   Unnamed: 0  ... compound\n",
              "0           0  ...   0.8803\n",
              "1           1  ...   0.4404\n",
              "2           2  ...   0.8934\n",
              "3           3  ...   0.9801\n",
              "4           4  ...   0.4215\n",
              "5           5  ...   0.3182\n",
              "6           6  ...  -0.3612\n",
              "7           7  ...  -0.1280\n",
              "8           8  ...  -0.6124\n",
              "9           9  ...  -0.4863\n",
              "\n",
              "[10 rows x 5 columns]"
            ]
          },
          "metadata": {
            "tags": []
          },
          "execution_count": 18
        }
      ]
    },
    {
      "cell_type": "code",
      "metadata": {
        "id": "sI9yoI9qyBrH"
      },
      "source": [
        "\n",
        "df['senti'] = df['compound'].apply(lambda score: 'pos' if score >=0 else 'neg')"
      ],
      "execution_count": 19,
      "outputs": []
    },
    {
      "cell_type": "code",
      "metadata": {
        "colab": {
          "base_uri": "https://localhost:8080/",
          "height": 359
        },
        "id": "LeUXig9HyJEV",
        "outputId": "f760af64-baca-4bce-f2e4-0b3d0e768c7b"
      },
      "source": [
        "df.head(10)"
      ],
      "execution_count": 20,
      "outputs": [
        {
          "output_type": "execute_result",
          "data": {
            "text/html": [
              "<div>\n",
              "<style scoped>\n",
              "    .dataframe tbody tr th:only-of-type {\n",
              "        vertical-align: middle;\n",
              "    }\n",
              "\n",
              "    .dataframe tbody tr th {\n",
              "        vertical-align: top;\n",
              "    }\n",
              "\n",
              "    .dataframe thead th {\n",
              "        text-align: right;\n",
              "    }\n",
              "</style>\n",
              "<table border=\"1\" class=\"dataframe\">\n",
              "  <thead>\n",
              "    <tr style=\"text-align: right;\">\n",
              "      <th></th>\n",
              "      <th>Unnamed: 0</th>\n",
              "      <th>reviews</th>\n",
              "      <th>ratings</th>\n",
              "      <th>scores</th>\n",
              "      <th>compound</th>\n",
              "      <th>senti</th>\n",
              "    </tr>\n",
              "  </thead>\n",
              "  <tbody>\n",
              "    <tr>\n",
              "      <th>0</th>\n",
              "      <td>0</td>\n",
              "      <td>ok dslr giant canon launched entry level dslr ...</td>\n",
              "      <td>2.0</td>\n",
              "      <td>{'neg': 0.127, 'neu': 0.69, 'pos': 0.183, 'com...</td>\n",
              "      <td>0.8803</td>\n",
              "      <td>pos</td>\n",
              "    </tr>\n",
              "    <tr>\n",
              "      <th>1</th>\n",
              "      <td>1</td>\n",
              "      <td>good camera beginner</td>\n",
              "      <td>5.0</td>\n",
              "      <td>{'neg': 0.0, 'neu': 0.408, 'pos': 0.592, 'comp...</td>\n",
              "      <td>0.4404</td>\n",
              "      <td>pos</td>\n",
              "    </tr>\n",
              "    <tr>\n",
              "      <th>2</th>\n",
              "      <td>2</td>\n",
              "      <td>great camera perfect product young budding pho...</td>\n",
              "      <td>5.0</td>\n",
              "      <td>{'neg': 0.0, 'neu': 0.673, 'pos': 0.327, 'comp...</td>\n",
              "      <td>0.8934</td>\n",
              "      <td>pos</td>\n",
              "    </tr>\n",
              "    <tr>\n",
              "      <th>3</th>\n",
              "      <td>3</td>\n",
              "      <td>really impressed amazon surprise delivering wi...</td>\n",
              "      <td>5.0</td>\n",
              "      <td>{'neg': 0.0, 'neu': 0.541, 'pos': 0.459, 'comp...</td>\n",
              "      <td>0.9801</td>\n",
              "      <td>pos</td>\n",
              "    </tr>\n",
              "    <tr>\n",
              "      <th>4</th>\n",
              "      <td>4</td>\n",
              "      <td>buy product canon local service center help ev...</td>\n",
              "      <td>1.0</td>\n",
              "      <td>{'neg': 0.103, 'neu': 0.733, 'pos': 0.164, 'co...</td>\n",
              "      <td>0.4215</td>\n",
              "      <td>pos</td>\n",
              "    </tr>\n",
              "    <tr>\n",
              "      <th>5</th>\n",
              "      <td>5</td>\n",
              "      <td>request replacement camera main body lot black...</td>\n",
              "      <td>1.0</td>\n",
              "      <td>{'neg': 0.0, 'neu': 0.897, 'pos': 0.103, 'comp...</td>\n",
              "      <td>0.3182</td>\n",
              "      <td>pos</td>\n",
              "    </tr>\n",
              "    <tr>\n",
              "      <th>6</th>\n",
              "      <td>6</td>\n",
              "      <td>received product dslr cannon october adopter g...</td>\n",
              "      <td>2.0</td>\n",
              "      <td>{'neg': 0.135, 'neu': 0.865, 'pos': 0.0, 'comp...</td>\n",
              "      <td>-0.3612</td>\n",
              "      <td>neg</td>\n",
              "    </tr>\n",
              "    <tr>\n",
              "      <th>7</th>\n",
              "      <td>7</td>\n",
              "      <td>auto focus perfectminimum aperture dont expect...</td>\n",
              "      <td>3.0</td>\n",
              "      <td>{'neg': 0.134, 'neu': 0.738, 'pos': 0.128, 'co...</td>\n",
              "      <td>-0.1280</td>\n",
              "      <td>neg</td>\n",
              "    </tr>\n",
              "    <tr>\n",
              "      <th>8</th>\n",
              "      <td>8</td>\n",
              "      <td>want upgrade camera point shoot dslr good came...</td>\n",
              "      <td>4.0</td>\n",
              "      <td>{'neg': 0.262, 'neu': 0.536, 'pos': 0.202, 'co...</td>\n",
              "      <td>-0.6124</td>\n",
              "      <td>neg</td>\n",
              "    </tr>\n",
              "    <tr>\n",
              "      <th>9</th>\n",
              "      <td>9</td>\n",
              "      <td>really fully content product reached within tw...</td>\n",
              "      <td>5.0</td>\n",
              "      <td>{'neg': 0.162, 'neu': 0.73, 'pos': 0.108, 'com...</td>\n",
              "      <td>-0.4863</td>\n",
              "      <td>neg</td>\n",
              "    </tr>\n",
              "  </tbody>\n",
              "</table>\n",
              "</div>"
            ],
            "text/plain": [
              "   Unnamed: 0  ... senti\n",
              "0           0  ...   pos\n",
              "1           1  ...   pos\n",
              "2           2  ...   pos\n",
              "3           3  ...   pos\n",
              "4           4  ...   pos\n",
              "5           5  ...   pos\n",
              "6           6  ...   neg\n",
              "7           7  ...   neg\n",
              "8           8  ...   neg\n",
              "9           9  ...   neg\n",
              "\n",
              "[10 rows x 6 columns]"
            ]
          },
          "metadata": {
            "tags": []
          },
          "execution_count": 20
        }
      ]
    },
    {
      "cell_type": "code",
      "metadata": {
        "colab": {
          "base_uri": "https://localhost:8080/"
        },
        "id": "vsamkYipyftY",
        "outputId": "b19880fc-6847-4b14-ecd5-d23177ef26e2"
      },
      "source": [
        "print(df.isnull().sum())"
      ],
      "execution_count": 21,
      "outputs": [
        {
          "output_type": "stream",
          "text": [
            "Unnamed: 0    0\n",
            "reviews       0\n",
            "ratings       0\n",
            "scores        0\n",
            "compound      0\n",
            "senti         0\n",
            "dtype: int64\n"
          ],
          "name": "stdout"
        }
      ]
    },
    {
      "cell_type": "code",
      "metadata": {
        "id": "2jqYrW6Qyklo"
      },
      "source": [
        "senti = df.drop(df.columns[[0]], axis=1)"
      ],
      "execution_count": 22,
      "outputs": []
    },
    {
      "cell_type": "code",
      "metadata": {
        "colab": {
          "base_uri": "https://localhost:8080/",
          "height": 204
        },
        "id": "mq2uZJEwynJ6",
        "outputId": "ee76b465-2b14-4026-c4cc-d093237d7a3b"
      },
      "source": [
        "senti.head()"
      ],
      "execution_count": 23,
      "outputs": [
        {
          "output_type": "execute_result",
          "data": {
            "text/html": [
              "<div>\n",
              "<style scoped>\n",
              "    .dataframe tbody tr th:only-of-type {\n",
              "        vertical-align: middle;\n",
              "    }\n",
              "\n",
              "    .dataframe tbody tr th {\n",
              "        vertical-align: top;\n",
              "    }\n",
              "\n",
              "    .dataframe thead th {\n",
              "        text-align: right;\n",
              "    }\n",
              "</style>\n",
              "<table border=\"1\" class=\"dataframe\">\n",
              "  <thead>\n",
              "    <tr style=\"text-align: right;\">\n",
              "      <th></th>\n",
              "      <th>reviews</th>\n",
              "      <th>ratings</th>\n",
              "      <th>scores</th>\n",
              "      <th>compound</th>\n",
              "      <th>senti</th>\n",
              "    </tr>\n",
              "  </thead>\n",
              "  <tbody>\n",
              "    <tr>\n",
              "      <th>0</th>\n",
              "      <td>ok dslr giant canon launched entry level dslr ...</td>\n",
              "      <td>2.0</td>\n",
              "      <td>{'neg': 0.127, 'neu': 0.69, 'pos': 0.183, 'com...</td>\n",
              "      <td>0.8803</td>\n",
              "      <td>pos</td>\n",
              "    </tr>\n",
              "    <tr>\n",
              "      <th>1</th>\n",
              "      <td>good camera beginner</td>\n",
              "      <td>5.0</td>\n",
              "      <td>{'neg': 0.0, 'neu': 0.408, 'pos': 0.592, 'comp...</td>\n",
              "      <td>0.4404</td>\n",
              "      <td>pos</td>\n",
              "    </tr>\n",
              "    <tr>\n",
              "      <th>2</th>\n",
              "      <td>great camera perfect product young budding pho...</td>\n",
              "      <td>5.0</td>\n",
              "      <td>{'neg': 0.0, 'neu': 0.673, 'pos': 0.327, 'comp...</td>\n",
              "      <td>0.8934</td>\n",
              "      <td>pos</td>\n",
              "    </tr>\n",
              "    <tr>\n",
              "      <th>3</th>\n",
              "      <td>really impressed amazon surprise delivering wi...</td>\n",
              "      <td>5.0</td>\n",
              "      <td>{'neg': 0.0, 'neu': 0.541, 'pos': 0.459, 'comp...</td>\n",
              "      <td>0.9801</td>\n",
              "      <td>pos</td>\n",
              "    </tr>\n",
              "    <tr>\n",
              "      <th>4</th>\n",
              "      <td>buy product canon local service center help ev...</td>\n",
              "      <td>1.0</td>\n",
              "      <td>{'neg': 0.103, 'neu': 0.733, 'pos': 0.164, 'co...</td>\n",
              "      <td>0.4215</td>\n",
              "      <td>pos</td>\n",
              "    </tr>\n",
              "  </tbody>\n",
              "</table>\n",
              "</div>"
            ],
            "text/plain": [
              "                                             reviews  ratings  ... compound  senti\n",
              "0  ok dslr giant canon launched entry level dslr ...      2.0  ...   0.8803    pos\n",
              "1                               good camera beginner      5.0  ...   0.4404    pos\n",
              "2  great camera perfect product young budding pho...      5.0  ...   0.8934    pos\n",
              "3  really impressed amazon surprise delivering wi...      5.0  ...   0.9801    pos\n",
              "4  buy product canon local service center help ev...      1.0  ...   0.4215    pos\n",
              "\n",
              "[5 rows x 5 columns]"
            ]
          },
          "metadata": {
            "tags": []
          },
          "execution_count": 23
        }
      ]
    },
    {
      "cell_type": "code",
      "metadata": {
        "colab": {
          "base_uri": "https://localhost:8080/"
        },
        "id": "Bdgrpy0syp5a",
        "outputId": "f013f70c-79bf-4b98-c034-1fee3861ea02"
      },
      "source": [
        "senti['senti'].value_counts()"
      ],
      "execution_count": 24,
      "outputs": [
        {
          "output_type": "execute_result",
          "data": {
            "text/plain": [
              "pos    2798\n",
              "neg     170\n",
              "Name: senti, dtype: int64"
            ]
          },
          "metadata": {
            "tags": []
          },
          "execution_count": 24
        }
      ]
    },
    {
      "cell_type": "code",
      "metadata": {
        "colab": {
          "base_uri": "https://localhost:8080/",
          "height": 291
        },
        "id": "oAaTBl5Iys2J",
        "outputId": "e849cfed-fecd-4b66-f0f0-6e1f556ba243"
      },
      "source": [
        "senti['senti'].value_counts().plot.bar()"
      ],
      "execution_count": 25,
      "outputs": [
        {
          "output_type": "execute_result",
          "data": {
            "text/plain": [
              "<matplotlib.axes._subplots.AxesSubplot at 0x7f4aaceb1c50>"
            ]
          },
          "metadata": {
            "tags": []
          },
          "execution_count": 25
        },
        {
          "output_type": "display_data",
          "data": {
            "image/png": "[encoded data removed]",
            "text/plain": [
              "<Figure size 432x288 with 1 Axes>"
            ]
          },
          "metadata": {
            "tags": [],
            "needs_background": "light"
          }
        }
      ]
    },
    {
      "cell_type": "code",
      "metadata": {
        "id": "qC3VZJ7wywnb"
      },
      "source": [
        "from sklearn import preprocessing"
      ],
      "execution_count": 26,
      "outputs": []
    },
    {
      "cell_type": "code",
      "metadata": {
        "id": "NF8p6IMJyzvw"
      },
      "source": [
        "label_encoder = preprocessing.LabelEncoder()"
      ],
      "execution_count": 27,
      "outputs": []
    },
    {
      "cell_type": "code",
      "metadata": {
        "id": "GVCb0rM2y2DD"
      },
      "source": [
        "senti['senti']= label_encoder.fit_transform(df['senti'])"
      ],
      "execution_count": 28,
      "outputs": []
    },
    {
      "cell_type": "code",
      "metadata": {
        "colab": {
          "base_uri": "https://localhost:8080/"
        },
        "id": "OFZyY6kwy5MI",
        "outputId": "86448af5-023c-4eb8-a40a-e67c531ad0ab"
      },
      "source": [
        "senti['senti'].unique()"
      ],
      "execution_count": 29,
      "outputs": [
        {
          "output_type": "execute_result",
          "data": {
            "text/plain": [
              "array([1, 0])"
            ]
          },
          "metadata": {
            "tags": []
          },
          "execution_count": 29
        }
      ]
    },
    {
      "cell_type": "code",
      "metadata": {
        "id": "b0kE1347y9J5"
      },
      "source": [
        "import re\n",
        "def cleaning_text(i):\n",
        "    i = re.sub(\"[^A-Za-z\" \"]+\",\" \",i).lower()\n",
        "    i = re.sub(\"[0-9\" \"]+\",\" \",i)\n",
        "    i= re.sub(\"[\\W+\"\"]\", \" \",i)        \n",
        "    w = []\n",
        "    for word in i.split(\" \"):\n",
        "        if len(word)>3:\n",
        "            w.append(word)\n",
        "    return (\" \".join(w))"
      ],
      "execution_count": 30,
      "outputs": []
    },
    {
      "cell_type": "code",
      "metadata": {
        "id": "3C3IUZ3ry-fD"
      },
      "source": [
        "senti['reviews']=senti.reviews.apply(cleaning_text)"
      ],
      "execution_count": 31,
      "outputs": []
    },
    {
      "cell_type": "code",
      "metadata": {
        "colab": {
          "base_uri": "https://localhost:8080/",
          "height": 359
        },
        "id": "CkueuwltzC8Z",
        "outputId": "63101450-9ab6-447b-85d1-42b1de59c820"
      },
      "source": [
        "senti.head(10)"
      ],
      "execution_count": 32,
      "outputs": [
        {
          "output_type": "execute_result",
          "data": {
            "text/html": [
              "<div>\n",
              "<style scoped>\n",
              "    .dataframe tbody tr th:only-of-type {\n",
              "        vertical-align: middle;\n",
              "    }\n",
              "\n",
              "    .dataframe tbody tr th {\n",
              "        vertical-align: top;\n",
              "    }\n",
              "\n",
              "    .dataframe thead th {\n",
              "        text-align: right;\n",
              "    }\n",
              "</style>\n",
              "<table border=\"1\" class=\"dataframe\">\n",
              "  <thead>\n",
              "    <tr style=\"text-align: right;\">\n",
              "      <th></th>\n",
              "      <th>reviews</th>\n",
              "      <th>ratings</th>\n",
              "      <th>scores</th>\n",
              "      <th>compound</th>\n",
              "      <th>senti</th>\n",
              "    </tr>\n",
              "  </thead>\n",
              "  <tbody>\n",
              "    <tr>\n",
              "      <th>0</th>\n",
              "      <td>dslr giant canon launched entry level dslr act...</td>\n",
              "      <td>2.0</td>\n",
              "      <td>{'neg': 0.127, 'neu': 0.69, 'pos': 0.183, 'com...</td>\n",
              "      <td>0.8803</td>\n",
              "      <td>1</td>\n",
              "    </tr>\n",
              "    <tr>\n",
              "      <th>1</th>\n",
              "      <td>good camera beginner</td>\n",
              "      <td>5.0</td>\n",
              "      <td>{'neg': 0.0, 'neu': 0.408, 'pos': 0.592, 'comp...</td>\n",
              "      <td>0.4404</td>\n",
              "      <td>1</td>\n",
              "    </tr>\n",
              "    <tr>\n",
              "      <th>2</th>\n",
              "      <td>great camera perfect product young budding pho...</td>\n",
              "      <td>5.0</td>\n",
              "      <td>{'neg': 0.0, 'neu': 0.673, 'pos': 0.327, 'comp...</td>\n",
              "      <td>0.8934</td>\n",
              "      <td>1</td>\n",
              "    </tr>\n",
              "    <tr>\n",
              "      <th>3</th>\n",
              "      <td>really impressed amazon surprise delivering wi...</td>\n",
              "      <td>5.0</td>\n",
              "      <td>{'neg': 0.0, 'neu': 0.541, 'pos': 0.459, 'comp...</td>\n",
              "      <td>0.9801</td>\n",
              "      <td>1</td>\n",
              "    </tr>\n",
              "    <tr>\n",
              "      <th>4</th>\n",
              "      <td>product canon local service center help even p...</td>\n",
              "      <td>1.0</td>\n",
              "      <td>{'neg': 0.103, 'neu': 0.733, 'pos': 0.164, 'co...</td>\n",
              "      <td>0.4215</td>\n",
              "      <td>1</td>\n",
              "    </tr>\n",
              "    <tr>\n",
              "      <th>5</th>\n",
              "      <td>request replacement camera main body blackspot...</td>\n",
              "      <td>1.0</td>\n",
              "      <td>{'neg': 0.0, 'neu': 0.897, 'pos': 0.103, 'comp...</td>\n",
              "      <td>0.3182</td>\n",
              "      <td>1</td>\n",
              "    </tr>\n",
              "    <tr>\n",
              "      <th>6</th>\n",
              "      <td>received product dslr cannon october adopter g...</td>\n",
              "      <td>2.0</td>\n",
              "      <td>{'neg': 0.135, 'neu': 0.865, 'pos': 0.0, 'comp...</td>\n",
              "      <td>-0.3612</td>\n",
              "      <td>0</td>\n",
              "    </tr>\n",
              "    <tr>\n",
              "      <th>7</th>\n",
              "      <td>auto focus perfectminimum aperture dont expect...</td>\n",
              "      <td>3.0</td>\n",
              "      <td>{'neg': 0.134, 'neu': 0.738, 'pos': 0.128, 'co...</td>\n",
              "      <td>-0.1280</td>\n",
              "      <td>0</td>\n",
              "    </tr>\n",
              "    <tr>\n",
              "      <th>8</th>\n",
              "      <td>want upgrade camera point shoot dslr good came...</td>\n",
              "      <td>4.0</td>\n",
              "      <td>{'neg': 0.262, 'neu': 0.536, 'pos': 0.202, 'co...</td>\n",
              "      <td>-0.6124</td>\n",
              "      <td>0</td>\n",
              "    </tr>\n",
              "    <tr>\n",
              "      <th>9</th>\n",
              "      <td>really fully content product reached within ev...</td>\n",
              "      <td>5.0</td>\n",
              "      <td>{'neg': 0.162, 'neu': 0.73, 'pos': 0.108, 'com...</td>\n",
              "      <td>-0.4863</td>\n",
              "      <td>0</td>\n",
              "    </tr>\n",
              "  </tbody>\n",
              "</table>\n",
              "</div>"
            ],
            "text/plain": [
              "                                             reviews  ratings  ... compound  senti\n",
              "0  dslr giant canon launched entry level dslr act...      2.0  ...   0.8803      1\n",
              "1                               good camera beginner      5.0  ...   0.4404      1\n",
              "2  great camera perfect product young budding pho...      5.0  ...   0.8934      1\n",
              "3  really impressed amazon surprise delivering wi...      5.0  ...   0.9801      1\n",
              "4  product canon local service center help even p...      1.0  ...   0.4215      1\n",
              "5  request replacement camera main body blackspot...      1.0  ...   0.3182      1\n",
              "6  received product dslr cannon october adopter g...      2.0  ...  -0.3612      0\n",
              "7  auto focus perfectminimum aperture dont expect...      3.0  ...  -0.1280      0\n",
              "8  want upgrade camera point shoot dslr good came...      4.0  ...  -0.6124      0\n",
              "9  really fully content product reached within ev...      5.0  ...  -0.4863      0\n",
              "\n",
              "[10 rows x 5 columns]"
            ]
          },
          "metadata": {
            "tags": []
          },
          "execution_count": 32
        }
      ]
    },
    {
      "cell_type": "code",
      "metadata": {
        "id": "2ZoJwAdIzWhq"
      },
      "source": [
        "from sklearn.model_selection import train_test_split\n",
        "from sklearn.feature_extraction.text import TfidfVectorizer"
      ],
      "execution_count": 39,
      "outputs": []
    },
    {
      "cell_type": "code",
      "metadata": {
        "id": "Q47D6GrNzGsi"
      },
      "source": [
        "split = senti[['reviews', 'senti']]\n",
        "train = split.sample(frac=0.8,random_state = 200)\n",
        "test = split.drop(train.index)"
      ],
      "execution_count": 34,
      "outputs": []
    },
    {
      "cell_type": "code",
      "metadata": {
        "colab": {
          "base_uri": "https://localhost:8080/"
        },
        "id": "OrMgKdk7zLWC",
        "outputId": "21779d40-0517-4659-ea9b-817416c0963c"
      },
      "source": [
        "train.shape"
      ],
      "execution_count": 35,
      "outputs": [
        {
          "output_type": "execute_result",
          "data": {
            "text/plain": [
              "(2374, 2)"
            ]
          },
          "metadata": {
            "tags": []
          },
          "execution_count": 35
        }
      ]
    },
    {
      "cell_type": "code",
      "metadata": {
        "colab": {
          "base_uri": "https://localhost:8080/"
        },
        "id": "t2qJhW9UzOTV",
        "outputId": "f15874d5-0430-483b-d37f-c0d672a08955"
      },
      "source": [
        "test.shape"
      ],
      "execution_count": 36,
      "outputs": [
        {
          "output_type": "execute_result",
          "data": {
            "text/plain": [
              "(594, 2)"
            ]
          },
          "metadata": {
            "tags": []
          },
          "execution_count": 36
        }
      ]
    },
    {
      "cell_type": "code",
      "metadata": {
        "id": "Zr5tyRc2zQV0"
      },
      "source": [
        "trainX=train.reviews\n",
        "trainy=train.senti\n",
        "testX=test.reviews\n",
        "testy=test.senti"
      ],
      "execution_count": 38,
      "outputs": []
    },
    {
      "cell_type": "code",
      "metadata": {
        "id": "oZ3zyAatzbWT"
      },
      "source": [
        "from wordcloud import STOPWORDS\n",
        "from sklearn.feature_extraction.text import TfidfTransformer\n",
        "from sklearn.feature_extraction.text import CountVectorizer"
      ],
      "execution_count": 40,
      "outputs": []
    },
    {
      "cell_type": "code",
      "metadata": {
        "id": "wl7-u_nVzeBC"
      },
      "source": [
        "stopwords = set(STOPWORDS)\n",
        "stopwords.remove(\"not\")"
      ],
      "execution_count": 41,
      "outputs": []
    },
    {
      "cell_type": "code",
      "metadata": {
        "id": "bdDrN5c1zfXJ"
      },
      "source": [
        "count_vect = CountVectorizer(min_df=2 ,stop_words=stopwords , ngram_range=(1,2))\n",
        "tfidf_transformer = TfidfTransformer()"
      ],
      "execution_count": 42,
      "outputs": []
    },
    {
      "cell_type": "code",
      "metadata": {
        "id": "GGgEQYvKziyR"
      },
      "source": [
        "X_train_counts = count_vect.fit_transform(train[\"reviews\"])        \n",
        "X_train_tfidf = tfidf_transformer.fit_transform(X_train_counts)"
      ],
      "execution_count": 43,
      "outputs": []
    },
    {
      "cell_type": "code",
      "metadata": {
        "id": "tjvP-lBhzmqh"
      },
      "source": [
        "X_new_counts = count_vect.transform(test[\"reviews\"])\n",
        "X_test_tfidf = tfidf_transformer.transform(X_new_counts)"
      ],
      "execution_count": 45,
      "outputs": []
    },
    {
      "cell_type": "code",
      "metadata": {
        "id": "kf0u0Zjozss6"
      },
      "source": [
        "from sklearn.metrics import classification_report,confusion_matrix,accuracy_score"
      ],
      "execution_count": 49,
      "outputs": []
    },
    {
      "cell_type": "markdown",
      "metadata": {
        "id": "OBOIz4vVzveH"
      },
      "source": [
        "Logistic Regresssion"
      ]
    },
    {
      "cell_type": "code",
      "metadata": {
        "colab": {
          "base_uri": "https://localhost:8080/"
        },
        "id": "dEUaSgU5zvNJ",
        "outputId": "8bb38ec1-709b-45b1-8171-3f74402dedea"
      },
      "source": [
        "from sklearn.linear_model import LogisticRegression\n",
        "model=LogisticRegression()\n",
        "model.fit(X_train_tfidf,trainy)"
      ],
      "execution_count": 46,
      "outputs": [
        {
          "output_type": "execute_result",
          "data": {
            "text/plain": [
              "LogisticRegression(C=1.0, class_weight=None, dual=False, fit_intercept=True,\n",
              "                   intercept_scaling=1, l1_ratio=None, max_iter=100,\n",
              "                   multi_class='auto', n_jobs=None, penalty='l2',\n",
              "                   random_state=None, solver='lbfgs', tol=0.0001, verbose=0,\n",
              "                   warm_start=False)"
            ]
          },
          "metadata": {
            "tags": []
          },
          "execution_count": 46
        }
      ]
    },
    {
      "cell_type": "code",
      "metadata": {
        "id": "b9d0N_XXz72Y"
      },
      "source": [
        "y_pred=model.predict(X_test_tfidf)"
      ],
      "execution_count": 47,
      "outputs": []
    },
    {
      "cell_type": "code",
      "metadata": {
        "id": "yDHvjtnr54tg"
      },
      "source": [
        "y_pred_proba = model.predict_proba(X_test_tfidf)[:, 1]\n",
        "[fpr, tpr, thr] = roc_curve(testy, y_pred_proba)"
      ],
      "execution_count": 97,
      "outputs": []
    },
    {
      "cell_type": "code",
      "metadata": {
        "colab": {
          "base_uri": "https://localhost:8080/",
          "height": 299
        },
        "id": "h_K33swB6dZD",
        "outputId": "d3b2452b-d717-4e7d-df28-f9f168c96ae4"
      },
      "source": [
        "idx = np.min(np.where(tpr > 0.95)) # index of the first threshold for which the sensibility > 0.95\n",
        "plt.figure()\n",
        "plt.plot(fpr, tpr, color='coral', label='ROC curve (area = %0.3f)' % auc(fpr, tpr))\n",
        "plt.plot([0, 1], [0, 1], 'k--')\n",
        "plt.plot([0,fpr[idx]], [tpr[idx],tpr[idx]], 'k--', color='blue')\n",
        "plt.plot([fpr[idx],fpr[idx]], [0,tpr[idx]], 'k--', color='blue')\n",
        "plt.xlim([0.0, 1.0])\n",
        "plt.ylim([0.0, 1.05])\n",
        "plt.xlabel('False Positive Rate (1 - specificity)', fontsize=14)\n",
        "plt.ylabel('True Positive Rate (recall)', fontsize=14)\n",
        "plt.title('Receiver operating characteristic (ROC) curve')\n",
        "plt.legend(loc=\"lower right\")\n",
        "plt.show()"
      ],
      "execution_count": 98,
      "outputs": [
        {
          "output_type": "display_data",
          "data": {
            "image/png": "[encoded data removed]",
            "text/plain": [
              "<Figure size 432x288 with 1 Axes>"
            ]
          },
          "metadata": {
            "tags": [],
            "needs_background": "light"
          }
        }
      ]
    },
    {
      "cell_type": "code",
      "metadata": {
        "id": "DuA_MMgg0IDr"
      },
      "source": [
        "from sklearn.metrics import classification_report,confusion_matrix,accuracy_score"
      ],
      "execution_count": 50,
      "outputs": []
    },
    {
      "cell_type": "code",
      "metadata": {
        "colab": {
          "base_uri": "https://localhost:8080/"
        },
        "id": "y7MOVZmez_Pi",
        "outputId": "5c1984a0-456d-44b6-c798-2a8bdde000a2"
      },
      "source": [
        "print(accuracy_score(testy,y_pred))\n",
        "print(classification_report(testy,y_pred))\n",
        "print(confusion_matrix(testy,y_pred))\n",
        "print(cohen_kappa_score(testy,y_pred))"
      ],
      "execution_count": 51,
      "outputs": [
        {
          "output_type": "stream",
          "text": [
            "0.9696969696969697\n",
            "              precision    recall  f1-score   support\n",
            "\n",
            "           0       1.00      0.18      0.31        22\n",
            "           1       0.97      1.00      0.98       572\n",
            "\n",
            "    accuracy                           0.97       594\n",
            "   macro avg       0.98      0.59      0.65       594\n",
            "weighted avg       0.97      0.97      0.96       594\n",
            "\n",
            "[[  4  18]\n",
            " [  0 572]]\n",
            "0.2997118155619596\n"
          ],
          "name": "stdout"
        }
      ]
    },
    {
      "cell_type": "code",
      "metadata": {
        "id": "8g0dvg0a7riZ"
      },
      "source": [
        "cm=confusion_matrix(testy,y_pred)\n",
        "TN=cm[0,0]\n",
        "TP=cm[1,1]\n",
        "FN=cm[1,0]\n",
        "FP=cm[0,1]\n",
        "sensitivity=TP/float(TP+FN)\n",
        "specificity=TN/float(TN+FP)\n"
      ],
      "execution_count": 100,
      "outputs": []
    },
    {
      "cell_type": "code",
      "metadata": {
        "colab": {
          "base_uri": "https://localhost:8080/"
        },
        "id": "QBBzpCIC784R",
        "outputId": "71ee6e19-21a7-474d-eace-4c2abbb97d89"
      },
      "source": [
        "print('The acuuracy of the model = TP+TN/(TP+TN+FP+FN) = ',(TP+TN)/float(TP+TN+FP+FN),'\\n',\n",
        "\n",
        "'The Missclassification = 1-Accuracy = ',1-((TP+TN)/float(TP+TN+FP+FN)),'\\n',\n",
        "\n",
        "'Sensitivity or True Positive Rate = TP/(TP+FN) = ',TP/float(TP+FN),'\\n',\n",
        "\n",
        "'Specificity or True Negative Rate = TN/(TN+FP) = ',TN/float(TN+FP),'\\n',\n",
        "\n",
        "'Positive Predictive value = TP/(TP+FP) = ',TP/float(TP+FP),'\\n',\n",
        "\n",
        "'Negative predictive Value = TN/(TN+FN) = ',TN/float(TN+FN),'\\n',\n",
        "\n",
        "'Positive Likelihood Ratio = Sensitivity/(1-Specificity) = ',sensitivity/(1-specificity),'\\n',\n",
        "\n",
        "'Negative likelihood Ratio = (1-Sensitivity)/Specificity = ',(1-sensitivity)/specificity)"
      ],
      "execution_count": 101,
      "outputs": [
        {
          "output_type": "stream",
          "text": [
            "The acuuracy of the model = TP+TN/(TP+TN+FP+FN) =  0.9696969696969697 \n",
            " The Missclassification = 1-Accuracy =  0.030303030303030276 \n",
            " Sensitivity or True Positive Rate = TP/(TP+FN) =  1.0 \n",
            " Specificity or True Negative Rate = TN/(TN+FP) =  0.18181818181818182 \n",
            " Positive Predictive value = TP/(TP+FP) =  0.9694915254237289 \n",
            " Negative predictive Value = TN/(TN+FN) =  1.0 \n",
            " Positive Likelihood Ratio = Sensitivity/(1-Specificity) =  1.2222222222222223 \n",
            " Negative likelihood Ratio = (1-Sensitivity)/Specificity =  0.0\n"
          ],
          "name": "stdout"
        }
      ]
    },
    {
      "cell_type": "markdown",
      "metadata": {
        "id": "L8we8Ydf0Sh2"
      },
      "source": [
        "# Logistic Regression After SMOTE"
      ]
    },
    {
      "cell_type": "code",
      "metadata": {
        "id": "5wc9_5HA0Xf6"
      },
      "source": [
        "from imblearn.over_sampling import SMOTE"
      ],
      "execution_count": 52,
      "outputs": []
    },
    {
      "cell_type": "code",
      "metadata": {
        "id": "xIlgSMrl0aTT"
      },
      "source": [
        "sm=SMOTE(random_state=444)"
      ],
      "execution_count": 53,
      "outputs": []
    },
    {
      "cell_type": "code",
      "metadata": {
        "id": "XF848XVn0cuJ"
      },
      "source": [
        "X_train_res, y_train_res = sm.fit_resample(X_train_tfidf, trainy)"
      ],
      "execution_count": 54,
      "outputs": []
    },
    {
      "cell_type": "code",
      "metadata": {
        "colab": {
          "base_uri": "https://localhost:8080/"
        },
        "id": "_zIyOhMK0gdE",
        "outputId": "6e466184-78a2-4c9a-b0b1-e6e30142e157"
      },
      "source": [
        "model2=LogisticRegression()\n",
        "model2.fit(X_train_res,y_train_res)"
      ],
      "execution_count": 55,
      "outputs": [
        {
          "output_type": "execute_result",
          "data": {
            "text/plain": [
              "LogisticRegression(C=1.0, class_weight=None, dual=False, fit_intercept=True,\n",
              "                   intercept_scaling=1, l1_ratio=None, max_iter=100,\n",
              "                   multi_class='auto', n_jobs=None, penalty='l2',\n",
              "                   random_state=None, solver='lbfgs', tol=0.0001, verbose=0,\n",
              "                   warm_start=False)"
            ]
          },
          "metadata": {
            "tags": []
          },
          "execution_count": 55
        }
      ]
    },
    {
      "cell_type": "code",
      "metadata": {
        "id": "D-lKDzs10lta"
      },
      "source": [
        "y_pred2=model2.predict(X_test_tfidf)"
      ],
      "execution_count": 56,
      "outputs": []
    },
    {
      "cell_type": "code",
      "metadata": {
        "colab": {
          "base_uri": "https://localhost:8080/"
        },
        "id": "QETNiaT40nEC",
        "outputId": "80695041-4eec-4748-a2f1-1cc48ade01d0"
      },
      "source": [
        "print(accuracy_score(testy,y_pred2))\n",
        "print(classification_report(testy,y_pred2))\n",
        "print(confusion_matrix(testy,y_pred2))\n",
        "print(cohen_kappa_score(testy,y_pred2))"
      ],
      "execution_count": 57,
      "outputs": [
        {
          "output_type": "stream",
          "text": [
            "0.8552188552188552\n",
            "              precision    recall  f1-score   support\n",
            "\n",
            "           0       0.17      0.73      0.27        22\n",
            "           1       0.99      0.86      0.92       572\n",
            "\n",
            "    accuracy                           0.86       594\n",
            "   macro avg       0.58      0.79      0.60       594\n",
            "weighted avg       0.96      0.86      0.90       594\n",
            "\n",
            "[[ 16   6]\n",
            " [ 80 492]]\n",
            "0.22444889779559118\n"
          ],
          "name": "stdout"
        }
      ]
    },
    {
      "cell_type": "markdown",
      "metadata": {
        "id": "q8eSw4v30sX5"
      },
      "source": [
        "# MultiNomial NB"
      ]
    },
    {
      "cell_type": "code",
      "metadata": {
        "id": "iKT9JBif0rvL"
      },
      "source": [
        "from sklearn.naive_bayes import MultinomialNB"
      ],
      "execution_count": 58,
      "outputs": []
    },
    {
      "cell_type": "code",
      "metadata": {
        "colab": {
          "base_uri": "https://localhost:8080/"
        },
        "id": "MfSV0GBO00gB",
        "outputId": "b6f88086-aa2e-4a5e-89c5-ae950500fd51"
      },
      "source": [
        "model3=MultinomialNB()\n",
        "model3.fit(X_train_tfidf,trainy)"
      ],
      "execution_count": 59,
      "outputs": [
        {
          "output_type": "execute_result",
          "data": {
            "text/plain": [
              "MultinomialNB(alpha=1.0, class_prior=None, fit_prior=True)"
            ]
          },
          "metadata": {
            "tags": []
          },
          "execution_count": 59
        }
      ]
    },
    {
      "cell_type": "code",
      "metadata": {
        "id": "Icw5opnu04Wp"
      },
      "source": [
        "y_pred3=model3.predict(X_test_tfidf)"
      ],
      "execution_count": 60,
      "outputs": []
    },
    {
      "cell_type": "code",
      "metadata": {
        "colab": {
          "base_uri": "https://localhost:8080/"
        },
        "id": "5vrZfW9707Qa",
        "outputId": "b295acbc-7df8-412a-a195-972b134a3df6"
      },
      "source": [
        "print(accuracy_score(testy,y_pred3))\n",
        "print(classification_report(testy,y_pred3))\n",
        "print(confusion_matrix(testy,y_pred3))\n",
        "print(cohen_kappa_score(testy,y_pred3))"
      ],
      "execution_count": 62,
      "outputs": [
        {
          "output_type": "stream",
          "text": [
            "0.9629629629629629\n",
            "              precision    recall  f1-score   support\n",
            "\n",
            "           0       0.00      0.00      0.00        22\n",
            "           1       0.96      1.00      0.98       572\n",
            "\n",
            "    accuracy                           0.96       594\n",
            "   macro avg       0.48      0.50      0.49       594\n",
            "weighted avg       0.93      0.96      0.94       594\n",
            "\n",
            "[[  0  22]\n",
            " [  0 572]]\n",
            "0.0\n"
          ],
          "name": "stdout"
        }
      ]
    },
    {
      "cell_type": "markdown",
      "metadata": {
        "id": "Zr1UEi0S1KlZ"
      },
      "source": [
        "# Multinomial NB after SMOTE"
      ]
    },
    {
      "cell_type": "code",
      "metadata": {
        "id": "6DomZuq81IWZ"
      },
      "source": [
        "sm=SMOTE(random_state=444)"
      ],
      "execution_count": 64,
      "outputs": []
    },
    {
      "cell_type": "code",
      "metadata": {
        "colab": {
          "base_uri": "https://localhost:8080/"
        },
        "id": "g2ufAV5q1cnK",
        "outputId": "b1a41992-9de4-4df2-b57a-917dfbc45807"
      },
      "source": [
        "model4=MultinomialNB()\n",
        "model4.fit(X_train_res,y_train_res)"
      ],
      "execution_count": 65,
      "outputs": [
        {
          "output_type": "execute_result",
          "data": {
            "text/plain": [
              "MultinomialNB(alpha=1.0, class_prior=None, fit_prior=True)"
            ]
          },
          "metadata": {
            "tags": []
          },
          "execution_count": 65
        }
      ]
    },
    {
      "cell_type": "code",
      "metadata": {
        "id": "jksAhBPP1i5J"
      },
      "source": [
        "y_pred4=model4.predict(X_test_tfidf)"
      ],
      "execution_count": 66,
      "outputs": []
    },
    {
      "cell_type": "code",
      "metadata": {
        "colab": {
          "base_uri": "https://localhost:8080/"
        },
        "id": "PYnsSK9N1onT",
        "outputId": "0e4145f4-607a-4050-8534-b232453b5887"
      },
      "source": [
        "print(accuracy_score(testy,y_pred4))\n",
        "print(classification_report(testy,y_pred4))\n",
        "print(confusion_matrix(testy,y_pred4))\n",
        "print(cohen_kappa_score(testy,y_pred4))"
      ],
      "execution_count": 67,
      "outputs": [
        {
          "output_type": "stream",
          "text": [
            "0.8636363636363636\n",
            "              precision    recall  f1-score   support\n",
            "\n",
            "           0       0.18      0.73      0.28        22\n",
            "           1       0.99      0.87      0.92       572\n",
            "\n",
            "    accuracy                           0.86       594\n",
            "   macro avg       0.58      0.80      0.60       594\n",
            "weighted avg       0.96      0.86      0.90       594\n",
            "\n",
            "[[ 16   6]\n",
            " [ 75 497]]\n",
            "0.23771348902056466\n"
          ],
          "name": "stdout"
        }
      ]
    },
    {
      "cell_type": "markdown",
      "metadata": {
        "id": "osSzKj7T1x-i"
      },
      "source": [
        "# Bernouli NB"
      ]
    },
    {
      "cell_type": "code",
      "metadata": {
        "id": "XT9SWdD3101L"
      },
      "source": [
        "from sklearn.naive_bayes import BernoulliNB"
      ],
      "execution_count": 68,
      "outputs": []
    },
    {
      "cell_type": "code",
      "metadata": {
        "colab": {
          "base_uri": "https://localhost:8080/"
        },
        "id": "VzHqdQ9413Vj",
        "outputId": "d1648534-a757-4925-c04e-d564637ef883"
      },
      "source": [
        "model5=BernoulliNB()\n",
        "model5.fit(X_train_tfidf,trainy)"
      ],
      "execution_count": 69,
      "outputs": [
        {
          "output_type": "execute_result",
          "data": {
            "text/plain": [
              "BernoulliNB(alpha=1.0, binarize=0.0, class_prior=None, fit_prior=True)"
            ]
          },
          "metadata": {
            "tags": []
          },
          "execution_count": 69
        }
      ]
    },
    {
      "cell_type": "code",
      "metadata": {
        "id": "ubOweKqH16NW"
      },
      "source": [
        "y_pred5=model5.predict(X_test_tfidf)"
      ],
      "execution_count": 70,
      "outputs": []
    },
    {
      "cell_type": "code",
      "metadata": {
        "colab": {
          "base_uri": "https://localhost:8080/"
        },
        "id": "FHCAdvWa1-NC",
        "outputId": "5e8054d6-934e-4fb9-bada-8194eef71161"
      },
      "source": [
        "print(accuracy_score(testy,y_pred5))\n",
        "print(classification_report(testy,y_pred5))\n",
        "print(confusion_matrix(testy,y_pred5))\n",
        "print(cohen_kappa_score(testy,y_pred5))"
      ],
      "execution_count": 71,
      "outputs": [
        {
          "output_type": "stream",
          "text": [
            "0.9276094276094277\n",
            "              precision    recall  f1-score   support\n",
            "\n",
            "           0       0.08      0.09      0.09        22\n",
            "           1       0.96      0.96      0.96       572\n",
            "\n",
            "    accuracy                           0.93       594\n",
            "   macro avg       0.52      0.53      0.52       594\n",
            "weighted avg       0.93      0.93      0.93       594\n",
            "\n",
            "[[  2  20]\n",
            " [ 23 549]]\n",
            "0.047579983593109\n"
          ],
          "name": "stdout"
        }
      ]
    },
    {
      "cell_type": "markdown",
      "metadata": {
        "id": "yfDWIPn12DwS"
      },
      "source": [
        "# bernouli NB after SMOTE"
      ]
    },
    {
      "cell_type": "code",
      "metadata": {
        "colab": {
          "base_uri": "https://localhost:8080/"
        },
        "id": "OQpnXu_E2J4Q",
        "outputId": "e5109fdd-0d63-4d10-ff54-65d52f9bc797"
      },
      "source": [
        "model6=BernoulliNB()\n",
        "model6.fit(X_train_res,y_train_res)"
      ],
      "execution_count": 72,
      "outputs": [
        {
          "output_type": "execute_result",
          "data": {
            "text/plain": [
              "BernoulliNB(alpha=1.0, binarize=0.0, class_prior=None, fit_prior=True)"
            ]
          },
          "metadata": {
            "tags": []
          },
          "execution_count": 72
        }
      ]
    },
    {
      "cell_type": "code",
      "metadata": {
        "id": "XOYyqYLg2AnK"
      },
      "source": [
        "y_pred6=model6.predict(X_test_tfidf)"
      ],
      "execution_count": 73,
      "outputs": []
    },
    {
      "cell_type": "code",
      "metadata": {
        "colab": {
          "base_uri": "https://localhost:8080/"
        },
        "id": "T8FLEAbb2SVq",
        "outputId": "4efc9e44-33d9-4c3e-db4f-93b931837670"
      },
      "source": [
        "print(accuracy_score(testy,y_pred6))\n",
        "print(classification_report(testy,y_pred6))\n",
        "print(confusion_matrix(testy,y_pred6))\n",
        "print(cohen_kappa_score(testy,y_pred6))"
      ],
      "execution_count": 74,
      "outputs": [
        {
          "output_type": "stream",
          "text": [
            "0.9494949494949495\n",
            "              precision    recall  f1-score   support\n",
            "\n",
            "           0       0.36      0.45      0.40        22\n",
            "           1       0.98      0.97      0.97       572\n",
            "\n",
            "    accuracy                           0.95       594\n",
            "   macro avg       0.67      0.71      0.69       594\n",
            "weighted avg       0.96      0.95      0.95       594\n",
            "\n",
            "[[ 10  12]\n",
            " [ 18 554]]\n",
            "0.37403400309119006\n"
          ],
          "name": "stdout"
        }
      ]
    },
    {
      "cell_type": "markdown",
      "metadata": {
        "id": "8TxJl8au2d6B"
      },
      "source": [
        "# SVM"
      ]
    },
    {
      "cell_type": "code",
      "metadata": {
        "colab": {
          "base_uri": "https://localhost:8080/"
        },
        "id": "jElwEJav2Wiy",
        "outputId": "04019b90-cbac-4c8f-d351-0c26e2d7360f"
      },
      "source": [
        "from sklearn.svm import LinearSVC\n",
        "model7=LinearSVC()\n",
        "model7.fit(X_train_tfidf,trainy)"
      ],
      "execution_count": 75,
      "outputs": [
        {
          "output_type": "execute_result",
          "data": {
            "text/plain": [
              "LinearSVC(C=1.0, class_weight=None, dual=True, fit_intercept=True,\n",
              "          intercept_scaling=1, loss='squared_hinge', max_iter=1000,\n",
              "          multi_class='ovr', penalty='l2', random_state=None, tol=0.0001,\n",
              "          verbose=0)"
            ]
          },
          "metadata": {
            "tags": []
          },
          "execution_count": 75
        }
      ]
    },
    {
      "cell_type": "code",
      "metadata": {
        "id": "Q04SqPr_2qyD"
      },
      "source": [
        "y_pred7=model7.predict(X_test_tfidf)"
      ],
      "execution_count": 76,
      "outputs": []
    },
    {
      "cell_type": "code",
      "metadata": {
        "colab": {
          "base_uri": "https://localhost:8080/"
        },
        "id": "cbeCUvpd2tVm",
        "outputId": "0bd1dad4-8d96-4ca1-8324-138c3db9375b"
      },
      "source": [
        "print(accuracy_score(testy,y_pred7))\n",
        "print(classification_report(testy,y_pred7))\n",
        "print(confusion_matrix(testy,y_pred7))\n",
        "print(cohen_kappa_score(testy,y_pred7))"
      ],
      "execution_count": 77,
      "outputs": [
        {
          "output_type": "stream",
          "text": [
            "0.9696969696969697\n",
            "              precision    recall  f1-score   support\n",
            "\n",
            "           0       0.67      0.36      0.47        22\n",
            "           1       0.98      0.99      0.98       572\n",
            "\n",
            "    accuracy                           0.97       594\n",
            "   macro avg       0.82      0.68      0.73       594\n",
            "weighted avg       0.96      0.97      0.97       594\n",
            "\n",
            "[[  8  14]\n",
            " [  4 568]]\n",
            "0.4563758389261745\n"
          ],
          "name": "stdout"
        }
      ]
    },
    {
      "cell_type": "markdown",
      "metadata": {
        "id": "pYSRaNdZ3LbT"
      },
      "source": [
        "# SVM after SMOTE"
      ]
    },
    {
      "cell_type": "code",
      "metadata": {
        "colab": {
          "base_uri": "https://localhost:8080/"
        },
        "id": "-BKtyVjF2w7t",
        "outputId": "1f8c7ee1-f34d-4b05-c179-bced46e181ea"
      },
      "source": [
        "model8=LinearSVC()\n",
        "model8.fit(X_train_res,y_train_res)"
      ],
      "execution_count": 78,
      "outputs": [
        {
          "output_type": "execute_result",
          "data": {
            "text/plain": [
              "LinearSVC(C=1.0, class_weight=None, dual=True, fit_intercept=True,\n",
              "          intercept_scaling=1, loss='squared_hinge', max_iter=1000,\n",
              "          multi_class='ovr', penalty='l2', random_state=None, tol=0.0001,\n",
              "          verbose=0)"
            ]
          },
          "metadata": {
            "tags": []
          },
          "execution_count": 78
        }
      ]
    },
    {
      "cell_type": "code",
      "metadata": {
        "id": "_X1UpBeN3T_T"
      },
      "source": [
        "y_pred8=model8.predict(X_test_tfidf)"
      ],
      "execution_count": 79,
      "outputs": []
    },
    {
      "cell_type": "code",
      "metadata": {
        "colab": {
          "base_uri": "https://localhost:8080/"
        },
        "id": "3Vt0xgsz3Wuj",
        "outputId": "f0ade59d-c2e4-4770-806b-211891b0c41b"
      },
      "source": [
        "print(accuracy_score(testy,y_pred8))\n",
        "print(classification_report(testy,y_pred8))\n",
        "print(confusion_matrix(testy,y_pred8))\n",
        "print(cohen_kappa_score(testy,y_pred8))"
      ],
      "execution_count": 80,
      "outputs": [
        {
          "output_type": "stream",
          "text": [
            "0.8838383838383839\n",
            "              precision    recall  f1-score   support\n",
            "\n",
            "           0       0.18      0.59      0.27        22\n",
            "           1       0.98      0.90      0.94       572\n",
            "\n",
            "    accuracy                           0.88       594\n",
            "   macro avg       0.58      0.74      0.61       594\n",
            "weighted avg       0.95      0.88      0.91       594\n",
            "\n",
            "[[ 13   9]\n",
            " [ 60 512]]\n",
            "0.22984704423315405\n"
          ],
          "name": "stdout"
        }
      ]
    },
    {
      "cell_type": "markdown",
      "metadata": {
        "id": "9ZL_X1eg3q1b"
      },
      "source": [
        "# Decision Tree"
      ]
    },
    {
      "cell_type": "code",
      "metadata": {
        "colab": {
          "base_uri": "https://localhost:8080/"
        },
        "id": "hmUTX45I3cIi",
        "outputId": "c8921918-403c-4e56-b375-6058382d9ae2"
      },
      "source": [
        "from sklearn.tree import DecisionTreeClassifier\n",
        "model9=DecisionTreeClassifier(criterion='entropy')\n",
        "model9.fit(X_train_tfidf,trainy)"
      ],
      "execution_count": 81,
      "outputs": [
        {
          "output_type": "execute_result",
          "data": {
            "text/plain": [
              "DecisionTreeClassifier(ccp_alpha=0.0, class_weight=None, criterion='entropy',\n",
              "                       max_depth=None, max_features=None, max_leaf_nodes=None,\n",
              "                       min_impurity_decrease=0.0, min_impurity_split=None,\n",
              "                       min_samples_leaf=1, min_samples_split=2,\n",
              "                       min_weight_fraction_leaf=0.0, presort='deprecated',\n",
              "                       random_state=None, splitter='best')"
            ]
          },
          "metadata": {
            "tags": []
          },
          "execution_count": 81
        }
      ]
    },
    {
      "cell_type": "code",
      "metadata": {
        "id": "7yavgg-Z3iIr"
      },
      "source": [
        "y_pred9=model9.predict(X_test_tfidf)"
      ],
      "execution_count": 82,
      "outputs": []
    },
    {
      "cell_type": "code",
      "metadata": {
        "colab": {
          "base_uri": "https://localhost:8080/"
        },
        "id": "00B2h5Wt3lhC",
        "outputId": "45350e7e-3875-4652-eced-a536c2c5fb08"
      },
      "source": [
        "print(accuracy_score(testy,y_pred9))\n",
        "print(classification_report(testy,y_pred9))\n",
        "print(confusion_matrix(testy,y_pred9))\n",
        "print(cohen_kappa_score(testy,y_pred9))"
      ],
      "execution_count": 83,
      "outputs": [
        {
          "output_type": "stream",
          "text": [
            "0.9511784511784511\n",
            "              precision    recall  f1-score   support\n",
            "\n",
            "           0       0.35      0.36      0.36        22\n",
            "           1       0.98      0.97      0.97       572\n",
            "\n",
            "    accuracy                           0.95       594\n",
            "   macro avg       0.66      0.67      0.67       594\n",
            "weighted avg       0.95      0.95      0.95       594\n",
            "\n",
            "[[  8  14]\n",
            " [ 15 557]]\n",
            "0.330196749358426\n"
          ],
          "name": "stdout"
        }
      ]
    },
    {
      "cell_type": "markdown",
      "metadata": {
        "id": "sQd5ylnH3yRg"
      },
      "source": [
        "# Decision Tree after SMOTE"
      ]
    },
    {
      "cell_type": "code",
      "metadata": {
        "colab": {
          "base_uri": "https://localhost:8080/"
        },
        "id": "glSXZxBB33E-",
        "outputId": "879e000b-74a0-4f36-b2ad-e84e2b939429"
      },
      "source": [
        "model10=DecisionTreeClassifier(criterion='entropy')\n",
        "model10.fit(X_train_res,y_train_res)"
      ],
      "execution_count": 84,
      "outputs": [
        {
          "output_type": "execute_result",
          "data": {
            "text/plain": [
              "DecisionTreeClassifier(ccp_alpha=0.0, class_weight=None, criterion='entropy',\n",
              "                       max_depth=None, max_features=None, max_leaf_nodes=None,\n",
              "                       min_impurity_decrease=0.0, min_impurity_split=None,\n",
              "                       min_samples_leaf=1, min_samples_split=2,\n",
              "                       min_weight_fraction_leaf=0.0, presort='deprecated',\n",
              "                       random_state=None, splitter='best')"
            ]
          },
          "metadata": {
            "tags": []
          },
          "execution_count": 84
        }
      ]
    },
    {
      "cell_type": "code",
      "metadata": {
        "id": "RQWsC9Ds36ez"
      },
      "source": [
        "y_pred10=model10.predict(X_test_tfidf)"
      ],
      "execution_count": 85,
      "outputs": []
    },
    {
      "cell_type": "code",
      "metadata": {
        "colab": {
          "base_uri": "https://localhost:8080/"
        },
        "id": "zs9dFWj439z7",
        "outputId": "ef2fa76d-fd9d-42b8-9488-50311a88f2a0"
      },
      "source": [
        "print(accuracy_score(testy,y_pred10))\n",
        "print(classification_report(testy,y_pred10))\n",
        "print(confusion_matrix(testy,y_pred10))\n",
        "print(cohen_kappa_score(testy,y_pred10))"
      ],
      "execution_count": 86,
      "outputs": [
        {
          "output_type": "stream",
          "text": [
            "0.8804713804713805\n",
            "              precision    recall  f1-score   support\n",
            "\n",
            "           0       0.16      0.55      0.25        22\n",
            "           1       0.98      0.89      0.94       572\n",
            "\n",
            "    accuracy                           0.88       594\n",
            "   macro avg       0.57      0.72      0.59       594\n",
            "weighted avg       0.95      0.88      0.91       594\n",
            "\n",
            "[[ 12  10]\n",
            " [ 61 511]]\n",
            "0.20752377015295564\n"
          ],
          "name": "stdout"
        }
      ]
    },
    {
      "cell_type": "markdown",
      "metadata": {
        "id": "XBNOVdDY4EZu"
      },
      "source": [
        "# Neural Networks"
      ]
    },
    {
      "cell_type": "code",
      "metadata": {
        "colab": {
          "base_uri": "https://localhost:8080/"
        },
        "id": "zUAqJuLd4RcM",
        "outputId": "f423d5ed-f6f6-4eba-8b62-5974dfba7a0a"
      },
      "source": [
        "! pip install scikit-neuralnetwork "
      ],
      "execution_count": 88,
      "outputs": [
        {
          "output_type": "stream",
          "text": [
            "Collecting scikit-neuralnetwork\n",
            "  Downloading https://files.pythonhosted.org/packages/dd/37/bfc84fc1b1bfc7364f564469cf76d90336accf16087dfd5a1bf589bd1dd9/scikit-neuralnetwork-0.7.tar.gz\n",
            "Requirement already satisfied: scikit-learn>=0.17 in /usr/local/lib/python3.7/dist-packages (from scikit-neuralnetwork) (0.22.2.post1)\n",
            "Collecting Theano>=0.8\n",
            "\u001b[?25l  Downloading https://files.pythonhosted.org/packages/6b/97/bcd5654ba60f35f180931afabbd3b4c46c0379852f961c7a2819ff897f5d/Theano-1.0.5.tar.gz (2.8MB)\n",
            "\u001b[K     |████████████████████████████████| 2.8MB 16.5MB/s \n",
            "\u001b[?25hCollecting Lasagne>=0.1\n",
            "\u001b[?25l  Downloading https://files.pythonhosted.org/packages/98/bf/4b2336e4dbc8c8859c4dd81b1cff18eef2066b4973a1bd2b0ca2e5435f35/Lasagne-0.1.tar.gz (125kB)\n",
            "\u001b[K     |████████████████████████████████| 133kB 43.0MB/s \n",
            "\u001b[?25hRequirement already satisfied: scipy>=0.17.0 in /usr/local/lib/python3.7/dist-packages (from scikit-learn>=0.17->scikit-neuralnetwork) (1.4.1)\n",
            "Requirement already satisfied: joblib>=0.11 in /usr/local/lib/python3.7/dist-packages (from scikit-learn>=0.17->scikit-neuralnetwork) (1.0.1)\n",
            "Requirement already satisfied: numpy>=1.11.0 in /usr/local/lib/python3.7/dist-packages (from scikit-learn>=0.17->scikit-neuralnetwork) (1.19.5)\n",
            "Requirement already satisfied: six>=1.9.0 in /usr/local/lib/python3.7/dist-packages (from Theano>=0.8->scikit-neuralnetwork) (1.15.0)\n",
            "Building wheels for collected packages: scikit-neuralnetwork, Theano, Lasagne\n",
            "  Building wheel for scikit-neuralnetwork (setup.py) ... \u001b[?25l\u001b[?25hdone\n",
            "  Created wheel for scikit-neuralnetwork: filename=scikit_neuralnetwork-0.7-cp37-none-any.whl size=41698 sha256=3d631e1363ba4c214fd4aff1f5753cc5bd1cce028c5bf0a499e1b9cc0aad1305\n",
            "  Stored in directory: /root/.cache/pip/wheels/7a/2c/db/ad3c876767bfdaf955ede9b7c0315a99abb12c0bdd2a469eff\n",
            "  Building wheel for Theano (setup.py) ... \u001b[?25l\u001b[?25hdone\n",
            "  Created wheel for Theano: filename=Theano-1.0.5-cp37-none-any.whl size=2668111 sha256=ec69b846ed23a08cd05bd235e7d810de97702ba8144f06a452b211819ca86505\n",
            "  Stored in directory: /root/.cache/pip/wheels/89/40/74/3a0b7d937890c66c4373120117ebf4ba99f4889b4a0a6a810c\n",
            "  Building wheel for Lasagne (setup.py) ... \u001b[?25l\u001b[?25hdone\n",
            "  Created wheel for Lasagne: filename=Lasagne-0.1-cp37-none-any.whl size=79284 sha256=2f36e39d1491b03ea3a11c353c1952c8b11cb4352d6b7ad88a76a08e2902d6ff\n",
            "  Stored in directory: /root/.cache/pip/wheels/a5/8e/31/b4cae7e5507f8582e77d7f5cf2815be8820ccacfa0519ca60c\n",
            "Successfully built scikit-neuralnetwork Theano Lasagne\n",
            "Installing collected packages: Theano, Lasagne, scikit-neuralnetwork\n",
            "Successfully installed Lasagne-0.1 Theano-1.0.5 scikit-neuralnetwork-0.7\n"
          ],
          "name": "stdout"
        }
      ]
    },
    {
      "cell_type": "code",
      "metadata": {
        "id": "l7QoglmU4Aqc"
      },
      "source": [
        "from sklearn.neural_network import MLPClassifier"
      ],
      "execution_count": 89,
      "outputs": []
    },
    {
      "cell_type": "code",
      "metadata": {
        "colab": {
          "base_uri": "https://localhost:8080/"
        },
        "id": "5O4cYN0Y4Ilj",
        "outputId": "0b0b9e0f-b681-4d68-e70e-bae3d89f9676"
      },
      "source": [
        "model11=MLPClassifier(hidden_layer_sizes=(5,5))\n",
        "model11.fit(X_train_tfidf,trainy)"
      ],
      "execution_count": 90,
      "outputs": [
        {
          "output_type": "execute_result",
          "data": {
            "text/plain": [
              "MLPClassifier(activation='relu', alpha=0.0001, batch_size='auto', beta_1=0.9,\n",
              "              beta_2=0.999, early_stopping=False, epsilon=1e-08,\n",
              "              hidden_layer_sizes=(5, 5), learning_rate='constant',\n",
              "              learning_rate_init=0.001, max_fun=15000, max_iter=200,\n",
              "              momentum=0.9, n_iter_no_change=10, nesterovs_momentum=True,\n",
              "              power_t=0.5, random_state=None, shuffle=True, solver='adam',\n",
              "              tol=0.0001, validation_fraction=0.1, verbose=False,\n",
              "              warm_start=False)"
            ]
          },
          "metadata": {
            "tags": []
          },
          "execution_count": 90
        }
      ]
    },
    {
      "cell_type": "code",
      "metadata": {
        "id": "TC9FziDq4ZWz"
      },
      "source": [
        "y_pred11=model11.predict(X_test_tfidf)"
      ],
      "execution_count": 91,
      "outputs": []
    },
    {
      "cell_type": "code",
      "metadata": {
        "colab": {
          "base_uri": "https://localhost:8080/"
        },
        "id": "EHad4Moi4b6r",
        "outputId": "73023377-d485-4b9e-d2da-0e43a0f7a10a"
      },
      "source": [
        "print(accuracy_score(testy,y_pred11))\n",
        "print(classification_report(testy,y_pred11))\n",
        "print(confusion_matrix(testy,y_pred11))\n",
        "print(cohen_kappa_score(testy,y_pred11))"
      ],
      "execution_count": 92,
      "outputs": [
        {
          "output_type": "stream",
          "text": [
            "0.9074074074074074\n",
            "              precision    recall  f1-score   support\n",
            "\n",
            "           0       0.21      0.55      0.30        22\n",
            "           1       0.98      0.92      0.95       572\n",
            "\n",
            "    accuracy                           0.91       594\n",
            "   macro avg       0.60      0.73      0.63       594\n",
            "weighted avg       0.95      0.91      0.93       594\n",
            "\n",
            "[[ 12  10]\n",
            " [ 45 527]]\n",
            "0.2644873699851411\n"
          ],
          "name": "stdout"
        }
      ]
    },
    {
      "cell_type": "markdown",
      "metadata": {
        "id": "E_-07oCL4jvA"
      },
      "source": [
        "# Neural Network after SMOTE"
      ]
    },
    {
      "cell_type": "code",
      "metadata": {
        "colab": {
          "base_uri": "https://localhost:8080/"
        },
        "id": "0pqr4jKF4o59",
        "outputId": "0d7dd797-12db-48bc-d6ec-08d79a272cea"
      },
      "source": [
        "model12=MLPClassifier(hidden_layer_sizes=(5,5))\n",
        "model12.fit(X_train_res,y_train_res)"
      ],
      "execution_count": 93,
      "outputs": [
        {
          "output_type": "execute_result",
          "data": {
            "text/plain": [
              "MLPClassifier(activation='relu', alpha=0.0001, batch_size='auto', beta_1=0.9,\n",
              "              beta_2=0.999, early_stopping=False, epsilon=1e-08,\n",
              "              hidden_layer_sizes=(5, 5), learning_rate='constant',\n",
              "              learning_rate_init=0.001, max_fun=15000, max_iter=200,\n",
              "              momentum=0.9, n_iter_no_change=10, nesterovs_momentum=True,\n",
              "              power_t=0.5, random_state=None, shuffle=True, solver='adam',\n",
              "              tol=0.0001, validation_fraction=0.1, verbose=False,\n",
              "              warm_start=False)"
            ]
          },
          "metadata": {
            "tags": []
          },
          "execution_count": 93
        }
      ]
    },
    {
      "cell_type": "code",
      "metadata": {
        "id": "jD_ox0J24t2f"
      },
      "source": [
        "y_pred12=model12.predict(X_test_tfidf)\n"
      ],
      "execution_count": 94,
      "outputs": []
    },
    {
      "cell_type": "code",
      "metadata": {
        "colab": {
          "base_uri": "https://localhost:8080/"
        },
        "id": "QvSFfRPO4ytD",
        "outputId": "dd38e00f-c49c-4f17-bebb-4330a20d9cca"
      },
      "source": [
        "print(accuracy_score(testy,y_pred12))\n",
        "print(classification_report(testy,y_pred12))\n",
        "print(confusion_matrix(testy,y_pred12))\n",
        "print(cohen_kappa_score(testy,y_pred12))"
      ],
      "execution_count": 95,
      "outputs": [
        {
          "output_type": "stream",
          "text": [
            "0.8821548821548821\n",
            "              precision    recall  f1-score   support\n",
            "\n",
            "           0       0.19      0.68      0.30        22\n",
            "           1       0.99      0.89      0.94       572\n",
            "\n",
            "    accuracy                           0.88       594\n",
            "   macro avg       0.59      0.79      0.62       594\n",
            "weighted avg       0.96      0.88      0.91       594\n",
            "\n",
            "[[ 15   7]\n",
            " [ 63 509]]\n",
            "0.2570754716981133\n"
          ],
          "name": "stdout"
        }
      ]
    }
  ]
}